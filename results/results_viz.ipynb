{
 "cells": [
  {
   "cell_type": "markdown",
   "id": "5548eb70",
   "metadata": {},
   "source": [
    "This notebook is used for visualizing the results.\n",
    "\n",
    "### Main results"
   ]
  },
  {
   "cell_type": "code",
   "execution_count": null,
   "id": "9a210de9",
   "metadata": {
    "vscode": {
     "languageId": "plaintext"
    }
   },
   "outputs": [],
   "source": []
  }
 ],
 "metadata": {
  "language_info": {
   "name": "python"
  }
 },
 "nbformat": 4,
 "nbformat_minor": 5
}
