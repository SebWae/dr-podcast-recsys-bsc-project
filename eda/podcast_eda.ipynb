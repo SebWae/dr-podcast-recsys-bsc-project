{
 "cells": [
  {
   "cell_type": "code",
   "execution_count": 55,
   "metadata": {},
   "outputs": [],
   "source": [
    "from collections import Counter\n",
    "import json\n",
    "\n",
    "import matplotlib.pyplot as plt\n",
    "import numpy as np\n",
    "import pandas as pd\n",
    "from scipy.stats import norm, skew"
   ]
  },
  {
   "cell_type": "code",
   "execution_count": 9,
   "metadata": {},
   "outputs": [],
   "source": [
    "# option to view entire pandas outputs \n",
    "# pd.set_option('display.max_rows', None)\n",
    "\n",
    "# line of code to cancel the above display setting\n",
    "# pd.reset_option('all')"
   ]
  },
  {
   "cell_type": "markdown",
   "metadata": {},
   "source": [
    "### Threshold for number of plays per episode\n",
    "Checking how many unique episodes and interactions will be filtered away for different thresholds.  "
   ]
  },
  {
   "cell_type": "code",
   "execution_count": null,
   "metadata": {},
   "outputs": [
    {
     "name": "stdout",
     "output_type": "stream",
     "text": [
      "prd_number\n",
      "19388840413    1\n",
      "13332195418    1\n",
      "14202412454    1\n",
      "14202412456    1\n",
      "14202410465    1\n",
      "13332195424    1\n",
      "13332195425    1\n",
      "13332195426    1\n",
      "13332195427    1\n",
      "14202410481    1\n",
      "Name: user_id, dtype: int64\n",
      "Number of unique episodes: 22596\n",
      "   threshold  episode%  interaction%\n",
      "0          5  0.648212      0.995035\n",
      "1         10  0.527438      0.988822\n",
      "2         20  0.382767      0.973514\n",
      "3         50  0.210878      0.932505\n"
     ]
    }
   ],
   "source": [
    "# loading filtered data\n",
    "df = pd.read_parquet('../data/podcast_data_filtered.parquet')\n",
    "\n",
    "# total number of interactions\n",
    "n_interactions = len(df)\n",
    "\n",
    "# grouping by prd_number and counting the number of appearances\n",
    "prd_grp_df = df.groupby('prd_number')['user_id'].count().sort_values(ascending=True)\n",
    "print(prd_grp_df.head(10))\n",
    "n_episodes = len(prd_grp_df)\n",
    "print(f\"Number of unique episodes: {n_episodes}\")\n",
    "\n",
    "# testing different thresholds\n",
    "thresholds = [5, 10, 20, 50]\n",
    "\n",
    "episode_threshold_data = {\"threshold\": thresholds,\n",
    "                          \"episode%\": [],\n",
    "                          \"interaction%\": [],\n",
    "                          }\n",
    "\n",
    "# testing the thresholds\n",
    "for threshold in thresholds:\n",
    "    # filtering the DataFrame based on the threshold\n",
    "    filtered_df = df[df['prd_number'].isin(prd_grp_df[prd_grp_df >= threshold].index)]\n",
    "\n",
    "    # calculating the percentage of episodes and interactions\n",
    "    episode_percentage = len(filtered_df['prd_number'].unique()) / n_episodes\n",
    "    interaction_percentage = len(filtered_df) / n_interactions\n",
    "\n",
    "    # appending the results to the data dictionary\n",
    "    episode_threshold_data[\"episode%\"].append(episode_percentage)\n",
    "    episode_threshold_data[\"interaction%\"].append(interaction_percentage)\n",
    "\n",
    "# generating a dataframe from the gathered data on episodes\n",
    "episode_threshold_df = pd.DataFrame(episode_threshold_data)\n",
    "print(episode_threshold_df)"
   ]
  },
  {
   "cell_type": "code",
   "execution_count": 15,
   "metadata": {},
   "outputs": [
    {
     "data": {
      "application/vnd.microsoft.datawrangler.viewer.v0+json": {
       "columns": [
        {
         "name": "index",
         "rawType": "int64",
         "type": "integer"
        },
        {
         "name": "user_id",
         "rawType": "object",
         "type": "string"
        },
        {
         "name": "prd_number",
         "rawType": "object",
         "type": "string"
        },
        {
         "name": "date_time",
         "rawType": "datetime64[ns]",
         "type": "datetime"
        },
        {
         "name": "series_title",
         "rawType": "object",
         "type": "string"
        },
        {
         "name": "unique_title",
         "rawType": "object",
         "type": "string"
        },
        {
         "name": "platform",
         "rawType": "object",
         "type": "string"
        },
        {
         "name": "device_type",
         "rawType": "object",
         "type": "string"
        },
        {
         "name": "pub_date",
         "rawType": "object",
         "type": "string"
        },
        {
         "name": "episode_duration",
         "rawType": "float64",
         "type": "float"
        },
        {
         "name": "genre",
         "rawType": "object",
         "type": "unknown"
        },
        {
         "name": "branding_channel",
         "rawType": "object",
         "type": "unknown"
        },
        {
         "name": "mother_channel",
         "rawType": "object",
         "type": "unknown"
        },
        {
         "name": "category",
         "rawType": "object",
         "type": "string"
        },
        {
         "name": "content_time_spent",
         "rawType": "int64",
         "type": "integer"
        }
       ],
       "conversionMethod": "pd.DataFrame",
       "ref": "7d1a4b9b-bf37-4b9c-b35a-4a22cd13e8b8",
       "rows": [
        [
         "0",
         "000065a7ec329b0fc01a779ead0e8d38d987b070300113baba4a120437b07858",
         "11032421443",
         "2024-11-01 08:56:00",
         "Brinkmanns briks",
         "Brinkmanns briks: Vi skal tale om pillerne_11032421443",
         "web",
         "Other",
         "2024-10-30",
         "3422.0",
         "Fakta og debat",
         "DR P1",
         "DR P1",
         "Oplysning og kultur",
         "3423"
        ],
        [
         "1",
         "000065a7ec329b0fc01a779ead0e8d38d987b070300113baba4a120437b07858",
         "11032422442",
         "2024-11-01 11:19:00",
         "Hjernekassen på P1",
         "Hjernekassen på P1: Forebyggelse_11032422442",
         "web",
         "Other",
         "2024-10-29",
         "3363.0",
         "Fakta og debat",
         "DR P1",
         "DR P1",
         "Oplysning og kultur",
         "359"
        ],
        [
         "2",
         "000065a7ec329b0fc01a779ead0e8d38d987b070300113baba4a120437b07858",
         "11162405447",
         "2024-11-01 09:53:00",
         "Ubegribeligt",
         "Ubegribeligt: Vand_11162405447",
         "web",
         "Other",
         "2024-10-31",
         "3417.0",
         "Fakta og debat",
         "DR P1",
         "DR P1",
         "Aktualitet og debat",
         "5160"
        ],
        [
         "3",
         "000065a7ec329b0fc01a779ead0e8d38d987b070300113baba4a120437b07858",
         "11802437044",
         "2024-11-01 08:40:00",
         "Stjerner og striber",
         "Stjerner og striber: Joken, der ikke vil dø_11802437044",
         "web",
         "Other",
         "2024-11-01",
         "2847.0",
         "Aktualitet",
         "DR P1",
         "-",
         "Nyheder",
         "2847"
        ],
        [
         "4",
         "000065a7ec329b0fc01a779ead0e8d38d987b070300113baba4a120437b07858",
         "11802451178",
         "2024-11-01 09:27:00",
         "Tiden",
         "Tiden: Skraldemanden Trump, spansk oversvømmelse og ben-erstatninger_11802451178",
         "web",
         "Other",
         "2024-11-01",
         "947.0",
         "Nyheder",
         "DR Lyd",
         "-",
         "Nyheder",
         "610"
        ],
        [
         "5",
         "000065a7ec329b0fc01a779ead0e8d38d987b070300113baba4a120437b07858",
         "16122446634",
         "2024-11-01 08:41:00",
         "FONK! Det er podcast",
         "FONK! Det er podcast_16122446634",
         "mobile web",
         "Mobile Phone",
         "2024-10-19",
         "5499.0",
         "Musik",
         "P4 Fælles",
         "-",
         "Underholdning",
         "5512"
        ],
        [
         "6",
         "000065a7ec329b0fc01a779ead0e8d38d987b070300113baba4a120437b07858",
         "16122446635",
         "2024-11-01 10:13:00",
         "FONK! Det er podcast",
         "FONK! Det er podcast_16122446635",
         "mobile web",
         "Mobile Phone",
         "2024-10-26",
         "6911.0",
         "Musik",
         "P4 Fælles",
         "-",
         "Underholdning",
         "306"
        ],
        [
         "7",
         "00006ebcb47524d0f3c1dd0e943caec47ad95b21cf8fd011751d05d7dd9adb44",
         "11032429001",
         "2024-11-16 17:53:00",
         "Indersiden med Viktor Fischer",
         "Indersiden med Viktor Fischer: Homofobiske skodhoveder_11032429001",
         "app",
         "Mobile Phone",
         "2024-10-28",
         "2331.0",
         "Fakta og debat",
         "DR Lyd",
         "-",
         "Oplysning og kultur",
         "70"
        ],
        [
         "8",
         "00017f19ae7fd188a0237592c4ca3003efd0fad60a7e899920fef6f9aaa79d16",
         "11032421383",
         "2024-11-02 21:46:00",
         "Brinkmanns briks",
         "Brinkmanns briks: Aflys mistrivselskrisen_11032421383",
         "app",
         "Mobile Phone",
         "2024-09-18",
         "3371.0",
         "Fakta og debat",
         "DR P1",
         "DR P1",
         "Oplysning og kultur",
         "2365"
        ],
        [
         "9",
         "00017f19ae7fd188a0237592c4ca3003efd0fad60a7e899920fef6f9aaa79d16",
         "11032422392",
         "2024-09-28 18:29:00",
         "Hjernekassen på P1",
         "Hjernekassen på P1: OCD_11032422392",
         "app",
         "Mobile Phone",
         "2024-09-24",
         "3365.0",
         "Fakta og debat",
         "DR P1",
         "DR P1",
         "Oplysning og kultur",
         "1332"
        ],
        [
         "10",
         "00017f19ae7fd188a0237592c4ca3003efd0fad60a7e899920fef6f9aaa79d16",
         "11032422412",
         "2024-11-02 17:45:00",
         "Hjernekassen på P1",
         "Hjernekassen på P1: Spækhuggere_11032422412",
         "app",
         "Mobile Phone",
         "2024-10-08",
         "3366.0",
         "Fakta og debat",
         "DR P1",
         "DR P1",
         "Oplysning og kultur",
         "3397"
        ],
        [
         "11",
         "00017f19ae7fd188a0237592c4ca3003efd0fad60a7e899920fef6f9aaa79d16",
         "11032422422",
         "2024-11-02 21:44:00",
         "Hjernekassen på P1",
         "Hjernekassen på P1: De gemte børn_11032422422",
         "app",
         "Mobile Phone",
         "2024-10-15",
         "3372.0",
         "Fakta og debat",
         "DR P1",
         "DR P1",
         "Oplysning og kultur",
         "71"
        ],
        [
         "12",
         "00017f19ae7fd188a0237592c4ca3003efd0fad60a7e899920fef6f9aaa79d16",
         "11162405397",
         "2024-09-28 18:55:00",
         "Ubegribeligt",
         "Ubegribeligt: Kakao_11162405397",
         "app",
         "Mobile Phone",
         "2024-09-26",
         "3427.0",
         "Fakta og debat",
         "DR P1",
         "DR P1",
         "Aktualitet og debat",
         "1691"
        ],
        [
         "13",
         "00017f19ae7fd188a0237592c4ca3003efd0fad60a7e899920fef6f9aaa79d16",
         "11162405427",
         "2024-11-01 21:25:00",
         "Ubegribeligt",
         "Ubegribeligt: Vulkaner_11162405427",
         "app",
         "Mobile Phone",
         "2024-10-17",
         "3423.0",
         "Fakta og debat",
         "DR P1",
         "DR P1",
         "Aktualitet og debat",
         "1521"
        ],
        [
         "14",
         "00017f19ae7fd188a0237592c4ca3003efd0fad60a7e899920fef6f9aaa79d16",
         "11162405447",
         "2024-11-09 12:11:00",
         "Ubegribeligt",
         "Ubegribeligt: Vand_11162405447",
         "app",
         "Mobile Phone",
         "2024-10-31",
         "3417.0",
         "Fakta og debat",
         "DR P1",
         "DR P1",
         "Aktualitet og debat",
         "1094"
        ],
        [
         "15",
         "00017f19ae7fd188a0237592c4ca3003efd0fad60a7e899920fef6f9aaa79d16",
         "11802450353",
         "2024-09-04 16:30:00",
         "Genstart",
         "Genstart: Simonas fængsel_11802450353",
         "app",
         "Mobile Phone",
         "2024-08-28",
         "1530.0",
         "Aktualitet",
         "DR Lyd",
         "-",
         "Nyheder",
         "1372"
        ],
        [
         "16",
         "00017f19ae7fd188a0237592c4ca3003efd0fad60a7e899920fef6f9aaa79d16",
         "11802450361",
         "2024-09-04 17:20:00",
         "Genstart",
         "Genstart: En mærkelig regering_11802450361",
         "app",
         "Mobile Phone",
         "2024-09-02",
         "1420.0",
         "Aktualitet",
         "DR Lyd",
         "DR P1",
         "Nyheder",
         "1019"
        ],
        [
         "17",
         "00017f19ae7fd188a0237592c4ca3003efd0fad60a7e899920fef6f9aaa79d16",
         "11802450393",
         "2024-10-01 19:55:00",
         "Genstart",
         "Genstart: Maries kunstige krop_11802450393",
         "app",
         "Mobile Phone",
         "2024-09-25",
         "1528.0",
         "Aktualitet",
         "DR Lyd",
         "DR P1",
         "Nyheder",
         "833"
        ],
        [
         "18",
         "00017f19ae7fd188a0237592c4ca3003efd0fad60a7e899920fef6f9aaa79d16",
         "11802450402",
         "2024-10-01 15:32:00",
         "Genstart",
         "Genstart: Diez og bedraget_11802450402",
         "app",
         "Mobile Phone",
         "2024-10-01",
         "1826.0",
         "Aktualitet",
         "DR Lyd",
         "DR P1",
         "Nyheder",
         "1819"
        ],
        [
         "19",
         "00017f19ae7fd188a0237592c4ca3003efd0fad60a7e899920fef6f9aaa79d16",
         "11802451161",
         "2024-10-01 17:21:00",
         "Tiden",
         "Tiden: Moderat mareridtsmåling, den næste Nasrallah og en Walz med Vance_11802451161",
         "app",
         "Mobile Phone",
         "2024-10-01",
         "919.0",
         "Nyheder",
         "DR Lyd",
         "-",
         "Nyheder",
         "579"
        ],
        [
         "20",
         "00017f19ae7fd188a0237592c4ca3003efd0fad60a7e899920fef6f9aaa79d16",
         "16122492455",
         "2024-10-11 14:59:00",
         "Fængsel",
         "Fængsel: I kvindefængsel i Panama_16122492455",
         "app",
         "Mobile Phone",
         "2024-10-10",
         "3136.0",
         "Fakta og debat",
         "DR Lyd",
         "-",
         "Oplysning og kultur",
         "1075"
        ],
        [
         "21",
         "00018423377c14104870be7deda65daaa9dbc7b97f89a8d2f0702173d48e7739",
         "11032400013",
         "2024-11-07 14:12:00",
         "Sofie og de nye tider",
         "Sofie og de nye tider: Ditte Giese - Hvorfor har unge ikke sex?_11032400013",
         "app",
         "Mobile Phone",
         "2024-10-09",
         "2671.0",
         "Fakta og debat",
         "DR Lyd",
         "-",
         "Oplysning og kultur",
         "2600"
        ],
        [
         "22",
         "00018423377c14104870be7deda65daaa9dbc7b97f89a8d2f0702173d48e7739",
         "11032400014",
         "2024-11-06 15:44:00",
         "Sofie og de nye tider",
         "Sofie og de nye tider: Lone Frank - Hvorfor er det stærkt at være svag?_11032400014",
         "app",
         "Mobile Phone",
         "2024-10-16",
         "2470.0",
         "Fakta og debat",
         "DR Lyd",
         "-",
         "Oplysning og kultur",
         "1567"
        ],
        [
         "23",
         "00018423377c14104870be7deda65daaa9dbc7b97f89a8d2f0702173d48e7739",
         "11032411381",
         "2024-09-19 12:12:00",
         "Supertanker",
         "Supertanker: Verdens vilde problemer_11032411381",
         "app",
         "Mobile Phone",
         "2024-09-16",
         "3368.0",
         "Fakta og debat",
         "DR P1",
         "DR P1",
         "Oplysning og kultur",
         "3076"
        ],
        [
         "24",
         "00018423377c14104870be7deda65daaa9dbc7b97f89a8d2f0702173d48e7739",
         "11032415442",
         "2024-10-29 12:29:00",
         "Kampen om historien",
         "Kampen om historien: Vietnamkrigen - USA's største traume_11032415442",
         "app",
         "Mobile Phone",
         "2024-10-29",
         "3412.0",
         "Historie",
         "DR P1",
         "DR P1",
         "Oplysning og kultur",
         "3242"
        ],
        [
         "25",
         "00018423377c14104870be7deda65daaa9dbc7b97f89a8d2f0702173d48e7739",
         "11032419011",
         "2024-10-29 10:40:00",
         "Det' en klassiker",
         "Det' en klassiker: Rune Lykkeberg: Macbeth_11032419011",
         "app",
         "Mobile Phone",
         "2024-10-29",
         "2037.0",
         "Kultur",
         "DR P1",
         "-",
         "Oplysning og kultur",
         "1988"
        ],
        [
         "26",
         "00018423377c14104870be7deda65daaa9dbc7b97f89a8d2f0702173d48e7739",
         "11032421433",
         "2024-10-24 10:43:00",
         "Brinkmanns briks",
         "Brinkmanns briks: Er vi allesammen lidt autistiske?_11032421433",
         "app",
         "Mobile Phone",
         "2024-10-23",
         "3416.0",
         "Fakta og debat",
         "DR P1",
         "DR P1",
         "Oplysning og kultur",
         "3510"
        ],
        [
         "27",
         "00018423377c14104870be7deda65daaa9dbc7b97f89a8d2f0702173d48e7739",
         "11032421463",
         "2024-11-16 12:01:00",
         "Brinkmanns briks",
         "Brinkmanns briks: Kan kloge mennesker løse verdens problemer, hvis de får lov?_11032421463",
         "app",
         "Mobile Phone",
         "2024-11-13",
         "3421.0",
         "Fakta og debat",
         "DR P1",
         "DR P1",
         "Oplysning og kultur",
         "1441"
        ],
        [
         "28",
         "00018423377c14104870be7deda65daaa9dbc7b97f89a8d2f0702173d48e7739",
         "11042408466",
         "2024-11-17 19:24:00",
         "Ditlev og dæmonerne",
         "Ditlev og dæmonerne: Fyret på gråt papir_11042408466",
         "app",
         "Mobile Phone",
         "2024-11-16",
         "3394.0",
         "Kultur",
         "DR P1",
         "DR P1",
         "Oplysning og kultur",
         "2379"
        ],
        [
         "29",
         "00018423377c14104870be7deda65daaa9dbc7b97f89a8d2f0702173d48e7739",
         "11162220516",
         "2024-11-27 11:00:00",
         "Ubegribeligt",
         "Ubegribeligt - Religion_11162220516",
         "app",
         "Mobile Phone",
         "2022-12-22",
         "2708.0",
         "Fakta og debat",
         "DR P1",
         "DR P1",
         "Aktualitet og debat",
         "693"
        ],
        [
         "30",
         "00018423377c14104870be7deda65daaa9dbc7b97f89a8d2f0702173d48e7739",
         "11162402405",
         "2024-10-09 13:47:00",
         "Tabloid",
         "Tabloid: Privatlivets fred og fodbold på Fyn_11162402405",
         "app",
         "Mobile Phone",
         "2024-10-04",
         "3365.0",
         "Fakta og debat",
         "DR P1",
         "DR P1",
         "Aktualitet og debat",
         "3405"
        ],
        [
         "31",
         "00018423377c14104870be7deda65daaa9dbc7b97f89a8d2f0702173d48e7739",
         "11162405387",
         "2024-09-25 15:44:00",
         "Ubegribeligt",
         "Ubegribeligt: Demokrati_11162405387",
         "app",
         "Mobile Phone",
         "2024-09-19",
         "3427.0",
         "Fakta og debat",
         "DR P1",
         "DR P1",
         "Aktualitet og debat",
         "1782"
        ],
        [
         "32",
         "00018423377c14104870be7deda65daaa9dbc7b97f89a8d2f0702173d48e7739",
         "11162405427",
         "2024-10-22 11:29:00",
         "Ubegribeligt",
         "Ubegribeligt: Vulkaner_11162405427",
         "app",
         "Mobile Phone",
         "2024-10-17",
         "3423.0",
         "Fakta og debat",
         "DR P1",
         "DR P1",
         "Aktualitet og debat",
         "266"
        ],
        [
         "33",
         "00018423377c14104870be7deda65daaa9dbc7b97f89a8d2f0702173d48e7739",
         "11162407386",
         "2024-09-25 16:14:00",
         "Damerne først",
         "Damerne først: Sexlysten, der blev væk_11162407386",
         "app",
         "Mobile Phone",
         "2024-09-21",
         "3459.0",
         "Fakta og debat",
         "DR P1",
         "DR P1",
         "Aktualitet og debat",
         "3032"
        ],
        [
         "34",
         "00018423377c14104870be7deda65daaa9dbc7b97f89a8d2f0702173d48e7739",
         "11802401162",
         "2024-09-02 13:33:00",
         "Udsyn",
         "Udsyn: Det afrikanske forår?_11802401162",
         "app",
         "Mobile Phone",
         "2024-09-02",
         "1647.0",
         "Nyheder",
         "DR P1",
         "DR P1",
         "Aktualitet og debat",
         "1477"
        ],
        [
         "35",
         "00018423377c14104870be7deda65daaa9dbc7b97f89a8d2f0702173d48e7739",
         "11802401178",
         "2024-10-28 14:12:00",
         "Udsyn",
         "Udsyn: Pax Kina_11802401178",
         "app",
         "Mobile Phone",
         "2024-10-28",
         "1679.0",
         "Nyheder",
         "DR P1",
         "DR P1",
         "Aktualitet og debat",
         "1667"
        ],
        [
         "36",
         "00018423377c14104870be7deda65daaa9dbc7b97f89a8d2f0702173d48e7739",
         "11802401187",
         "2024-11-28 12:19:00",
         "Udsyn",
         "Udsyn: Det menneskelige mørke_11802401187",
         "app",
         "Mobile Phone",
         "2024-11-28",
         "1586.0",
         "Nyheder",
         "DR P1",
         "DR P1",
         "Aktualitet og debat",
         "1476"
        ],
        [
         "37",
         "00018423377c14104870be7deda65daaa9dbc7b97f89a8d2f0702173d48e7739",
         "11802450442",
         "2024-10-29 16:42:00",
         "Genstart",
         "Genstart: Den mørke side af bolden_11802450442",
         "app",
         "Mobile Phone",
         "2024-10-29",
         "1560.0",
         "Aktualitet",
         "DR Lyd",
         "DR P1",
         "Nyheder",
         "1546"
        ],
        [
         "38",
         "00018423377c14104870be7deda65daaa9dbc7b97f89a8d2f0702173d48e7739",
         "11802450447",
         "2024-11-04 15:33:00",
         "Genstart",
         "Genstart: Dolol After Dark_11802450447",
         "app",
         "Mobile Phone",
         "2024-11-03",
         "1684.0",
         "Aktualitet",
         "DR Lyd",
         "-",
         "Nyheder",
         "1676"
        ],
        [
         "39",
         "00018423377c14104870be7deda65daaa9dbc7b97f89a8d2f0702173d48e7739",
         "13332496171",
         "2024-10-22 08:05:00",
         "Hvem er...",
         "Hvem er Simon Kvamm? 1:6_13332496171",
         "app",
         "Mobile Phone",
         "2024-10-22",
         "1739.0",
         "Unge",
         "P3",
         "-",
         "Musik",
         "1739"
        ],
        [
         "40",
         "00018423377c14104870be7deda65daaa9dbc7b97f89a8d2f0702173d48e7739",
         "13332496172",
         "2024-10-22 08:34:00",
         "Hvem er...",
         "Hvem er Simon Kvamm? 2:6_13332496172",
         "app",
         "Mobile Phone",
         "2024-10-22",
         "2155.0",
         "Unge",
         "P3",
         "-",
         "Musik",
         "2155"
        ],
        [
         "41",
         "0001aa4ece44d291ec62b3a024b260660b8f3122d14214d7f0e60ddc16af8c04",
         "13332496237",
         "2024-09-18 08:24:00",
         "Hemmeligheder",
         "Hemmeligheder: Olivia Salo_13332496237",
         "app",
         "Mobile Phone",
         "2024-09-15",
         "3277.0",
         "Unge",
         "P3",
         "-",
         "Oplysning og kultur",
         "783"
        ],
        [
         "42",
         "0001aa4ece44d291ec62b3a024b260660b8f3122d14214d7f0e60ddc16af8c04",
         "16122494407",
         "2024-09-18 07:16:00",
         "Gift ved første blik podcasten",
         "Gift ved første blik podcasten: Se Venedig og dø - Nina og Katrine_16122494407",
         "app",
         "Mobile Phone",
         "2024-09-12",
         "3534.0",
         "Livsstil",
         "DR Lyd",
         "-",
         "Oplysning og kultur",
         "3534"
        ],
        [
         "43",
         "00020470e16f2560df11850867dfa11019125c8db0212ecdef94cfea4a6931d7",
         "11162401355",
         "2024-09-03 12:08:00",
         "P1 Debat",
         "P1 Debat: Ligestilling rundt i manegen?_11162401355",
         "app",
         "Mobile Phone",
         "2024-08-30",
         "4301.0",
         "Fakta og debat",
         "DR P1",
         "DR P1",
         "Aktualitet og debat",
         "4292"
        ],
        [
         "44",
         "00020470e16f2560df11850867dfa11019125c8db0212ecdef94cfea4a6931d7",
         "11162401362",
         "2024-09-06 09:14:00",
         "P1 Debat",
         "P1 Debat: Hjem fra Syrien?_11162401362",
         "app",
         "Mobile Phone",
         "2024-09-03",
         "4303.0",
         "Fakta og debat",
         "DR P1",
         "DR P1",
         "Aktualitet og debat",
         "24228"
        ],
        [
         "45",
         "00020470e16f2560df11850867dfa11019125c8db0212ecdef94cfea4a6931d7",
         "11162401363",
         "2024-09-04 20:01:00",
         "P1 Debat",
         "P1 Debat: Løkkes rivegilde?_11162401363",
         "app",
         "Mobile Phone",
         "2024-09-04",
         "4297.0",
         "Fakta og debat",
         "DR P1",
         "DR P1",
         "Aktualitet og debat",
         "4045"
        ],
        [
         "46",
         "00020470e16f2560df11850867dfa11019125c8db0212ecdef94cfea4a6931d7",
         "11162401374",
         "2024-09-13 21:27:00",
         "P1 Debat",
         "P1 Debat: Flextid for de få?_11162401374",
         "app",
         "Mobile Phone",
         "2024-09-12",
         "4308.0",
         "Fakta og debat",
         "DR P1",
         "DR P1",
         "Aktualitet og debat",
         "4304"
        ],
        [
         "47",
         "00020470e16f2560df11850867dfa11019125c8db0212ecdef94cfea4a6931d7",
         "11162401375",
         "2024-09-13 22:53:00",
         "P1 Debat",
         "P1 Debat: Er vi for uproduktive?_11162401375",
         "app",
         "Mobile Phone",
         "2024-09-13",
         "4297.0",
         "Fakta og debat",
         "DR P1",
         "DR P1",
         "Aktualitet og debat",
         "995"
        ],
        [
         "48",
         "00020470e16f2560df11850867dfa11019125c8db0212ecdef94cfea4a6931d7",
         "11162401383",
         "2024-09-19 12:41:00",
         "P1 Debat",
         "P1 Debat: Plads til Palæstinas Plads?_11162401383",
         "app",
         "Mobile Phone",
         "2024-09-18",
         "4300.0",
         "Fakta og debat",
         "DR P1",
         "DR P1",
         "Aktualitet og debat",
         "3203"
        ],
        [
         "49",
         "00020470e16f2560df11850867dfa11019125c8db0212ecdef94cfea4a6931d7",
         "11162401385",
         "2024-09-24 18:34:00",
         "P1 Debat",
         "P1 Debat: Novo Nordisk - for fed en magt?_11162401385",
         "app",
         "Mobile Phone",
         "2024-09-20",
         "4308.0",
         "Fakta og debat",
         "DR P1",
         "DR P1",
         "Aktualitet og debat",
         "4102"
        ]
       ],
       "shape": {
        "columns": 14,
        "rows": 2783412
       }
      },
      "text/html": [
       "<div>\n",
       "<style scoped>\n",
       "    .dataframe tbody tr th:only-of-type {\n",
       "        vertical-align: middle;\n",
       "    }\n",
       "\n",
       "    .dataframe tbody tr th {\n",
       "        vertical-align: top;\n",
       "    }\n",
       "\n",
       "    .dataframe thead th {\n",
       "        text-align: right;\n",
       "    }\n",
       "</style>\n",
       "<table border=\"1\" class=\"dataframe\">\n",
       "  <thead>\n",
       "    <tr style=\"text-align: right;\">\n",
       "      <th></th>\n",
       "      <th>user_id</th>\n",
       "      <th>prd_number</th>\n",
       "      <th>date_time</th>\n",
       "      <th>series_title</th>\n",
       "      <th>unique_title</th>\n",
       "      <th>platform</th>\n",
       "      <th>device_type</th>\n",
       "      <th>pub_date</th>\n",
       "      <th>episode_duration</th>\n",
       "      <th>genre</th>\n",
       "      <th>branding_channel</th>\n",
       "      <th>mother_channel</th>\n",
       "      <th>category</th>\n",
       "      <th>content_time_spent</th>\n",
       "    </tr>\n",
       "  </thead>\n",
       "  <tbody>\n",
       "    <tr>\n",
       "      <th>0</th>\n",
       "      <td>000065a7ec329b0fc01a779ead0e8d38d987b070300113...</td>\n",
       "      <td>11032421443</td>\n",
       "      <td>2024-11-01 08:56:00</td>\n",
       "      <td>Brinkmanns briks</td>\n",
       "      <td>Brinkmanns briks: Vi skal tale om pillerne_110...</td>\n",
       "      <td>web</td>\n",
       "      <td>Other</td>\n",
       "      <td>2024-10-30</td>\n",
       "      <td>3422.0</td>\n",
       "      <td>Fakta og debat</td>\n",
       "      <td>DR P1</td>\n",
       "      <td>DR P1</td>\n",
       "      <td>Oplysning og kultur</td>\n",
       "      <td>3423</td>\n",
       "    </tr>\n",
       "    <tr>\n",
       "      <th>1</th>\n",
       "      <td>000065a7ec329b0fc01a779ead0e8d38d987b070300113...</td>\n",
       "      <td>11032422442</td>\n",
       "      <td>2024-11-01 11:19:00</td>\n",
       "      <td>Hjernekassen på P1</td>\n",
       "      <td>Hjernekassen på P1: Forebyggelse_11032422442</td>\n",
       "      <td>web</td>\n",
       "      <td>Other</td>\n",
       "      <td>2024-10-29</td>\n",
       "      <td>3363.0</td>\n",
       "      <td>Fakta og debat</td>\n",
       "      <td>DR P1</td>\n",
       "      <td>DR P1</td>\n",
       "      <td>Oplysning og kultur</td>\n",
       "      <td>359</td>\n",
       "    </tr>\n",
       "    <tr>\n",
       "      <th>2</th>\n",
       "      <td>000065a7ec329b0fc01a779ead0e8d38d987b070300113...</td>\n",
       "      <td>11162405447</td>\n",
       "      <td>2024-11-01 09:53:00</td>\n",
       "      <td>Ubegribeligt</td>\n",
       "      <td>Ubegribeligt: Vand_11162405447</td>\n",
       "      <td>web</td>\n",
       "      <td>Other</td>\n",
       "      <td>2024-10-31</td>\n",
       "      <td>3417.0</td>\n",
       "      <td>Fakta og debat</td>\n",
       "      <td>DR P1</td>\n",
       "      <td>DR P1</td>\n",
       "      <td>Aktualitet og debat</td>\n",
       "      <td>5160</td>\n",
       "    </tr>\n",
       "    <tr>\n",
       "      <th>3</th>\n",
       "      <td>000065a7ec329b0fc01a779ead0e8d38d987b070300113...</td>\n",
       "      <td>11802437044</td>\n",
       "      <td>2024-11-01 08:40:00</td>\n",
       "      <td>Stjerner og striber</td>\n",
       "      <td>Stjerner og striber: Joken, der ikke vil dø_11...</td>\n",
       "      <td>web</td>\n",
       "      <td>Other</td>\n",
       "      <td>2024-11-01</td>\n",
       "      <td>2847.0</td>\n",
       "      <td>Aktualitet</td>\n",
       "      <td>DR P1</td>\n",
       "      <td>-</td>\n",
       "      <td>Nyheder</td>\n",
       "      <td>2847</td>\n",
       "    </tr>\n",
       "    <tr>\n",
       "      <th>4</th>\n",
       "      <td>000065a7ec329b0fc01a779ead0e8d38d987b070300113...</td>\n",
       "      <td>11802451178</td>\n",
       "      <td>2024-11-01 09:27:00</td>\n",
       "      <td>Tiden</td>\n",
       "      <td>Tiden: Skraldemanden Trump, spansk oversvømmel...</td>\n",
       "      <td>web</td>\n",
       "      <td>Other</td>\n",
       "      <td>2024-11-01</td>\n",
       "      <td>947.0</td>\n",
       "      <td>Nyheder</td>\n",
       "      <td>DR Lyd</td>\n",
       "      <td>-</td>\n",
       "      <td>Nyheder</td>\n",
       "      <td>610</td>\n",
       "    </tr>\n",
       "    <tr>\n",
       "      <th>...</th>\n",
       "      <td>...</td>\n",
       "      <td>...</td>\n",
       "      <td>...</td>\n",
       "      <td>...</td>\n",
       "      <td>...</td>\n",
       "      <td>...</td>\n",
       "      <td>...</td>\n",
       "      <td>...</td>\n",
       "      <td>...</td>\n",
       "      <td>...</td>\n",
       "      <td>...</td>\n",
       "      <td>...</td>\n",
       "      <td>...</td>\n",
       "      <td>...</td>\n",
       "    </tr>\n",
       "    <tr>\n",
       "      <th>2984871</th>\n",
       "      <td>ffff0a69d7706029f27aaa2f8d70e9dd619df0584a5422...</td>\n",
       "      <td>11802450454</td>\n",
       "      <td>2024-11-10 20:40:00</td>\n",
       "      <td>Genstart</td>\n",
       "      <td>Genstart: Trumps nye guldalder_11802450454</td>\n",
       "      <td>app</td>\n",
       "      <td>Mobile Phone</td>\n",
       "      <td>2024-11-07</td>\n",
       "      <td>1711.0</td>\n",
       "      <td>Aktualitet</td>\n",
       "      <td>DR Lyd</td>\n",
       "      <td>DR P1</td>\n",
       "      <td>Nyheder</td>\n",
       "      <td>1702</td>\n",
       "    </tr>\n",
       "    <tr>\n",
       "      <th>2984872</th>\n",
       "      <td>ffff0a69d7706029f27aaa2f8d70e9dd619df0584a5422...</td>\n",
       "      <td>11802450467</td>\n",
       "      <td>2024-11-29 11:09:00</td>\n",
       "      <td>Genstart</td>\n",
       "      <td>Genstart: Usikker sex_11802450467</td>\n",
       "      <td>app</td>\n",
       "      <td>Mobile Phone</td>\n",
       "      <td>2024-11-17</td>\n",
       "      <td>1478.0</td>\n",
       "      <td>Aktualitet</td>\n",
       "      <td>DR Lyd</td>\n",
       "      <td>-</td>\n",
       "      <td>Nyheder</td>\n",
       "      <td>1476</td>\n",
       "    </tr>\n",
       "    <tr>\n",
       "      <th>2984873</th>\n",
       "      <td>ffff0a69d7706029f27aaa2f8d70e9dd619df0584a5422...</td>\n",
       "      <td>11802450474</td>\n",
       "      <td>2024-11-21 08:36:00</td>\n",
       "      <td>Genstart</td>\n",
       "      <td>Genstart: En nuklear kædereaktion_11802450474</td>\n",
       "      <td>app</td>\n",
       "      <td>Mobile Phone</td>\n",
       "      <td>2024-11-21</td>\n",
       "      <td>1327.0</td>\n",
       "      <td>Aktualitet</td>\n",
       "      <td>DR Lyd</td>\n",
       "      <td>DR P1</td>\n",
       "      <td>Nyheder</td>\n",
       "      <td>1328</td>\n",
       "    </tr>\n",
       "    <tr>\n",
       "      <th>2984874</th>\n",
       "      <td>ffff0a69d7706029f27aaa2f8d70e9dd619df0584a5422...</td>\n",
       "      <td>11802450482</td>\n",
       "      <td>2024-11-29 11:36:00</td>\n",
       "      <td>Genstart</td>\n",
       "      <td>Genstart: Miss MAGA_11802450482</td>\n",
       "      <td>app</td>\n",
       "      <td>Mobile Phone</td>\n",
       "      <td>2024-11-26</td>\n",
       "      <td>1396.0</td>\n",
       "      <td>Aktualitet</td>\n",
       "      <td>DR Lyd</td>\n",
       "      <td>DR P1</td>\n",
       "      <td>Nyheder</td>\n",
       "      <td>1169</td>\n",
       "    </tr>\n",
       "    <tr>\n",
       "      <th>2984875</th>\n",
       "      <td>ffff0a69d7706029f27aaa2f8d70e9dd619df0584a5422...</td>\n",
       "      <td>13332496220</td>\n",
       "      <td>2024-11-29 09:54:00</td>\n",
       "      <td>Hemmeligheder</td>\n",
       "      <td>Hemmeligheder: Mattias Kolstrup_13332496220</td>\n",
       "      <td>app</td>\n",
       "      <td>Mobile Phone</td>\n",
       "      <td>2024-05-19</td>\n",
       "      <td>3605.0</td>\n",
       "      <td>Unge</td>\n",
       "      <td>P3</td>\n",
       "      <td>-</td>\n",
       "      <td>Oplysning og kultur</td>\n",
       "      <td>481</td>\n",
       "    </tr>\n",
       "  </tbody>\n",
       "</table>\n",
       "<p>2783412 rows × 14 columns</p>\n",
       "</div>"
      ],
      "text/plain": [
       "                                                   user_id   prd_number  \\\n",
       "0        000065a7ec329b0fc01a779ead0e8d38d987b070300113...  11032421443   \n",
       "1        000065a7ec329b0fc01a779ead0e8d38d987b070300113...  11032422442   \n",
       "2        000065a7ec329b0fc01a779ead0e8d38d987b070300113...  11162405447   \n",
       "3        000065a7ec329b0fc01a779ead0e8d38d987b070300113...  11802437044   \n",
       "4        000065a7ec329b0fc01a779ead0e8d38d987b070300113...  11802451178   \n",
       "...                                                    ...          ...   \n",
       "2984871  ffff0a69d7706029f27aaa2f8d70e9dd619df0584a5422...  11802450454   \n",
       "2984872  ffff0a69d7706029f27aaa2f8d70e9dd619df0584a5422...  11802450467   \n",
       "2984873  ffff0a69d7706029f27aaa2f8d70e9dd619df0584a5422...  11802450474   \n",
       "2984874  ffff0a69d7706029f27aaa2f8d70e9dd619df0584a5422...  11802450482   \n",
       "2984875  ffff0a69d7706029f27aaa2f8d70e9dd619df0584a5422...  13332496220   \n",
       "\n",
       "                  date_time         series_title  \\\n",
       "0       2024-11-01 08:56:00     Brinkmanns briks   \n",
       "1       2024-11-01 11:19:00   Hjernekassen på P1   \n",
       "2       2024-11-01 09:53:00         Ubegribeligt   \n",
       "3       2024-11-01 08:40:00  Stjerner og striber   \n",
       "4       2024-11-01 09:27:00                Tiden   \n",
       "...                     ...                  ...   \n",
       "2984871 2024-11-10 20:40:00             Genstart   \n",
       "2984872 2024-11-29 11:09:00             Genstart   \n",
       "2984873 2024-11-21 08:36:00             Genstart   \n",
       "2984874 2024-11-29 11:36:00             Genstart   \n",
       "2984875 2024-11-29 09:54:00        Hemmeligheder   \n",
       "\n",
       "                                              unique_title platform  \\\n",
       "0        Brinkmanns briks: Vi skal tale om pillerne_110...      web   \n",
       "1             Hjernekassen på P1: Forebyggelse_11032422442      web   \n",
       "2                           Ubegribeligt: Vand_11162405447      web   \n",
       "3        Stjerner og striber: Joken, der ikke vil dø_11...      web   \n",
       "4        Tiden: Skraldemanden Trump, spansk oversvømmel...      web   \n",
       "...                                                    ...      ...   \n",
       "2984871         Genstart: Trumps nye guldalder_11802450454      app   \n",
       "2984872                  Genstart: Usikker sex_11802450467      app   \n",
       "2984873      Genstart: En nuklear kædereaktion_11802450474      app   \n",
       "2984874                    Genstart: Miss MAGA_11802450482      app   \n",
       "2984875        Hemmeligheder: Mattias Kolstrup_13332496220      app   \n",
       "\n",
       "          device_type    pub_date  episode_duration           genre  \\\n",
       "0               Other  2024-10-30            3422.0  Fakta og debat   \n",
       "1               Other  2024-10-29            3363.0  Fakta og debat   \n",
       "2               Other  2024-10-31            3417.0  Fakta og debat   \n",
       "3               Other  2024-11-01            2847.0      Aktualitet   \n",
       "4               Other  2024-11-01             947.0         Nyheder   \n",
       "...               ...         ...               ...             ...   \n",
       "2984871  Mobile Phone  2024-11-07            1711.0      Aktualitet   \n",
       "2984872  Mobile Phone  2024-11-17            1478.0      Aktualitet   \n",
       "2984873  Mobile Phone  2024-11-21            1327.0      Aktualitet   \n",
       "2984874  Mobile Phone  2024-11-26            1396.0      Aktualitet   \n",
       "2984875  Mobile Phone  2024-05-19            3605.0            Unge   \n",
       "\n",
       "        branding_channel mother_channel             category  \\\n",
       "0                  DR P1          DR P1  Oplysning og kultur   \n",
       "1                  DR P1          DR P1  Oplysning og kultur   \n",
       "2                  DR P1          DR P1  Aktualitet og debat   \n",
       "3                  DR P1              -              Nyheder   \n",
       "4                 DR Lyd              -              Nyheder   \n",
       "...                  ...            ...                  ...   \n",
       "2984871           DR Lyd          DR P1              Nyheder   \n",
       "2984872           DR Lyd              -              Nyheder   \n",
       "2984873           DR Lyd          DR P1              Nyheder   \n",
       "2984874           DR Lyd          DR P1              Nyheder   \n",
       "2984875               P3              -  Oplysning og kultur   \n",
       "\n",
       "         content_time_spent  \n",
       "0                      3423  \n",
       "1                       359  \n",
       "2                      5160  \n",
       "3                      2847  \n",
       "4                       610  \n",
       "...                     ...  \n",
       "2984871                1702  \n",
       "2984872                1476  \n",
       "2984873                1328  \n",
       "2984874                1169  \n",
       "2984875                 481  \n",
       "\n",
       "[2783412 rows x 14 columns]"
      ]
     },
     "execution_count": 15,
     "metadata": {},
     "output_type": "execute_result"
    }
   ],
   "source": [
    "filtered_df"
   ]
  },
  {
   "cell_type": "markdown",
   "metadata": {},
   "source": [
    "It might be reasonable to filter away episodes with less than 10 plays, as this will keep more than half of the episodes (52.7%) in the training data, while still keeping 98.9% of the interactions. "
   ]
  },
  {
   "cell_type": "markdown",
   "metadata": {},
   "source": [
    "### Popularity Bias\n",
    "Comparison of the distribution of plays per episode in the training data and the distribution of recommendations for each recommender."
   ]
  },
  {
   "cell_type": "code",
   "execution_count": 24,
   "metadata": {},
   "outputs": [
    {
     "data": {
      "image/png": "[encoded data removed]",
      "text/plain": [
       "<Figure size 1000x600 with 1 Axes>"
      ]
     },
     "metadata": {},
     "output_type": "display_data"
    }
   ],
   "source": [
    "# loading training data\n",
    "train_df = pd.read_parquet('../data/podcast_data_train.parquet')\n",
    "\n",
    "# counting occurrences of each prd_number\n",
    "prd_counts = train_df['prd_number'].value_counts()\n",
    "\n",
    "# plotting the prd_numbers against their occurrences\n",
    "plt.figure(figsize=(10, 6))\n",
    "prd_counts.plot(kind='bar', color='skyblue')\n",
    "\n",
    "# adding title and labels\n",
    "plt.title('Plays per episode in the training set')\n",
    "plt.xlabel('prd_number')\n",
    "plt.ylabel('Plays')\n",
    "\n",
    "# removing x-axis ticks\n",
    "plt.xticks([], []) \n",
    "\n",
    "# adjusting layout and show the plot\n",
    "plt.tight_layout()\n",
    "plt.show()"
   ]
  },
  {
   "cell_type": "code",
   "execution_count": 26,
   "metadata": {},
   "outputs": [
    {
     "data": {
      "image/png": "[encoded data removed]",
      "text/plain": [
       "<Figure size 1400x600 with 1 Axes>"
      ]
     },
     "metadata": {},
     "output_type": "display_data"
    }
   ],
   "source": [
    "# Specify the path to your JSON file\n",
    "file_path = \"../results/recommendations.json\"\n",
    "\n",
    "# Open and load the JSON file\n",
    "with open(file_path, \"r\") as file:\n",
    "    data = json.load(file)\n",
    "\n",
    "recommendations = data[\"cf_recommendations\"]\n",
    "\n",
    "# Flatten all recommended episodes\n",
    "all_episodes = [episode for rec_list in recommendations.values() for episode in rec_list]\n",
    "\n",
    "# Count recommended episodes\n",
    "episode_counts = Counter(all_episodes)\n",
    "\n",
    "# Get all episodes from train_df\n",
    "all_prd_numbers = train_df[\"prd_number\"].unique().astype(str)  # make sure they are strings\n",
    "\n",
    "# Ensure all episodes are in the count dictionary (with 0 if not present)\n",
    "for ep in all_prd_numbers:\n",
    "    episode_counts.setdefault(ep, 0)\n",
    "\n",
    "# Sort by descending count\n",
    "sorted_episodes = episode_counts.most_common()\n",
    "\n",
    "# Unpack for plotting\n",
    "episodes, counts = zip(*sorted_episodes)\n",
    "\n",
    "# Plotting\n",
    "plt.figure(figsize=(14, 6))\n",
    "plt.bar(episodes, counts)\n",
    "\n",
    "# removing x-axis ticks\n",
    "plt.xticks([], []) \n",
    "\n",
    "# adding labels, title, and adjusting layout\n",
    "plt.xlabel(\"prd_number\")\n",
    "plt.ylabel(\"Number of Recommendations\")\n",
    "plt.title(\"Recommendations per episode\")\n",
    "plt.tight_layout()\n",
    "plt.show()\n"
   ]
  },
  {
   "cell_type": "markdown",
   "metadata": {},
   "source": [
    "Measuring the skewness of the two distributions:"
   ]
  },
  {
   "cell_type": "code",
   "execution_count": null,
   "metadata": {},
   "outputs": [
    {
     "name": "stdout",
     "output_type": "stream",
     "text": [
      "Skewness of the distribution of plays: 6.9403960176365675\n",
      "Skewness of the distribution of recommendations: 31.228998360009815\n"
     ]
    }
   ],
   "source": [
    "# skewness of the distribution of plays in the training set\n",
    "plays_skewness = skew(prd_counts.values)\n",
    "print(f\"Skewness of the distribution of plays: {plays_skewness}\")\n",
    "\n",
    "# skewness of the distribution of recommendations\n",
    "recommendation_skewness = skew(counts)\n",
    "print(f\"Skewness of the distribution of recommendations: {recommendation_skewness}\")"
   ]
  },
  {
   "cell_type": "markdown",
   "metadata": {},
   "source": [
    "Computing Z-score for significance testing (Z-test):"
   ]
  },
  {
   "cell_type": "code",
   "execution_count": 57,
   "metadata": {},
   "outputs": [
    {
     "name": "stdout",
     "output_type": "stream",
     "text": [
      "Z-score: 4.185202992039988\n",
      "P-value: 2.849113777680934e-05\n"
     ]
    }
   ],
   "source": [
    "# using bootstrapping to estimate the standard deviation of the skewness\n",
    "np.random.seed(250500)\n",
    "\n",
    "def bootstrap_ses(data, n_bootstrap=1000):\n",
    "    skew_samples = []\n",
    "    for _ in range(n_bootstrap):\n",
    "        sample = np.random.choice(data, size=len(data), replace=True)\n",
    "        skew_samples.append(skew(sample))\n",
    "    return np.std(skew_samples)\n",
    "\n",
    "ses_model = bootstrap_ses(counts)\n",
    "ses_observed = bootstrap_ses(prd_counts.values)\n",
    "\n",
    "z = (recommendation_skewness - plays_skewness) / np.sqrt(ses_model**2 + ses_observed**2)\n",
    "print(f\"Z-score: {z}\")\n",
    "\n",
    "# computing the two-tailed p-value\n",
    "p_value = 2 * (1 - norm.cdf(abs(z)))\n",
    "print(f\"P-value: {p_value}\")"
   ]
  },
  {
   "cell_type": "markdown",
   "metadata": {},
   "source": [
    "### Original EDA (to be refined)"
   ]
  },
  {
   "cell_type": "markdown",
   "metadata": {},
   "source": [
    "Checking data types of each variable:"
   ]
  },
  {
   "cell_type": "code",
   "execution_count": 10,
   "metadata": {},
   "outputs": [
    {
     "data": {
      "text/plain": [
       "UserID Visit (evar95)                   object\n",
       "Production Number (evar35)              object\n",
       "Serietitel                              object\n",
       "Unik titel                              object\n",
       "Platform (evar13)                       object\n",
       "Mobile Device Type                      object\n",
       "Content Type (revar3)                   object\n",
       "Første Streaming Dato                   object\n",
       "Video Length                             int64\n",
       "Genre                                   object\n",
       "Branding Kanal                          object\n",
       "Moder Kanal                             object\n",
       "Kategori                                object\n",
       "Content Time Spent (revent1)             int64\n",
       "date                            datetime64[ns]\n",
       "time                                    object\n",
       "completion_rate                        float64\n",
       "dtype: object"
      ]
     },
     "execution_count": 10,
     "metadata": {},
     "output_type": "execute_result"
    }
   ],
   "source": [
    "transformed_df.dtypes"
   ]
  },
  {
   "cell_type": "markdown",
   "metadata": {},
   "source": [
    "Summary statistics:"
   ]
  },
  {
   "cell_type": "code",
   "execution_count": 11,
   "metadata": {},
   "outputs": [
    {
     "name": "stdout",
     "output_type": "stream",
     "text": [
      "Number of uniques: \n",
      "- Users:\t144001\n",
      "- Series:\t617\n",
      "- Episodes:\t22589\n",
      "\n",
      "\n",
      "Summary of video length:\n",
      "count   3,648,664.00\n",
      "mean        2,845.20\n",
      "std         1,970.15\n",
      "min            21.00\n",
      "25%         1,560.00\n",
      "50%         2,277.00\n",
      "75%         3,421.00\n",
      "max        28,620.00\n",
      "Name: Video Length, dtype: float64\n",
      "\n",
      "\n",
      "Summary of content time spent:\n",
      "count   3,648,664.00\n",
      "mean        1,601.92\n",
      "std         1,561.12\n",
      "min            61.00\n",
      "25%           652.00\n",
      "50%         1,388.00\n",
      "75%         2,038.00\n",
      "max       426,294.00\n",
      "Name: Content Time Spent (revent1), dtype: float64\n",
      "\n",
      "\n",
      "Summary of completion rate:\n",
      "count   3,648,664.00\n",
      "mean            0.63\n",
      "std             0.36\n",
      "min             0.00\n",
      "25%             0.28\n",
      "50%             0.71\n",
      "75%             1.00\n",
      "max             1.00\n",
      "Name: completion_rate, dtype: float64\n",
      "\n",
      "\n"
     ]
    }
   ],
   "source": [
    "# display floats as they are instead of in scientific notation (e.g. e+04)\n",
    "pd.options.display.float_format = '{:,.2f}'.format\n",
    "\n",
    "# counting distinct users, series, and episodes\n",
    "n_users = transformed_df[\"UserID Visit (evar95)\"].nunique()\n",
    "n_series = transformed_df[\"Serietitel\"].nunique()\n",
    "n_episodes = transformed_df[\"Production Number (evar35)\"].nunique()\n",
    "print(f\"Number of uniques: \\n- Users:\\t{n_users}\\n- Series:\\t{n_series}\\n- Episodes:\\t{n_episodes}\")\n",
    "\n",
    "# numerical summaries of video length \n",
    "duration_summary = transformed_df[\"Video Length\"].describe()\n",
    "print(\"\\n\")\n",
    "print(\"Summary of video length:\")\n",
    "print(duration_summary)\n",
    "print(\"\\n\")\n",
    "\n",
    "# numerical summary of content time spent \n",
    "time_spent_summary = transformed_df[\"Content Time Spent (revent1)\"].describe()\n",
    "print(\"Summary of content time spent:\")\n",
    "print(time_spent_summary)\n",
    "print(\"\\n\")\n",
    "\n",
    "# numerical summary of completion rate\n",
    "completion_summary = transformed_df[\"completion_rate\"].describe()\n",
    "print(\"Summary of completion rate:\")\n",
    "print(completion_summary)\n",
    "print(\"\\n\")"
   ]
  },
  {
   "cell_type": "markdown",
   "metadata": {},
   "source": [
    "Unique listeners per episode:"
   ]
  },
  {
   "cell_type": "code",
   "execution_count": 12,
   "metadata": {},
   "outputs": [
    {
     "name": "stdout",
     "output_type": "stream",
     "text": [
      "        prd_number  unique_listeners\n",
      "0      11802450402             12758\n",
      "1      16122492630             11725\n",
      "2      16122493781             10275\n",
      "3      16122493791             10084\n",
      "4      16122492631              9928\n",
      "...            ...               ...\n",
      "22584  14302408403                 1\n",
      "22585  14302408406                 1\n",
      "22586  14302408407                 1\n",
      "22587  14302408423                 1\n",
      "22588  14302408424                 1\n",
      "\n",
      "[22589 rows x 2 columns]\n"
     ]
    }
   ],
   "source": [
    "# Group by \"episodeID\" and calculate the count of distinct \"userID\"\n",
    "unique_listeners = transformed_df.groupby(\"Production Number (evar35)\")[\"UserID Visit (evar95)\"].nunique().reset_index()\n",
    "\n",
    "# Rename columns for clarity\n",
    "unique_listeners.columns = [\"prd_number\", \"unique_listeners\"]\n",
    "\n",
    "# Sort by the number of unique listeners in descending order\n",
    "unique_listeners = unique_listeners.sort_values(by=\"unique_listeners\", ascending=False).reset_index(drop=True)\n",
    "\n",
    "# Display the result\n",
    "print(unique_listeners)"
   ]
  },
  {
   "cell_type": "markdown",
   "metadata": {},
   "source": [
    "Unique episodes per user:"
   ]
  },
  {
   "cell_type": "code",
   "execution_count": null,
   "metadata": {},
   "outputs": [
    {
     "name": "stdout",
     "output_type": "stream",
     "text": [
      "                                 user_id  prd_number\n",
      "0       00005776ec874bc9ab8ca964cf274858          21\n",
      "1       000113f4d2f242648fb7533e0a7a823c           2\n",
      "2       000208955b304a77a152a75ce7e9ad3e          95\n",
      "3       00027173f20a4039b8276592e33d720b           6\n",
      "4       00028a47584946daac998a27f5a81e46           6\n",
      "...                                  ...         ...\n",
      "144042  fffbddd0aabd1a1dbc040d638366fcae           1\n",
      "144043  fffd070382bb472e9b161a963c0e0613           1\n",
      "144044  fffd0838ea4c497197f84371b70dcf59          60\n",
      "144045   fffdacc76db9a561e71b63c0a9c77c9           5\n",
      "144046  fffdd9e933a748d2b8401bc936751fbe          15\n",
      "\n",
      "[144047 rows x 2 columns]\n"
     ]
    }
   ],
   "source": [
    "# Group by \"user_id\" and calculate the count of distinct episodes (by prd_number)\n",
    "unique_episodes = transformed_df.groupby(\"user_id\")[\"prd_number\"].nunique().reset_index()\n",
    "\n",
    "# number of users for each value of unique_episodes\n",
    "episode_counts = unique_episodes[\"prd_number\"].value_counts().sort_index()\n",
    "\n",
    "print(episode_counts)"
   ]
  },
  {
   "cell_type": "code",
   "execution_count": null,
   "metadata": {},
   "outputs": [
    {
     "name": "stdout",
     "output_type": "stream",
     "text": [
      "prd_number\n",
      "1       30621\n",
      "2       17138\n",
      "3       10677\n",
      "4        7978\n",
      "5        5974\n",
      "        ...  \n",
      "815         1\n",
      "928         1\n",
      "1529        1\n",
      "2204        1\n",
      "2386        1\n",
      "Name: count, Length: 476, dtype: int64\n"
     ]
    }
   ],
   "source": []
  },
  {
   "cell_type": "code",
   "execution_count": null,
   "metadata": {},
   "outputs": [],
   "source": [
    "# set of users who have listened to at least 3 episodes "
   ]
  },
  {
   "cell_type": "code",
   "execution_count": 14,
   "metadata": {},
   "outputs": [
    {
     "data": {
      "text/plain": [
       "Text(0, 0.5, 'frequency')"
      ]
     },
     "execution_count": 14,
     "metadata": {},
     "output_type": "execute_result"
    },
    {
     "data": {
      "image/png": "[encoded data removed]",
      "text/plain": [
       "<Figure size 640x480 with 1 Axes>"
      ]
     },
     "metadata": {},
     "output_type": "display_data"
    }
   ],
   "source": [
    "# the distribution of unique episodes per user is skewed\n",
    "# trying to plot a histogram for users with a lower number of unique episodes listened to\n",
    "low_unique_episodes = unique_episodes[unique_episodes[\"unique_episodes\"] < 100]\n",
    "plt.hist(low_unique_episodes[\"unique_episodes\"], bins=20)\n",
    "plt.xlabel(\"unique episodes listened\")\n",
    "plt.ylabel(\"frequency\")"
   ]
  },
  {
   "cell_type": "code",
   "execution_count": 15,
   "metadata": {},
   "outputs": [
    {
     "data": {
      "text/plain": [
       "UserID Visit (evar95)\n",
       "2be981041851708fe138da159ea631a1    2435\n",
       "63c1dd82fdbb3b3ba8e1c5794bca93b     2344\n",
       "35114ddc8f304a3ab1504275642697d0    1724\n",
       "566d0d1425f14e7cb63e206ff23b8892    1114\n",
       "ae5e3a1bb8a84a43a309d62bf55f4a26    1057\n",
       "                                    ... \n",
       "5a9983b80594497d9dcf9987562d0afa       1\n",
       "f23580a6b55d4ce4bacc0decc3edc266       1\n",
       "2c4e5467cdef4332a5ae8a6e5f76199a       1\n",
       "b3c7417b454544c29b4bf42f8750e287       1\n",
       "885b596ad45eb98c1b52e417dedcb65        1\n",
       "Name: count, Length: 144001, dtype: int64"
      ]
     },
     "execution_count": 15,
     "metadata": {},
     "output_type": "execute_result"
    }
   ],
   "source": [
    "transformed_df[\"UserID Visit (evar95)\"].value_counts()"
   ]
  },
  {
   "cell_type": "code",
   "execution_count": 16,
   "metadata": {},
   "outputs": [
    {
     "data": {
      "text/plain": [
       "Production Number (evar35)\n",
       "11802450402    15240\n",
       "16122492630    14936\n",
       "16122493781    13371\n",
       "15452448037    13301\n",
       "16122493791    13025\n",
       "               ...  \n",
       "14302416444        1\n",
       "14102416486        1\n",
       "14702412443        1\n",
       "14032412443        1\n",
       "14032413443        1\n",
       "Name: count, Length: 22589, dtype: int64"
      ]
     },
     "execution_count": 16,
     "metadata": {},
     "output_type": "execute_result"
    }
   ],
   "source": [
    "transformed_df[\"Production Number (evar35)\"].value_counts()"
   ]
  },
  {
   "cell_type": "code",
   "execution_count": 17,
   "metadata": {},
   "outputs": [
    {
     "data": {
      "text/plain": [
       "Serietitel\n",
       "Genstart                           552655\n",
       "Djævlen i detaljen                 209854\n",
       "Tiden                              194290\n",
       "Sara & Monopolet - podcast         182194\n",
       "Stjerner og striber                164225\n",
       "                                    ...  \n",
       "Festivalsommer                          2\n",
       "Jydekrogen                              1\n",
       "Bruce Springsteen - Born to run         1\n",
       "DR Romanprisen 2017                     1\n",
       "P8                                      1\n",
       "Name: count, Length: 617, dtype: int64"
      ]
     },
     "execution_count": 17,
     "metadata": {},
     "output_type": "execute_result"
    }
   ],
   "source": [
    "transformed_df[\"Serietitel\"].value_counts()"
   ]
  },
  {
   "cell_type": "code",
   "execution_count": 18,
   "metadata": {},
   "outputs": [
    {
     "data": {
      "text/plain": [
       "Platform (evar13)\n",
       "app    3484547\n",
       "web     134100\n",
       "Web      30017\n",
       "Name: count, dtype: int64"
      ]
     },
     "execution_count": 18,
     "metadata": {},
     "output_type": "execute_result"
    }
   ],
   "source": [
    "transformed_df[\"Platform (evar13)\"].value_counts()"
   ]
  },
  {
   "cell_type": "code",
   "execution_count": 19,
   "metadata": {},
   "outputs": [
    {
     "data": {
      "text/plain": [
       "Mobile Device Type\n",
       "Mobile Phone    3401122\n",
       "PC               227914\n",
       "Tablet            19628\n",
       "Name: count, dtype: int64"
      ]
     },
     "execution_count": 19,
     "metadata": {},
     "output_type": "execute_result"
    }
   ],
   "source": [
    "transformed_df[\"Mobile Device Type\"].value_counts()"
   ]
  },
  {
   "cell_type": "code",
   "execution_count": 20,
   "metadata": {},
   "outputs": [
    {
     "data": {
      "text/html": [
       "<div>\n",
       "<style scoped>\n",
       "    .dataframe tbody tr th:only-of-type {\n",
       "        vertical-align: middle;\n",
       "    }\n",
       "\n",
       "    .dataframe tbody tr th {\n",
       "        vertical-align: top;\n",
       "    }\n",
       "\n",
       "    .dataframe thead th {\n",
       "        text-align: right;\n",
       "    }\n",
       "</style>\n",
       "<table border=\"1\" class=\"dataframe\">\n",
       "  <thead>\n",
       "    <tr style=\"text-align: right;\">\n",
       "      <th></th>\n",
       "      <th>Platform (evar13)</th>\n",
       "      <th>Mobile Device Type</th>\n",
       "      <th>counts</th>\n",
       "    </tr>\n",
       "  </thead>\n",
       "  <tbody>\n",
       "    <tr>\n",
       "      <th>0</th>\n",
       "      <td>Web</td>\n",
       "      <td>Mobile Phone</td>\n",
       "      <td>27980</td>\n",
       "    </tr>\n",
       "    <tr>\n",
       "      <th>1</th>\n",
       "      <td>Web</td>\n",
       "      <td>Tablet</td>\n",
       "      <td>2037</td>\n",
       "    </tr>\n",
       "    <tr>\n",
       "      <th>2</th>\n",
       "      <td>app</td>\n",
       "      <td>Mobile Phone</td>\n",
       "      <td>3373142</td>\n",
       "    </tr>\n",
       "    <tr>\n",
       "      <th>3</th>\n",
       "      <td>app</td>\n",
       "      <td>PC</td>\n",
       "      <td>93814</td>\n",
       "    </tr>\n",
       "    <tr>\n",
       "      <th>4</th>\n",
       "      <td>app</td>\n",
       "      <td>Tablet</td>\n",
       "      <td>17591</td>\n",
       "    </tr>\n",
       "    <tr>\n",
       "      <th>5</th>\n",
       "      <td>web</td>\n",
       "      <td>PC</td>\n",
       "      <td>134100</td>\n",
       "    </tr>\n",
       "  </tbody>\n",
       "</table>\n",
       "</div>"
      ],
      "text/plain": [
       "  Platform (evar13) Mobile Device Type   counts\n",
       "0               Web       Mobile Phone    27980\n",
       "1               Web             Tablet     2037\n",
       "2               app       Mobile Phone  3373142\n",
       "3               app                 PC    93814\n",
       "4               app             Tablet    17591\n",
       "5               web                 PC   134100"
      ]
     },
     "execution_count": 20,
     "metadata": {},
     "output_type": "execute_result"
    }
   ],
   "source": [
    "counts = transformed_df.groupby([\"Platform (evar13)\", \"Mobile Device Type\"]).size().reset_index(name='counts')\n",
    "counts"
   ]
  },
  {
   "cell_type": "code",
   "execution_count": 21,
   "metadata": {},
   "outputs": [
    {
     "data": {
      "text/plain": [
       "Genre\n",
       "Fakta og debat     936020\n",
       "Aktualitet         930306\n",
       "Nyheder            422473\n",
       "Livsstil           341318\n",
       "Unge               308502\n",
       "Kultur             179096\n",
       "Musik              157126\n",
       "Historie           122206\n",
       "-                  121766\n",
       "Dokumentar          45942\n",
       "Sport               37930\n",
       "Underholdning        4232\n",
       "NN                   3562\n",
       "Kor og orkestre        16\n",
       "Name: count, dtype: int64"
      ]
     },
     "execution_count": 21,
     "metadata": {},
     "output_type": "execute_result"
    }
   ],
   "source": [
    "transformed_df[\"Genre\"].value_counts()"
   ]
  },
  {
   "cell_type": "markdown",
   "metadata": {},
   "source": [
    "\"Kanal\" og \"Branding Kanal\" ser ud til at være det samme."
   ]
  },
  {
   "cell_type": "code",
   "execution_count": 22,
   "metadata": {},
   "outputs": [
    {
     "data": {
      "text/plain": [
       "Moder Kanal\n",
       "-                  1922344\n",
       "DR P1              1418941\n",
       "P4 Fælles           128021\n",
       "DR P2                38577\n",
       "P3                   26547\n",
       "DR P6 BEAT           23558\n",
       "DR P5                23262\n",
       "DR P8 JAZZ           11947\n",
       "P1                    3153\n",
       "P4 Fyn                1486\n",
       "P4 København          1431\n",
       "P4 Nordjylland         933\n",
       "P4 Sjælland            779\n",
       "P4 Midt & Vest         757\n",
       "P4 Østjylland          719\n",
       "P4 Bornholm            603\n",
       "DR Kultur              510\n",
       "P4 Syd                 496\n",
       "DR LYD ekstra 2        409\n",
       "DR LYD ekstra          306\n",
       "P4 Trekanten           226\n",
       "DR Politik             185\n",
       "DR P2 Plus             185\n",
       "DR Plus                184\n",
       "P4 Esbjerg              60\n",
       "Name: count, dtype: int64"
      ]
     },
     "execution_count": 22,
     "metadata": {},
     "output_type": "execute_result"
    }
   ],
   "source": [
    "transformed_df[\"Moder Kanal\"].value_counts()"
   ]
  },
  {
   "cell_type": "code",
   "execution_count": 23,
   "metadata": {},
   "outputs": [
    {
     "data": {
      "text/plain": [
       "Branding Kanal\n",
       "DR Lyd            1517168\n",
       "DR P1             1137327\n",
       "P3                 334228\n",
       "P4 Fælles          325840\n",
       "-                   49546\n",
       "DR P2               43549\n",
       "dr.dk radio         41865\n",
       "DR P6 BEAT          31474\n",
       "DR P5               22078\n",
       "DR P8 JAZZ          12102\n",
       "P4 Fyn               1486\n",
       "P4 København         1431\n",
       "P4 Nordjylland        933\n",
       "P4 Sjælland           779\n",
       "P4 Midt & Vest        757\n",
       "P4 Østjylland         719\n",
       "P4 Bornholm           603\n",
       "P4 Syd                498\n",
       "DR LYD ekstra         306\n",
       "P4 Trekanten          226\n",
       "P4 Esbjerg             58\n",
       "Name: count, dtype: int64"
      ]
     },
     "execution_count": 23,
     "metadata": {},
     "output_type": "execute_result"
    }
   ],
   "source": [
    "transformed_df[\"Branding Kanal\"].value_counts()"
   ]
  },
  {
   "cell_type": "code",
   "execution_count": 24,
   "metadata": {},
   "outputs": [
    {
     "data": {
      "text/plain": [
       "Kategori\n",
       "Oplysning og kultur         1329101\n",
       "Nyheder                     1028273\n",
       "Aktualitet og debat          918260\n",
       "Musik                        251010\n",
       "Underholdning                 74641\n",
       "Sport                         38282\n",
       "Dramatik og fiktion            6499\n",
       "Udsendelsesvirksomhed          1870\n",
       "Præsentation og services        728\n",
       "Name: count, dtype: int64"
      ]
     },
     "execution_count": 24,
     "metadata": {},
     "output_type": "execute_result"
    }
   ],
   "source": [
    "transformed_df[\"Kategori\"].value_counts()"
   ]
  },
  {
   "cell_type": "markdown",
   "metadata": {},
   "source": [
    "Histogram of completion rate"
   ]
  },
  {
   "cell_type": "code",
   "execution_count": 25,
   "metadata": {},
   "outputs": [
    {
     "data": {
      "text/plain": [
       "Text(0, 0.5, 'density')"
      ]
     },
     "execution_count": 25,
     "metadata": {},
     "output_type": "execute_result"
    },
    {
     "data": {
      "image/png": "[encoded data removed]",
      "text/plain": [
       "<Figure size 640x480 with 1 Axes>"
      ]
     },
     "metadata": {},
     "output_type": "display_data"
    }
   ],
   "source": [
    "plt.hist(transformed_df[\"completion_rate\"], bins=20)\n",
    "plt.xlabel(\"completion_rate\")\n",
    "plt.ylabel(\"density\")"
   ]
  },
  {
   "cell_type": "code",
   "execution_count": 26,
   "metadata": {},
   "outputs": [
    {
     "data": {
      "text/plain": [
       "Text(0, 0.5, 'density')"
      ]
     },
     "execution_count": 26,
     "metadata": {},
     "output_type": "execute_result"
    },
    {
     "data": {
      "image/png": "[encoded data removed]",
      "text/plain": [
       "<Figure size 640x480 with 1 Axes>"
      ]
     },
     "metadata": {},
     "output_type": "display_data"
    }
   ],
   "source": [
    "# histogram for completion rates > 0.9\n",
    "high_rates = transformed_df[transformed_df[\"completion_rate\"] > 0.95]\n",
    "plt.hist(high_rates[\"completion_rate\"], bins=15)\n",
    "plt.xlabel(\"completion_rate\")\n",
    "plt.ylabel(\"density\")"
   ]
  }
 ],
 "metadata": {
  "kernelspec": {
   "display_name": "Python 3",
   "language": "python",
   "name": "python3"
  },
  "language_info": {
   "codemirror_mode": {
    "name": "ipython",
    "version": 3
   },
   "file_extension": ".py",
   "mimetype": "text/x-python",
   "name": "python",
   "nbconvert_exporter": "python",
   "pygments_lexer": "ipython3",
   "version": "3.11.9"
  }
 },
 "nbformat": 4,
 "nbformat_minor": 2
}
