{
 "cells": [
  {
   "cell_type": "code",
   "execution_count": 1,
   "metadata": {},
   "outputs": [],
   "source": [
    "import matplotlib.pyplot as plt\n",
    "import numpy as np\n",
    "import pandas as pd"
   ]
  },
  {
   "cell_type": "markdown",
   "metadata": {},
   "source": [
    "### Bookmark data"
   ]
  },
  {
   "cell_type": "code",
   "execution_count": null,
   "metadata": {},
   "outputs": [
    {
     "name": "stderr",
     "output_type": "stream",
     "text": [
      "C:\\Users\\sewr\\AppData\\Local\\Temp\\ipykernel_19372\\501971454.py:10: SettingWithCopyWarning: \n",
      "A value is trying to be set on a copy of a slice from a DataFrame.\n",
      "Try using .loc[row_indexer,col_indexer] = value instead\n",
      "\n",
      "See the caveats in the documentation: https://pandas.pydata.org/pandas-docs/stable/user_guide/indexing.html#returning-a-view-versus-a-copy\n",
      "  transformed_bookmark[[\"date\", \"time\"]] = transformed_bookmark[\"Date:Time (evar16)\"].str.split(\"|\", expand=True)\n",
      "C:\\Users\\sewr\\AppData\\Local\\Temp\\ipykernel_19372\\501971454.py:10: SettingWithCopyWarning: \n",
      "A value is trying to be set on a copy of a slice from a DataFrame.\n",
      "Try using .loc[row_indexer,col_indexer] = value instead\n",
      "\n",
      "See the caveats in the documentation: https://pandas.pydata.org/pandas-docs/stable/user_guide/indexing.html#returning-a-view-versus-a-copy\n",
      "  transformed_bookmark[[\"date\", \"time\"]] = transformed_bookmark[\"Date:Time (evar16)\"].str.split(\"|\", expand=True)\n",
      "C:\\Users\\sewr\\AppData\\Local\\Temp\\ipykernel_19372\\501971454.py:11: SettingWithCopyWarning: \n",
      "A value is trying to be set on a copy of a slice from a DataFrame.\n",
      "Try using .loc[row_indexer,col_indexer] = value instead\n",
      "\n",
      "See the caveats in the documentation: https://pandas.pydata.org/pandas-docs/stable/user_guide/indexing.html#returning-a-view-versus-a-copy\n",
      "  transformed_bookmark[\"date\"] = transformed_bookmark[\"date\"].str.replace(\":\", \"-\")\n",
      "C:\\Users\\sewr\\AppData\\Local\\Temp\\ipykernel_19372\\501971454.py:12: SettingWithCopyWarning: \n",
      "A value is trying to be set on a copy of a slice from a DataFrame.\n",
      "Try using .loc[row_indexer,col_indexer] = value instead\n",
      "\n",
      "See the caveats in the documentation: https://pandas.pydata.org/pandas-docs/stable/user_guide/indexing.html#returning-a-view-versus-a-copy\n",
      "  transformed_bookmark[\"date\"] = pd.to_datetime(transformed_bookmark[\"date\"], format=\"%d-%m-%Y\")\n",
      "C:\\Users\\sewr\\AppData\\Local\\Temp\\ipykernel_19372\\501971454.py:13: SettingWithCopyWarning: \n",
      "A value is trying to be set on a copy of a slice from a DataFrame.\n",
      "Try using .loc[row_indexer,col_indexer] = value instead\n",
      "\n",
      "See the caveats in the documentation: https://pandas.pydata.org/pandas-docs/stable/user_guide/indexing.html#returning-a-view-versus-a-copy\n",
      "  transformed_bookmark['time'] = transformed_bookmark['time'].str.zfill(5)\n",
      "C:\\Users\\sewr\\AppData\\Local\\Temp\\ipykernel_19372\\501971454.py:14: SettingWithCopyWarning: \n",
      "A value is trying to be set on a copy of a slice from a DataFrame\n",
      "\n",
      "See the caveats in the documentation: https://pandas.pydata.org/pandas-docs/stable/user_guide/indexing.html#returning-a-view-versus-a-copy\n",
      "  transformed_bookmark.drop(columns=[\"Date:Time (evar16)\"], inplace=True)\n"
     ]
    },
    {
     "data": {
      "text/html": [
       "<div>\n",
       "<style scoped>\n",
       "    .dataframe tbody tr th:only-of-type {\n",
       "        vertical-align: middle;\n",
       "    }\n",
       "\n",
       "    .dataframe tbody tr th {\n",
       "        vertical-align: top;\n",
       "    }\n",
       "\n",
       "    .dataframe thead th {\n",
       "        text-align: right;\n",
       "    }\n",
       "</style>\n",
       "<table border=\"1\" class=\"dataframe\">\n",
       "  <thead>\n",
       "    <tr style=\"text-align: right;\">\n",
       "      <th></th>\n",
       "      <th>UserID Visit (evar95)</th>\n",
       "      <th>Page Name (evar1)</th>\n",
       "      <th>App Activity Name (evar42)</th>\n",
       "      <th>date</th>\n",
       "      <th>time</th>\n",
       "    </tr>\n",
       "  </thead>\n",
       "  <tbody>\n",
       "    <tr>\n",
       "      <th>5956</th>\n",
       "      <td>603865011451902253990599bedab690</td>\n",
       "      <td>app:radio android:bookmark</td>\n",
       "      <td>urn:dr:radio:series:6357f678255cdd28fb9fb0c8</td>\n",
       "      <td>2024-10-01</td>\n",
       "      <td>00:00</td>\n",
       "    </tr>\n",
       "    <tr>\n",
       "      <th>6235</th>\n",
       "      <td>603865011451902253990599bedab690</td>\n",
       "      <td>app:radio android:bookmark</td>\n",
       "      <td>urn:dr:radio:series:63d1b6d2f538158492649af9</td>\n",
       "      <td>2024-10-01</td>\n",
       "      <td>00:01</td>\n",
       "    </tr>\n",
       "    <tr>\n",
       "      <th>6593</th>\n",
       "      <td>efa20a87f73d4f4397c0b3c4321c7279</td>\n",
       "      <td>app:radio ios:bookmark</td>\n",
       "      <td>urn:dr:radio:series:618c5172c928eef30f91d62d</td>\n",
       "      <td>2024-10-01</td>\n",
       "      <td>00:02</td>\n",
       "    </tr>\n",
       "    <tr>\n",
       "      <th>6984</th>\n",
       "      <td>f0c9792dbf284e759e3f0f2c84b41f1c</td>\n",
       "      <td>app:radio ios:bookmark</td>\n",
       "      <td>urn:dr:radio:series:5fa15704da351264f87b46ce</td>\n",
       "      <td>2024-10-01</td>\n",
       "      <td>00:03</td>\n",
       "    </tr>\n",
       "    <tr>\n",
       "      <th>7682</th>\n",
       "      <td>e1c5699612e0412803051de8b2361d8a</td>\n",
       "      <td>app:radio android:bookmark</td>\n",
       "      <td>urn:dr:radio:series:65857ad8163dfa22d54c3d73</td>\n",
       "      <td>2024-10-01</td>\n",
       "      <td>00:06</td>\n",
       "    </tr>\n",
       "    <tr>\n",
       "      <th>...</th>\n",
       "      <td>...</td>\n",
       "      <td>...</td>\n",
       "      <td>...</td>\n",
       "      <td>...</td>\n",
       "      <td>...</td>\n",
       "    </tr>\n",
       "    <tr>\n",
       "      <th>50357699</th>\n",
       "      <td>4ab19f20a4014e90ae3a0e84c5c32a89</td>\n",
       "      <td>app:radio ios:bookmark</td>\n",
       "      <td>urn:dr:radio:series:626931758679fdf8af8a0e26</td>\n",
       "      <td>2024-10-31</td>\n",
       "      <td>09:58</td>\n",
       "    </tr>\n",
       "    <tr>\n",
       "      <th>50358229</th>\n",
       "      <td>6e16613e61914bfa851323b2ecda07a6</td>\n",
       "      <td>app:radio ios:bookmark</td>\n",
       "      <td>urn:dr:radio:series:5fa15787da351264f87b4a03</td>\n",
       "      <td>2024-10-31</td>\n",
       "      <td>09:59</td>\n",
       "    </tr>\n",
       "    <tr>\n",
       "      <th>50358230</th>\n",
       "      <td>6e16613e61914bfa851323b2ecda07a6</td>\n",
       "      <td>app:radio ios:bookmark</td>\n",
       "      <td>urn:dr:radio:series:5fa2950b330eac2f135bbad5</td>\n",
       "      <td>2024-10-31</td>\n",
       "      <td>09:59</td>\n",
       "    </tr>\n",
       "    <tr>\n",
       "      <th>50358284</th>\n",
       "      <td>9975dc469f714c6da89f654de81f76c0</td>\n",
       "      <td>app:radio ios:bookmark</td>\n",
       "      <td>urn:dr:radio:series:65857ad8163dfa22d54c3d73</td>\n",
       "      <td>2024-10-31</td>\n",
       "      <td>09:59</td>\n",
       "    </tr>\n",
       "    <tr>\n",
       "      <th>50358389</th>\n",
       "      <td>d6a0c865abe14d3d93b8c10bbb981148</td>\n",
       "      <td>app:radio ios:bookmark</td>\n",
       "      <td>urn:dr:radio:series:671619131e23230d78149b3a</td>\n",
       "      <td>2024-10-31</td>\n",
       "      <td>09:59</td>\n",
       "    </tr>\n",
       "  </tbody>\n",
       "</table>\n",
       "<p>116981 rows × 5 columns</p>\n",
       "</div>"
      ],
      "text/plain": [
       "                     UserID Visit (evar95)           Page Name (evar1)  \\\n",
       "5956      603865011451902253990599bedab690  app:radio android:bookmark   \n",
       "6235      603865011451902253990599bedab690  app:radio android:bookmark   \n",
       "6593      efa20a87f73d4f4397c0b3c4321c7279      app:radio ios:bookmark   \n",
       "6984      f0c9792dbf284e759e3f0f2c84b41f1c      app:radio ios:bookmark   \n",
       "7682      e1c5699612e0412803051de8b2361d8a  app:radio android:bookmark   \n",
       "...                                    ...                         ...   \n",
       "50357699  4ab19f20a4014e90ae3a0e84c5c32a89      app:radio ios:bookmark   \n",
       "50358229  6e16613e61914bfa851323b2ecda07a6      app:radio ios:bookmark   \n",
       "50358230  6e16613e61914bfa851323b2ecda07a6      app:radio ios:bookmark   \n",
       "50358284  9975dc469f714c6da89f654de81f76c0      app:radio ios:bookmark   \n",
       "50358389  d6a0c865abe14d3d93b8c10bbb981148      app:radio ios:bookmark   \n",
       "\n",
       "                            App Activity Name (evar42)       date   time  \n",
       "5956      urn:dr:radio:series:6357f678255cdd28fb9fb0c8 2024-10-01  00:00  \n",
       "6235      urn:dr:radio:series:63d1b6d2f538158492649af9 2024-10-01  00:01  \n",
       "6593      urn:dr:radio:series:618c5172c928eef30f91d62d 2024-10-01  00:02  \n",
       "6984      urn:dr:radio:series:5fa15704da351264f87b46ce 2024-10-01  00:03  \n",
       "7682      urn:dr:radio:series:65857ad8163dfa22d54c3d73 2024-10-01  00:06  \n",
       "...                                                ...        ...    ...  \n",
       "50357699  urn:dr:radio:series:626931758679fdf8af8a0e26 2024-10-31  09:58  \n",
       "50358229  urn:dr:radio:series:5fa15787da351264f87b4a03 2024-10-31  09:59  \n",
       "50358230  urn:dr:radio:series:5fa2950b330eac2f135bbad5 2024-10-31  09:59  \n",
       "50358284  urn:dr:radio:series:65857ad8163dfa22d54c3d73 2024-10-31  09:59  \n",
       "50358389  urn:dr:radio:series:671619131e23230d78149b3a 2024-10-31  09:59  \n",
       "\n",
       "[116981 rows x 5 columns]"
      ]
     },
     "execution_count": 3,
     "metadata": {},
     "output_type": "execute_result"
    }
   ],
   "source": [
    "# loading bookmark data\n",
    "bookmark_df = pd.read_csv(\"../data/podcast_series_bookmark20240902-20241201.csv\", dtype=\"unicode\", low_memory=False)\n",
    "bookmark_df = bookmark_df.rename(columns={\"Date:Time (evar16)\": \"date_time\",\n",
    "                                          \"UserID Visit (evar95)\": \"user_id\",\n",
    "                                          \"Page Name (evar1)\": \"page_name\",\n",
    "                                          \"App Activity Name (evar42)\": \"app_activity_name\"\n",
    "                                          }\n",
    "                                        )\n",
    "\n",
    "# filtering bookmark data\n",
    "filtered_bookmark = bookmark_df[(bookmark_df[\"UserID Visit (evar95)\"].notna()) & \n",
    "                                (bookmark_df[\"Page Name (evar1)\"].str.contains(r'\\bbookmark\\b(?! opened)', case=False, na=False, regex=True))]\n",
    "\n",
    "# splitting the Date:Time column into two separate columns\n",
    "transformed_bookmark = filtered_bookmark\n",
    "transformed_bookmark[[\"date\", \"time\"]] = transformed_bookmark[\"Date:Time (evar16)\"].str.split(\"|\", expand=True)\n",
    "transformed_bookmark[\"date\"] = transformed_bookmark[\"date\"].str.replace(\":\", \"-\")\n",
    "transformed_bookmark[\"date\"] = pd.to_datetime(transformed_bookmark[\"date\"], format=\"%d-%m-%Y\")\n",
    "transformed_bookmark['time'] = transformed_bookmark['time'].str.zfill(5)\n",
    "transformed_bookmark.drop(columns=[\"Date:Time (evar16)\"], inplace=True)\n",
    "\n",
    "# filter out dates that are before \n",
    "start_date = \"2024-09-02\"\n",
    "end_date = \"2024-12-01\"\n",
    "transformed_bookmark = transformed_bookmark[(transformed_bookmark[\"date\"] >= start_date) & (transformed_bookmark[\"date\"] <= end_date)]\n",
    "\n",
    "transformed_bookmark;"
   ]
  },
  {
   "cell_type": "code",
   "execution_count": 4,
   "metadata": {},
   "outputs": [
    {
     "name": "stdout",
     "output_type": "stream",
     "text": [
      "                   UserID Visit (evar95)  \\\n",
      "0       00005776ec874bc9ab8ca964cf274858   \n",
      "1       00005776ec874bc9ab8ca964cf274858   \n",
      "2       00005776ec874bc9ab8ca964cf274858   \n",
      "3       00005776ec874bc9ab8ca964cf274858   \n",
      "4       000208955b304a77a152a75ce7e9ad3e   \n",
      "...                                  ...   \n",
      "109489  fffdd9e933a748d2b8401bc936751fbe   \n",
      "109490  fffdd9e933a748d2b8401bc936751fbe   \n",
      "109491  fffdd9e933a748d2b8401bc936751fbe   \n",
      "109492  fffdd9e933a748d2b8401bc936751fbe   \n",
      "109493  fffdd9e933a748d2b8401bc936751fbe   \n",
      "\n",
      "                          App Activity Name (evar42)  Count  \n",
      "0       urn:dr:radio:series:5fa25ef8330eac2f135b62d6      1  \n",
      "1       urn:dr:radio:series:5fa2605b330eac2f135b6a3f      1  \n",
      "2       urn:dr:radio:series:610bd147214d9c8f19f2e2d2      1  \n",
      "3       urn:dr:radio:series:65857ad8163dfa22d54c3d73      1  \n",
      "4       urn:dr:radio:series:5fa25a95330eac2f135b4a6c      1  \n",
      "...                                              ...    ...  \n",
      "109489  urn:dr:radio:series:626931758679fdf8af8a0e26      2  \n",
      "109490  urn:dr:radio:series:63202707e354a45e20dc69b5      1  \n",
      "109491  urn:dr:radio:series:63a03481d674a2f103dfc6e5      1  \n",
      "109492  urn:dr:radio:series:6638a1a36d0e2e42f85f9bec      1  \n",
      "109493  urn:dr:radio:series:66d8390ccf35b6a44add2e78      1  \n",
      "\n",
      "[109494 rows x 3 columns]\n"
     ]
    }
   ],
   "source": [
    "# checking if each user only occurs once for each series\n",
    "grouped_bookmark = filtered_bookmark.groupby(['UserID Visit (evar95)', 'App Activity Name (evar42)']).size().reset_index(name='Count')\n",
    "\n",
    "print(grouped_bookmark)"
   ]
  },
  {
   "cell_type": "code",
   "execution_count": null,
   "metadata": {},
   "outputs": [
    {
     "data": {
      "text/html": [
       "<div>\n",
       "<style scoped>\n",
       "    .dataframe tbody tr th:only-of-type {\n",
       "        vertical-align: middle;\n",
       "    }\n",
       "\n",
       "    .dataframe tbody tr th {\n",
       "        vertical-align: top;\n",
       "    }\n",
       "\n",
       "    .dataframe thead th {\n",
       "        text-align: right;\n",
       "    }\n",
       "</style>\n",
       "<table border=\"1\" class=\"dataframe\">\n",
       "  <thead>\n",
       "    <tr style=\"text-align: right;\">\n",
       "      <th></th>\n",
       "      <th>Program URN (evar36)</th>\n",
       "      <th>Serietitel</th>\n",
       "    </tr>\n",
       "  </thead>\n",
       "  <tbody>\n",
       "    <tr>\n",
       "      <th>22</th>\n",
       "      <td>4c855f31-47bd-4b34-b8d0-cc494225b6e6</td>\n",
       "      <td>P5 Det er Dansk</td>\n",
       "    </tr>\n",
       "    <tr>\n",
       "      <th>27</th>\n",
       "      <td>53478d77-9050-462a-b545-733afa09a4d2</td>\n",
       "      <td>Forbrydelsen</td>\n",
       "    </tr>\n",
       "    <tr>\n",
       "      <th>33</th>\n",
       "      <td>75119426-45d9-4a92-8347-4bbbc8de9a81</td>\n",
       "      <td>P6 Beatet</td>\n",
       "    </tr>\n",
       "    <tr>\n",
       "      <th>39</th>\n",
       "      <td>91db538e-118b-4a57-9beb-de22c54fb4f1</td>\n",
       "      <td>P6 Beatet</td>\n",
       "    </tr>\n",
       "    <tr>\n",
       "      <th>42</th>\n",
       "      <td>a66360c3-7293-4bc8-b588-07d2bc6734e1</td>\n",
       "      <td>Klassen</td>\n",
       "    </tr>\n",
       "    <tr>\n",
       "      <th>...</th>\n",
       "      <td>...</td>\n",
       "      <td>...</td>\n",
       "    </tr>\n",
       "    <tr>\n",
       "      <th>50820</th>\n",
       "      <td>urn:dr:radio:series:671619131e23230d78149b3a</td>\n",
       "      <td>Indersiden med Viktor Fischer</td>\n",
       "    </tr>\n",
       "    <tr>\n",
       "      <th>50821</th>\n",
       "      <td>urn:dr:radio:series:671a2ec4c0065080aad24ca4</td>\n",
       "      <td>P6 Lytter</td>\n",
       "    </tr>\n",
       "    <tr>\n",
       "      <th>50822</th>\n",
       "      <td>urn:dr:radio:series:67221676832f7a5b818dba3c</td>\n",
       "      <td>Hystadejournalen</td>\n",
       "    </tr>\n",
       "    <tr>\n",
       "      <th>50823</th>\n",
       "      <td>urn:dr:radio:series:67368338504ff50e9461e4f3</td>\n",
       "      <td>P2 Prisen - De 5 bedste 2024</td>\n",
       "    </tr>\n",
       "    <tr>\n",
       "      <th>50824</th>\n",
       "      <td>urn:dr:radio:series:673b2fa6101bf987f5f8a483</td>\n",
       "      <td>Julekalenderen De 24 opusnumre</td>\n",
       "    </tr>\n",
       "  </tbody>\n",
       "</table>\n",
       "<p>39431 rows × 2 columns</p>\n",
       "</div>"
      ],
      "text/plain": [
       "                               Program URN (evar36)  \\\n",
       "22             4c855f31-47bd-4b34-b8d0-cc494225b6e6   \n",
       "27             53478d77-9050-462a-b545-733afa09a4d2   \n",
       "33             75119426-45d9-4a92-8347-4bbbc8de9a81   \n",
       "39             91db538e-118b-4a57-9beb-de22c54fb4f1   \n",
       "42             a66360c3-7293-4bc8-b588-07d2bc6734e1   \n",
       "...                                             ...   \n",
       "50820  urn:dr:radio:series:671619131e23230d78149b3a   \n",
       "50821  urn:dr:radio:series:671a2ec4c0065080aad24ca4   \n",
       "50822  urn:dr:radio:series:67221676832f7a5b818dba3c   \n",
       "50823  urn:dr:radio:series:67368338504ff50e9461e4f3   \n",
       "50824  urn:dr:radio:series:673b2fa6101bf987f5f8a483   \n",
       "\n",
       "                           Serietitel  \n",
       "22                    P5 Det er Dansk  \n",
       "27                       Forbrydelsen  \n",
       "33                          P6 Beatet  \n",
       "39                          P6 Beatet  \n",
       "42                            Klassen  \n",
       "...                               ...  \n",
       "50820   Indersiden med Viktor Fischer  \n",
       "50821                       P6 Lytter  \n",
       "50822                Hystadejournalen  \n",
       "50823    P2 Prisen - De 5 bedste 2024  \n",
       "50824  Julekalenderen De 24 opusnumre  \n",
       "\n",
       "[39431 rows x 2 columns]"
      ]
     },
     "execution_count": 27,
     "metadata": {},
     "output_type": "execute_result"
    }
   ],
   "source": [
    "# loading the programURN data\n",
    "prgURN_df = pd.read_csv(\"../data/programURN_serietitel20240902-20241201.csv\", dtype=\"unicode\", low_memory=False)\n",
    "\n",
    "# renaming columns\n",
    "prgURN_df = prgURN_df.rename(columns={\"programURN\": \"prg_urn\",\n",
    "                                      \"Serietitel\": \"series_title\"\n",
    "                                      }\n",
    "                                    )\n",
    "\n",
    "# filtering out null values\n",
    "prgURN_df = prgURN_df[(prgURN_df[\"Program URN (evar36)\"].notna()) &\n",
    "                      (prgURN_df[\"Serietitel\"].notna())]\n",
    "                       \n",
    "prgURN_df"
   ]
  },
  {
   "cell_type": "markdown",
   "metadata": {},
   "source": [
    "### EDA"
   ]
  },
  {
   "cell_type": "code",
   "execution_count": 9,
   "metadata": {},
   "outputs": [],
   "source": [
    "# option to view entire pandas outputs \n",
    "# pd.set_option('display.max_rows', None)\n",
    "\n",
    "# line of code to cancel the above display setting\n",
    "# pd.reset_option('all')"
   ]
  },
  {
   "cell_type": "markdown",
   "metadata": {},
   "source": [
    "Checking data types of each variable:"
   ]
  },
  {
   "cell_type": "code",
   "execution_count": 10,
   "metadata": {},
   "outputs": [
    {
     "data": {
      "text/plain": [
       "UserID Visit (evar95)                   object\n",
       "Production Number (evar35)              object\n",
       "Serietitel                              object\n",
       "Unik titel                              object\n",
       "Platform (evar13)                       object\n",
       "Mobile Device Type                      object\n",
       "Content Type (revar3)                   object\n",
       "Første Streaming Dato                   object\n",
       "Video Length                             int64\n",
       "Genre                                   object\n",
       "Branding Kanal                          object\n",
       "Moder Kanal                             object\n",
       "Kategori                                object\n",
       "Content Time Spent (revent1)             int64\n",
       "date                            datetime64[ns]\n",
       "time                                    object\n",
       "completion_rate                        float64\n",
       "dtype: object"
      ]
     },
     "execution_count": 10,
     "metadata": {},
     "output_type": "execute_result"
    }
   ],
   "source": [
    "transformed_df.dtypes"
   ]
  },
  {
   "cell_type": "markdown",
   "metadata": {},
   "source": [
    "Summary statistics:"
   ]
  },
  {
   "cell_type": "code",
   "execution_count": 11,
   "metadata": {},
   "outputs": [
    {
     "name": "stdout",
     "output_type": "stream",
     "text": [
      "Number of uniques: \n",
      "- Users:\t144001\n",
      "- Series:\t617\n",
      "- Episodes:\t22589\n",
      "\n",
      "\n",
      "Summary of video length:\n",
      "count   3,648,664.00\n",
      "mean        2,845.20\n",
      "std         1,970.15\n",
      "min            21.00\n",
      "25%         1,560.00\n",
      "50%         2,277.00\n",
      "75%         3,421.00\n",
      "max        28,620.00\n",
      "Name: Video Length, dtype: float64\n",
      "\n",
      "\n",
      "Summary of content time spent:\n",
      "count   3,648,664.00\n",
      "mean        1,601.92\n",
      "std         1,561.12\n",
      "min            61.00\n",
      "25%           652.00\n",
      "50%         1,388.00\n",
      "75%         2,038.00\n",
      "max       426,294.00\n",
      "Name: Content Time Spent (revent1), dtype: float64\n",
      "\n",
      "\n",
      "Summary of completion rate:\n",
      "count   3,648,664.00\n",
      "mean            0.63\n",
      "std             0.36\n",
      "min             0.00\n",
      "25%             0.28\n",
      "50%             0.71\n",
      "75%             1.00\n",
      "max             1.00\n",
      "Name: completion_rate, dtype: float64\n",
      "\n",
      "\n"
     ]
    }
   ],
   "source": [
    "# display floats as they are instead of in scientific notation (e.g. e+04)\n",
    "pd.options.display.float_format = '{:,.2f}'.format\n",
    "\n",
    "# counting distinct users, series, and episodes\n",
    "n_users = transformed_df[\"UserID Visit (evar95)\"].nunique()\n",
    "n_series = transformed_df[\"Serietitel\"].nunique()\n",
    "n_episodes = transformed_df[\"Production Number (evar35)\"].nunique()\n",
    "print(f\"Number of uniques: \\n- Users:\\t{n_users}\\n- Series:\\t{n_series}\\n- Episodes:\\t{n_episodes}\")\n",
    "\n",
    "# numerical summaries of video length \n",
    "duration_summary = transformed_df[\"Video Length\"].describe()\n",
    "print(\"\\n\")\n",
    "print(\"Summary of video length:\")\n",
    "print(duration_summary)\n",
    "print(\"\\n\")\n",
    "\n",
    "# numerical summary of content time spent \n",
    "time_spent_summary = transformed_df[\"Content Time Spent (revent1)\"].describe()\n",
    "print(\"Summary of content time spent:\")\n",
    "print(time_spent_summary)\n",
    "print(\"\\n\")\n",
    "\n",
    "# numerical summary of completion rate\n",
    "completion_summary = transformed_df[\"completion_rate\"].describe()\n",
    "print(\"Summary of completion rate:\")\n",
    "print(completion_summary)\n",
    "print(\"\\n\")"
   ]
  },
  {
   "cell_type": "markdown",
   "metadata": {},
   "source": [
    "Unique listeners per episode:"
   ]
  },
  {
   "cell_type": "code",
   "execution_count": 12,
   "metadata": {},
   "outputs": [
    {
     "name": "stdout",
     "output_type": "stream",
     "text": [
      "        prd_number  unique_listeners\n",
      "0      11802450402             12758\n",
      "1      16122492630             11725\n",
      "2      16122493781             10275\n",
      "3      16122493791             10084\n",
      "4      16122492631              9928\n",
      "...            ...               ...\n",
      "22584  14302408403                 1\n",
      "22585  14302408406                 1\n",
      "22586  14302408407                 1\n",
      "22587  14302408423                 1\n",
      "22588  14302408424                 1\n",
      "\n",
      "[22589 rows x 2 columns]\n"
     ]
    }
   ],
   "source": [
    "# Group by \"episodeID\" and calculate the count of distinct \"userID\"\n",
    "unique_listeners = transformed_df.groupby(\"Production Number (evar35)\")[\"UserID Visit (evar95)\"].nunique().reset_index()\n",
    "\n",
    "# Rename columns for clarity\n",
    "unique_listeners.columns = [\"prd_number\", \"unique_listeners\"]\n",
    "\n",
    "# Sort by the number of unique listeners in descending order\n",
    "unique_listeners = unique_listeners.sort_values(by=\"unique_listeners\", ascending=False).reset_index(drop=True)\n",
    "\n",
    "# Display the result\n",
    "print(unique_listeners)"
   ]
  },
  {
   "cell_type": "markdown",
   "metadata": {},
   "source": [
    "Unique episodes per user:"
   ]
  },
  {
   "cell_type": "code",
   "execution_count": null,
   "metadata": {},
   "outputs": [
    {
     "name": "stdout",
     "output_type": "stream",
     "text": [
      "                                 user_id  prd_number\n",
      "0       00005776ec874bc9ab8ca964cf274858          21\n",
      "1       000113f4d2f242648fb7533e0a7a823c           2\n",
      "2       000208955b304a77a152a75ce7e9ad3e          95\n",
      "3       00027173f20a4039b8276592e33d720b           6\n",
      "4       00028a47584946daac998a27f5a81e46           6\n",
      "...                                  ...         ...\n",
      "144042  fffbddd0aabd1a1dbc040d638366fcae           1\n",
      "144043  fffd070382bb472e9b161a963c0e0613           1\n",
      "144044  fffd0838ea4c497197f84371b70dcf59          60\n",
      "144045   fffdacc76db9a561e71b63c0a9c77c9           5\n",
      "144046  fffdd9e933a748d2b8401bc936751fbe          15\n",
      "\n",
      "[144047 rows x 2 columns]\n"
     ]
    }
   ],
   "source": [
    "# Group by \"user_id\" and calculate the count of distinct episodes (by prd_number)\n",
    "unique_episodes = transformed_df.groupby(\"user_id\")[\"prd_number\"].nunique().reset_index()\n",
    "\n",
    "# number of users for each value of unique_episodes\n",
    "episode_counts = unique_episodes[\"prd_number\"].value_counts().sort_index()\n",
    "\n",
    "print(episode_counts)"
   ]
  },
  {
   "cell_type": "code",
   "execution_count": null,
   "metadata": {},
   "outputs": [
    {
     "name": "stdout",
     "output_type": "stream",
     "text": [
      "prd_number\n",
      "1       30621\n",
      "2       17138\n",
      "3       10677\n",
      "4        7978\n",
      "5        5974\n",
      "        ...  \n",
      "815         1\n",
      "928         1\n",
      "1529        1\n",
      "2204        1\n",
      "2386        1\n",
      "Name: count, Length: 476, dtype: int64\n"
     ]
    }
   ],
   "source": []
  },
  {
   "cell_type": "code",
   "execution_count": null,
   "metadata": {},
   "outputs": [],
   "source": [
    "# set of users who have listened to at least 3 episodes "
   ]
  },
  {
   "cell_type": "code",
   "execution_count": 14,
   "metadata": {},
   "outputs": [
    {
     "data": {
      "text/plain": [
       "Text(0, 0.5, 'frequency')"
      ]
     },
     "execution_count": 14,
     "metadata": {},
     "output_type": "execute_result"
    },
    {
     "data": {
      "image/png": "[encoded data removed]",
      "text/plain": [
       "<Figure size 640x480 with 1 Axes>"
      ]
     },
     "metadata": {},
     "output_type": "display_data"
    }
   ],
   "source": [
    "# the distribution of unique episodes per user is skewed\n",
    "# trying to plot a histogram for users with a lower number of unique episodes listened to\n",
    "low_unique_episodes = unique_episodes[unique_episodes[\"unique_episodes\"] < 100]\n",
    "plt.hist(low_unique_episodes[\"unique_episodes\"], bins=20)\n",
    "plt.xlabel(\"unique episodes listened\")\n",
    "plt.ylabel(\"frequency\")"
   ]
  },
  {
   "cell_type": "code",
   "execution_count": 15,
   "metadata": {},
   "outputs": [
    {
     "data": {
      "text/plain": [
       "UserID Visit (evar95)\n",
       "2be981041851708fe138da159ea631a1    2435\n",
       "63c1dd82fdbb3b3ba8e1c5794bca93b     2344\n",
       "35114ddc8f304a3ab1504275642697d0    1724\n",
       "566d0d1425f14e7cb63e206ff23b8892    1114\n",
       "ae5e3a1bb8a84a43a309d62bf55f4a26    1057\n",
       "                                    ... \n",
       "5a9983b80594497d9dcf9987562d0afa       1\n",
       "f23580a6b55d4ce4bacc0decc3edc266       1\n",
       "2c4e5467cdef4332a5ae8a6e5f76199a       1\n",
       "b3c7417b454544c29b4bf42f8750e287       1\n",
       "885b596ad45eb98c1b52e417dedcb65        1\n",
       "Name: count, Length: 144001, dtype: int64"
      ]
     },
     "execution_count": 15,
     "metadata": {},
     "output_type": "execute_result"
    }
   ],
   "source": [
    "transformed_df[\"UserID Visit (evar95)\"].value_counts()"
   ]
  },
  {
   "cell_type": "code",
   "execution_count": 16,
   "metadata": {},
   "outputs": [
    {
     "data": {
      "text/plain": [
       "Production Number (evar35)\n",
       "11802450402    15240\n",
       "16122492630    14936\n",
       "16122493781    13371\n",
       "15452448037    13301\n",
       "16122493791    13025\n",
       "               ...  \n",
       "14302416444        1\n",
       "14102416486        1\n",
       "14702412443        1\n",
       "14032412443        1\n",
       "14032413443        1\n",
       "Name: count, Length: 22589, dtype: int64"
      ]
     },
     "execution_count": 16,
     "metadata": {},
     "output_type": "execute_result"
    }
   ],
   "source": [
    "transformed_df[\"Production Number (evar35)\"].value_counts()"
   ]
  },
  {
   "cell_type": "code",
   "execution_count": 17,
   "metadata": {},
   "outputs": [
    {
     "data": {
      "text/plain": [
       "Serietitel\n",
       "Genstart                           552655\n",
       "Djævlen i detaljen                 209854\n",
       "Tiden                              194290\n",
       "Sara & Monopolet - podcast         182194\n",
       "Stjerner og striber                164225\n",
       "                                    ...  \n",
       "Festivalsommer                          2\n",
       "Jydekrogen                              1\n",
       "Bruce Springsteen - Born to run         1\n",
       "DR Romanprisen 2017                     1\n",
       "P8                                      1\n",
       "Name: count, Length: 617, dtype: int64"
      ]
     },
     "execution_count": 17,
     "metadata": {},
     "output_type": "execute_result"
    }
   ],
   "source": [
    "transformed_df[\"Serietitel\"].value_counts()"
   ]
  },
  {
   "cell_type": "code",
   "execution_count": 18,
   "metadata": {},
   "outputs": [
    {
     "data": {
      "text/plain": [
       "Platform (evar13)\n",
       "app    3484547\n",
       "web     134100\n",
       "Web      30017\n",
       "Name: count, dtype: int64"
      ]
     },
     "execution_count": 18,
     "metadata": {},
     "output_type": "execute_result"
    }
   ],
   "source": [
    "transformed_df[\"Platform (evar13)\"].value_counts()"
   ]
  },
  {
   "cell_type": "code",
   "execution_count": 19,
   "metadata": {},
   "outputs": [
    {
     "data": {
      "text/plain": [
       "Mobile Device Type\n",
       "Mobile Phone    3401122\n",
       "PC               227914\n",
       "Tablet            19628\n",
       "Name: count, dtype: int64"
      ]
     },
     "execution_count": 19,
     "metadata": {},
     "output_type": "execute_result"
    }
   ],
   "source": [
    "transformed_df[\"Mobile Device Type\"].value_counts()"
   ]
  },
  {
   "cell_type": "code",
   "execution_count": 20,
   "metadata": {},
   "outputs": [
    {
     "data": {
      "text/html": [
       "<div>\n",
       "<style scoped>\n",
       "    .dataframe tbody tr th:only-of-type {\n",
       "        vertical-align: middle;\n",
       "    }\n",
       "\n",
       "    .dataframe tbody tr th {\n",
       "        vertical-align: top;\n",
       "    }\n",
       "\n",
       "    .dataframe thead th {\n",
       "        text-align: right;\n",
       "    }\n",
       "</style>\n",
       "<table border=\"1\" class=\"dataframe\">\n",
       "  <thead>\n",
       "    <tr style=\"text-align: right;\">\n",
       "      <th></th>\n",
       "      <th>Platform (evar13)</th>\n",
       "      <th>Mobile Device Type</th>\n",
       "      <th>counts</th>\n",
       "    </tr>\n",
       "  </thead>\n",
       "  <tbody>\n",
       "    <tr>\n",
       "      <th>0</th>\n",
       "      <td>Web</td>\n",
       "      <td>Mobile Phone</td>\n",
       "      <td>27980</td>\n",
       "    </tr>\n",
       "    <tr>\n",
       "      <th>1</th>\n",
       "      <td>Web</td>\n",
       "      <td>Tablet</td>\n",
       "      <td>2037</td>\n",
       "    </tr>\n",
       "    <tr>\n",
       "      <th>2</th>\n",
       "      <td>app</td>\n",
       "      <td>Mobile Phone</td>\n",
       "      <td>3373142</td>\n",
       "    </tr>\n",
       "    <tr>\n",
       "      <th>3</th>\n",
       "      <td>app</td>\n",
       "      <td>PC</td>\n",
       "      <td>93814</td>\n",
       "    </tr>\n",
       "    <tr>\n",
       "      <th>4</th>\n",
       "      <td>app</td>\n",
       "      <td>Tablet</td>\n",
       "      <td>17591</td>\n",
       "    </tr>\n",
       "    <tr>\n",
       "      <th>5</th>\n",
       "      <td>web</td>\n",
       "      <td>PC</td>\n",
       "      <td>134100</td>\n",
       "    </tr>\n",
       "  </tbody>\n",
       "</table>\n",
       "</div>"
      ],
      "text/plain": [
       "  Platform (evar13) Mobile Device Type   counts\n",
       "0               Web       Mobile Phone    27980\n",
       "1               Web             Tablet     2037\n",
       "2               app       Mobile Phone  3373142\n",
       "3               app                 PC    93814\n",
       "4               app             Tablet    17591\n",
       "5               web                 PC   134100"
      ]
     },
     "execution_count": 20,
     "metadata": {},
     "output_type": "execute_result"
    }
   ],
   "source": [
    "counts = transformed_df.groupby([\"Platform (evar13)\", \"Mobile Device Type\"]).size().reset_index(name='counts')\n",
    "counts"
   ]
  },
  {
   "cell_type": "code",
   "execution_count": 21,
   "metadata": {},
   "outputs": [
    {
     "data": {
      "text/plain": [
       "Genre\n",
       "Fakta og debat     936020\n",
       "Aktualitet         930306\n",
       "Nyheder            422473\n",
       "Livsstil           341318\n",
       "Unge               308502\n",
       "Kultur             179096\n",
       "Musik              157126\n",
       "Historie           122206\n",
       "-                  121766\n",
       "Dokumentar          45942\n",
       "Sport               37930\n",
       "Underholdning        4232\n",
       "NN                   3562\n",
       "Kor og orkestre        16\n",
       "Name: count, dtype: int64"
      ]
     },
     "execution_count": 21,
     "metadata": {},
     "output_type": "execute_result"
    }
   ],
   "source": [
    "transformed_df[\"Genre\"].value_counts()"
   ]
  },
  {
   "cell_type": "markdown",
   "metadata": {},
   "source": [
    "\"Kanal\" og \"Branding Kanal\" ser ud til at være det samme."
   ]
  },
  {
   "cell_type": "code",
   "execution_count": 22,
   "metadata": {},
   "outputs": [
    {
     "data": {
      "text/plain": [
       "Moder Kanal\n",
       "-                  1922344\n",
       "DR P1              1418941\n",
       "P4 Fælles           128021\n",
       "DR P2                38577\n",
       "P3                   26547\n",
       "DR P6 BEAT           23558\n",
       "DR P5                23262\n",
       "DR P8 JAZZ           11947\n",
       "P1                    3153\n",
       "P4 Fyn                1486\n",
       "P4 København          1431\n",
       "P4 Nordjylland         933\n",
       "P4 Sjælland            779\n",
       "P4 Midt & Vest         757\n",
       "P4 Østjylland          719\n",
       "P4 Bornholm            603\n",
       "DR Kultur              510\n",
       "P4 Syd                 496\n",
       "DR LYD ekstra 2        409\n",
       "DR LYD ekstra          306\n",
       "P4 Trekanten           226\n",
       "DR Politik             185\n",
       "DR P2 Plus             185\n",
       "DR Plus                184\n",
       "P4 Esbjerg              60\n",
       "Name: count, dtype: int64"
      ]
     },
     "execution_count": 22,
     "metadata": {},
     "output_type": "execute_result"
    }
   ],
   "source": [
    "transformed_df[\"Moder Kanal\"].value_counts()"
   ]
  },
  {
   "cell_type": "code",
   "execution_count": 23,
   "metadata": {},
   "outputs": [
    {
     "data": {
      "text/plain": [
       "Branding Kanal\n",
       "DR Lyd            1517168\n",
       "DR P1             1137327\n",
       "P3                 334228\n",
       "P4 Fælles          325840\n",
       "-                   49546\n",
       "DR P2               43549\n",
       "dr.dk radio         41865\n",
       "DR P6 BEAT          31474\n",
       "DR P5               22078\n",
       "DR P8 JAZZ          12102\n",
       "P4 Fyn               1486\n",
       "P4 København         1431\n",
       "P4 Nordjylland        933\n",
       "P4 Sjælland           779\n",
       "P4 Midt & Vest        757\n",
       "P4 Østjylland         719\n",
       "P4 Bornholm           603\n",
       "P4 Syd                498\n",
       "DR LYD ekstra         306\n",
       "P4 Trekanten          226\n",
       "P4 Esbjerg             58\n",
       "Name: count, dtype: int64"
      ]
     },
     "execution_count": 23,
     "metadata": {},
     "output_type": "execute_result"
    }
   ],
   "source": [
    "transformed_df[\"Branding Kanal\"].value_counts()"
   ]
  },
  {
   "cell_type": "code",
   "execution_count": 24,
   "metadata": {},
   "outputs": [
    {
     "data": {
      "text/plain": [
       "Kategori\n",
       "Oplysning og kultur         1329101\n",
       "Nyheder                     1028273\n",
       "Aktualitet og debat          918260\n",
       "Musik                        251010\n",
       "Underholdning                 74641\n",
       "Sport                         38282\n",
       "Dramatik og fiktion            6499\n",
       "Udsendelsesvirksomhed          1870\n",
       "Præsentation og services        728\n",
       "Name: count, dtype: int64"
      ]
     },
     "execution_count": 24,
     "metadata": {},
     "output_type": "execute_result"
    }
   ],
   "source": [
    "transformed_df[\"Kategori\"].value_counts()"
   ]
  },
  {
   "cell_type": "markdown",
   "metadata": {},
   "source": [
    "Histogram of completion rate"
   ]
  },
  {
   "cell_type": "code",
   "execution_count": 25,
   "metadata": {},
   "outputs": [
    {
     "data": {
      "text/plain": [
       "Text(0, 0.5, 'density')"
      ]
     },
     "execution_count": 25,
     "metadata": {},
     "output_type": "execute_result"
    },
    {
     "data": {
      "image/png": "[encoded data removed]",
      "text/plain": [
       "<Figure size 640x480 with 1 Axes>"
      ]
     },
     "metadata": {},
     "output_type": "display_data"
    }
   ],
   "source": [
    "plt.hist(transformed_df[\"completion_rate\"], bins=20)\n",
    "plt.xlabel(\"completion_rate\")\n",
    "plt.ylabel(\"density\")"
   ]
  },
  {
   "cell_type": "code",
   "execution_count": 26,
   "metadata": {},
   "outputs": [
    {
     "data": {
      "text/plain": [
       "Text(0, 0.5, 'density')"
      ]
     },
     "execution_count": 26,
     "metadata": {},
     "output_type": "execute_result"
    },
    {
     "data": {
      "image/png": "[encoded data removed]",
      "text/plain": [
       "<Figure size 640x480 with 1 Axes>"
      ]
     },
     "metadata": {},
     "output_type": "display_data"
    }
   ],
   "source": [
    "# histogram for completion rates > 0.9\n",
    "high_rates = transformed_df[transformed_df[\"completion_rate\"] > 0.95]\n",
    "plt.hist(high_rates[\"completion_rate\"], bins=15)\n",
    "plt.xlabel(\"completion_rate\")\n",
    "plt.ylabel(\"density\")"
   ]
  }
 ],
 "metadata": {
  "kernelspec": {
   "display_name": "Python 3",
   "language": "python",
   "name": "python3"
  },
  "language_info": {
   "codemirror_mode": {
    "name": "ipython",
    "version": 3
   },
   "file_extension": ".py",
   "mimetype": "text/x-python",
   "name": "python",
   "nbconvert_exporter": "python",
   "pygments_lexer": "ipython3",
   "version": "3.11.9"
  }
 },
 "nbformat": 4,
 "nbformat_minor": 2
}
