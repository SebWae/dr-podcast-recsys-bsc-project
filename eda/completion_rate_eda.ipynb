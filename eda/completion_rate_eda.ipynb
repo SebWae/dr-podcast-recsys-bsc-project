{
 "cells": [
  {
   "cell_type": "code",
   "execution_count": 6,
   "metadata": {},
   "outputs": [],
   "source": [
    "import numpy as np\n",
    "import pandas as pd"
   ]
  },
  {
   "cell_type": "markdown",
   "metadata": {},
   "source": [
    "This notebook looks into the distribution of completing rates; raw and transformed."
   ]
  },
  {
   "cell_type": "code",
   "execution_count": 16,
   "metadata": {},
   "outputs": [
    {
     "data": {
      "application/vnd.microsoft.datawrangler.viewer.v0+json": {
       "columns": [
        {
         "name": "index",
         "rawType": "int64",
         "type": "integer"
        },
        {
         "name": "user_id",
         "rawType": "object",
         "type": "string"
        },
        {
         "name": "prd_number",
         "rawType": "int64",
         "type": "integer"
        },
        {
         "name": "series_title",
         "rawType": "object",
         "type": "string"
        },
        {
         "name": "unique_title",
         "rawType": "object",
         "type": "string"
        },
        {
         "name": "platform",
         "rawType": "object",
         "type": "string"
        },
        {
         "name": "device_type",
         "rawType": "object",
         "type": "string"
        },
        {
         "name": "pub_date",
         "rawType": "object",
         "type": "string"
        },
        {
         "name": "episode_duration",
         "rawType": "int64",
         "type": "integer"
        },
        {
         "name": "genre",
         "rawType": "object",
         "type": "string"
        },
        {
         "name": "branding_channel",
         "rawType": "object",
         "type": "string"
        },
        {
         "name": "mother_channel",
         "rawType": "object",
         "type": "string"
        },
        {
         "name": "category",
         "rawType": "object",
         "type": "string"
        },
        {
         "name": "content_time_spent",
         "rawType": "int64",
         "type": "integer"
        },
        {
         "name": "date",
         "rawType": "object",
         "type": "string"
        },
        {
         "name": "time",
         "rawType": "object",
         "type": "string"
        },
        {
         "name": "completion_rate",
         "rawType": "float64",
         "type": "float"
        }
       ],
       "conversionMethod": "pd.DataFrame",
       "ref": "e3ed56f4-3eb7-422f-baa2-4992839f204d",
       "rows": [
        [
         "0",
         "00005776ec874bc9ab8ca964cf274858",
         "11032415372",
         "Kampen om historien",
         "Kampen om historien: Jihadismen og kampen mod Vesten_11032415372",
         "app",
         "Mobile Phone",
         "2024-09-10",
         "3416",
         "Historie",
         "DR P1",
         "DR P1",
         "Oplysning og kultur",
         "1140",
         "2024-09-10",
         "14:44:00",
         "0.3337236533957845"
        ],
        [
         "1",
         "00005776ec874bc9ab8ca964cf274858",
         "11032415392",
         "Kampen om historien",
         "Kampen om historien: Midt i en ny mellemkrigstid?_11032415392",
         "app",
         "Mobile Phone",
         "2024-09-24",
         "3416",
         "Historie",
         "DR P1",
         "DR P1",
         "Oplysning og kultur",
         "1257",
         "2024-10-08",
         "10:51:00",
         "0.3679742388758782"
        ],
        [
         "2",
         "00005776ec874bc9ab8ca964cf274858",
         "11032415412",
         "Kampen om historien",
         "Kampen om historien: Gaskamrene er en detalje - holocaustbenægtelse og revisionisme_11032415412",
         "app",
         "Tablet",
         "2024-10-08",
         "3393",
         "Historie",
         "DR P1",
         "DR P1",
         "Oplysning og kultur",
         "3395",
         "2024-11-28",
         "09:42:00",
         "1.0"
        ],
        [
         "3",
         "00005776ec874bc9ab8ca964cf274858",
         "11032415422",
         "Kampen om historien",
         "Kampen om historien: Libanons lange krig - kristne mod muslimer, rige mod fattige, Israel mod Iran_11032415422",
         "app",
         "Mobile Phone",
         "2024-10-15",
         "3427",
         "Historie",
         "DR P1",
         "DR P1",
         "Oplysning og kultur",
         "3425",
         "2024-10-30",
         "09:39:00",
         "0.9994163991829588"
        ],
        [
         "4",
         "00005776ec874bc9ab8ca964cf274858",
         "11032415432",
         "Kampen om historien",
         "Kampen om historien: Hvad har amerikanerne lært af borgerkrigen?_11032415432",
         "app",
         "Mobile Phone",
         "2024-10-22",
         "3365",
         "Historie",
         "DR P1",
         "DR P1",
         "Oplysning og kultur",
         "4681",
         "2024-12-01",
         "10:27:00",
         "1.0"
        ]
       ],
       "shape": {
        "columns": 16,
        "rows": 5
       }
      },
      "text/html": [
       "<div>\n",
       "<style scoped>\n",
       "    .dataframe tbody tr th:only-of-type {\n",
       "        vertical-align: middle;\n",
       "    }\n",
       "\n",
       "    .dataframe tbody tr th {\n",
       "        vertical-align: top;\n",
       "    }\n",
       "\n",
       "    .dataframe thead th {\n",
       "        text-align: right;\n",
       "    }\n",
       "</style>\n",
       "<table border=\"1\" class=\"dataframe\">\n",
       "  <thead>\n",
       "    <tr style=\"text-align: right;\">\n",
       "      <th></th>\n",
       "      <th>user_id</th>\n",
       "      <th>prd_number</th>\n",
       "      <th>series_title</th>\n",
       "      <th>unique_title</th>\n",
       "      <th>platform</th>\n",
       "      <th>device_type</th>\n",
       "      <th>pub_date</th>\n",
       "      <th>episode_duration</th>\n",
       "      <th>genre</th>\n",
       "      <th>branding_channel</th>\n",
       "      <th>mother_channel</th>\n",
       "      <th>category</th>\n",
       "      <th>content_time_spent</th>\n",
       "      <th>date</th>\n",
       "      <th>time</th>\n",
       "      <th>completion_rate</th>\n",
       "    </tr>\n",
       "  </thead>\n",
       "  <tbody>\n",
       "    <tr>\n",
       "      <th>0</th>\n",
       "      <td>00005776ec874bc9ab8ca964cf274858</td>\n",
       "      <td>11032415372</td>\n",
       "      <td>Kampen om historien</td>\n",
       "      <td>Kampen om historien: Jihadismen og kampen mod ...</td>\n",
       "      <td>app</td>\n",
       "      <td>Mobile Phone</td>\n",
       "      <td>2024-09-10</td>\n",
       "      <td>3416</td>\n",
       "      <td>Historie</td>\n",
       "      <td>DR P1</td>\n",
       "      <td>DR P1</td>\n",
       "      <td>Oplysning og kultur</td>\n",
       "      <td>1140</td>\n",
       "      <td>2024-09-10</td>\n",
       "      <td>14:44:00</td>\n",
       "      <td>0.333724</td>\n",
       "    </tr>\n",
       "    <tr>\n",
       "      <th>1</th>\n",
       "      <td>00005776ec874bc9ab8ca964cf274858</td>\n",
       "      <td>11032415392</td>\n",
       "      <td>Kampen om historien</td>\n",
       "      <td>Kampen om historien: Midt i en ny mellemkrigst...</td>\n",
       "      <td>app</td>\n",
       "      <td>Mobile Phone</td>\n",
       "      <td>2024-09-24</td>\n",
       "      <td>3416</td>\n",
       "      <td>Historie</td>\n",
       "      <td>DR P1</td>\n",
       "      <td>DR P1</td>\n",
       "      <td>Oplysning og kultur</td>\n",
       "      <td>1257</td>\n",
       "      <td>2024-10-08</td>\n",
       "      <td>10:51:00</td>\n",
       "      <td>0.367974</td>\n",
       "    </tr>\n",
       "    <tr>\n",
       "      <th>2</th>\n",
       "      <td>00005776ec874bc9ab8ca964cf274858</td>\n",
       "      <td>11032415412</td>\n",
       "      <td>Kampen om historien</td>\n",
       "      <td>Kampen om historien: Gaskamrene er en detalje ...</td>\n",
       "      <td>app</td>\n",
       "      <td>Tablet</td>\n",
       "      <td>2024-10-08</td>\n",
       "      <td>3393</td>\n",
       "      <td>Historie</td>\n",
       "      <td>DR P1</td>\n",
       "      <td>DR P1</td>\n",
       "      <td>Oplysning og kultur</td>\n",
       "      <td>3395</td>\n",
       "      <td>2024-11-28</td>\n",
       "      <td>09:42:00</td>\n",
       "      <td>1.000000</td>\n",
       "    </tr>\n",
       "    <tr>\n",
       "      <th>3</th>\n",
       "      <td>00005776ec874bc9ab8ca964cf274858</td>\n",
       "      <td>11032415422</td>\n",
       "      <td>Kampen om historien</td>\n",
       "      <td>Kampen om historien: Libanons lange krig - kri...</td>\n",
       "      <td>app</td>\n",
       "      <td>Mobile Phone</td>\n",
       "      <td>2024-10-15</td>\n",
       "      <td>3427</td>\n",
       "      <td>Historie</td>\n",
       "      <td>DR P1</td>\n",
       "      <td>DR P1</td>\n",
       "      <td>Oplysning og kultur</td>\n",
       "      <td>3425</td>\n",
       "      <td>2024-10-30</td>\n",
       "      <td>09:39:00</td>\n",
       "      <td>0.999416</td>\n",
       "    </tr>\n",
       "    <tr>\n",
       "      <th>4</th>\n",
       "      <td>00005776ec874bc9ab8ca964cf274858</td>\n",
       "      <td>11032415432</td>\n",
       "      <td>Kampen om historien</td>\n",
       "      <td>Kampen om historien: Hvad har amerikanerne lær...</td>\n",
       "      <td>app</td>\n",
       "      <td>Mobile Phone</td>\n",
       "      <td>2024-10-22</td>\n",
       "      <td>3365</td>\n",
       "      <td>Historie</td>\n",
       "      <td>DR P1</td>\n",
       "      <td>DR P1</td>\n",
       "      <td>Oplysning og kultur</td>\n",
       "      <td>4681</td>\n",
       "      <td>2024-12-01</td>\n",
       "      <td>10:27:00</td>\n",
       "      <td>1.000000</td>\n",
       "    </tr>\n",
       "  </tbody>\n",
       "</table>\n",
       "</div>"
      ],
      "text/plain": [
       "                            user_id   prd_number         series_title  \\\n",
       "0  00005776ec874bc9ab8ca964cf274858  11032415372  Kampen om historien   \n",
       "1  00005776ec874bc9ab8ca964cf274858  11032415392  Kampen om historien   \n",
       "2  00005776ec874bc9ab8ca964cf274858  11032415412  Kampen om historien   \n",
       "3  00005776ec874bc9ab8ca964cf274858  11032415422  Kampen om historien   \n",
       "4  00005776ec874bc9ab8ca964cf274858  11032415432  Kampen om historien   \n",
       "\n",
       "                                        unique_title platform   device_type  \\\n",
       "0  Kampen om historien: Jihadismen og kampen mod ...      app  Mobile Phone   \n",
       "1  Kampen om historien: Midt i en ny mellemkrigst...      app  Mobile Phone   \n",
       "2  Kampen om historien: Gaskamrene er en detalje ...      app        Tablet   \n",
       "3  Kampen om historien: Libanons lange krig - kri...      app  Mobile Phone   \n",
       "4  Kampen om historien: Hvad har amerikanerne lær...      app  Mobile Phone   \n",
       "\n",
       "     pub_date  episode_duration     genre branding_channel mother_channel  \\\n",
       "0  2024-09-10              3416  Historie            DR P1          DR P1   \n",
       "1  2024-09-24              3416  Historie            DR P1          DR P1   \n",
       "2  2024-10-08              3393  Historie            DR P1          DR P1   \n",
       "3  2024-10-15              3427  Historie            DR P1          DR P1   \n",
       "4  2024-10-22              3365  Historie            DR P1          DR P1   \n",
       "\n",
       "              category  content_time_spent        date      time  \\\n",
       "0  Oplysning og kultur                1140  2024-09-10  14:44:00   \n",
       "1  Oplysning og kultur                1257  2024-10-08  10:51:00   \n",
       "2  Oplysning og kultur                3395  2024-11-28  09:42:00   \n",
       "3  Oplysning og kultur                3425  2024-10-30  09:39:00   \n",
       "4  Oplysning og kultur                4681  2024-12-01  10:27:00   \n",
       "\n",
       "   completion_rate  \n",
       "0         0.333724  \n",
       "1         0.367974  \n",
       "2         1.000000  \n",
       "3         0.999416  \n",
       "4         1.000000  "
      ]
     },
     "execution_count": 16,
     "metadata": {},
     "output_type": "execute_result"
    }
   ],
   "source": [
    "# loading my transformed data\n",
    "df = pd.read_csv('../raw_data/transformed_data.csv')\n",
    "df.head()"
   ]
  },
  {
   "cell_type": "code",
   "execution_count": 20,
   "metadata": {},
   "outputs": [
    {
     "data": {
      "text/plain": [
       "<Axes: >"
      ]
     },
     "execution_count": 20,
     "metadata": {},
     "output_type": "execute_result"
    },
    {
     "data": {
      "image/png": "[encoded data removed]",
      "text/plain": [
       "<Figure size 640x480 with 1 Axes>"
      ]
     },
     "metadata": {},
     "output_type": "display_data"
    }
   ],
   "source": [
    "# histogram of completion rates\n",
    "df['completion_rate'].hist(bins=20)"
   ]
  },
  {
   "cell_type": "code",
   "execution_count": 24,
   "metadata": {},
   "outputs": [
    {
     "data": {
      "text/plain": [
       "<Axes: >"
      ]
     },
     "execution_count": 24,
     "metadata": {},
     "output_type": "execute_result"
    },
    {
     "data": {
      "image/png": "[encoded data removed]",
      "text/plain": [
       "<Figure size 1200x600 with 1 Axes>"
      ]
     },
     "metadata": {},
     "output_type": "display_data"
    }
   ],
   "source": [
    "# boxplot of raw completion rates\n",
    "df.boxplot(column='completion_rate', figsize=(12, 6))"
   ]
  },
  {
   "cell_type": "markdown",
   "metadata": {},
   "source": [
    "Applying a negative log transformation, $f(x)=-\\log(1-x)$, to the raw completion rates to balance them out on a more equal scale. This should avoid most of the rates to be in range $[0.95,1]$."
   ]
  },
  {
   "cell_type": "code",
   "execution_count": 31,
   "metadata": {},
   "outputs": [
    {
     "data": {
      "text/plain": [
       "<Axes: >"
      ]
     },
     "execution_count": 31,
     "metadata": {},
     "output_type": "execute_result"
    },
    {
     "data": {
      "image/png": "[encoded data removed]",
      "text/plain": [
       "<Figure size 640x480 with 1 Axes>"
      ]
     },
     "metadata": {},
     "output_type": "display_data"
    }
   ],
   "source": [
    "# subtracting a small value from completion rates that are equal to 1\n",
    "df[\"cr_short\"] = df[\"completion_rate\"] - 0.001\n",
    "\n",
    "# applying the negative log transformation\n",
    "df[\"cr_neg_log\"] = -np.log2(1 - df[\"cr_short\"])\n",
    "\n",
    "# histogram of the transformed completion rates\n",
    "df[\"cr_neg_log\"].hist(bins=20)"
   ]
  },
  {
   "cell_type": "code",
   "execution_count": 25,
   "metadata": {},
   "outputs": [
    {
     "data": {
      "text/plain": [
       "<Axes: >"
      ]
     },
     "execution_count": 25,
     "metadata": {},
     "output_type": "execute_result"
    },
    {
     "data": {
      "image/png": "[encoded data removed]",
      "text/plain": [
       "<Figure size 1200x600 with 1 Axes>"
      ]
     },
     "metadata": {},
     "output_type": "display_data"
    }
   ],
   "source": [
    "# boxplot of transformed completion rates\n",
    "df.boxplot(column='cr_neg_log', figsize=(12, 6))"
   ]
  }
 ],
 "metadata": {
  "kernelspec": {
   "display_name": "Python 3",
   "language": "python",
   "name": "python3"
  },
  "language_info": {
   "codemirror_mode": {
    "name": "ipython",
    "version": 3
   },
   "file_extension": ".py",
   "mimetype": "text/x-python",
   "name": "python",
   "nbconvert_exporter": "python",
   "pygments_lexer": "ipython3",
   "version": "3.11.9"
  }
 },
 "nbformat": 4,
 "nbformat_minor": 2
}
