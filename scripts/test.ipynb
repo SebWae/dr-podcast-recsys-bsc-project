{
 "cells": [
  {
   "cell_type": "code",
   "execution_count": 3,
   "id": "e9a3d5d5",
   "metadata": {},
   "outputs": [],
   "source": [
    "import json\n",
    "import os\n",
    "import sys\n",
    "\n",
    "import numpy as np\n",
    "import pandas as pd\n",
    "from tqdm import tqdm\n",
    "\n",
    "sys.path.append(os.path.abspath(\"..\"))\n",
    "\n",
    "from config import (\n",
    "    TRAIN_DATA_PATH,\n",
    "    TEST_DATA_PATH,\n",
    "    METADATA_PATH,\n",
    "    TRANSFORMED_DATA_PATH,\n",
    "    N_COMPONENTS,\n",
    "    RANDOM_STATE,\n",
    "    N_RECOMMENDATIONS,\n",
    "    N_EPOCHS,\n",
    "    EPSILON,\n",
    "    RECOMMENDATIONS_KEY_CB,\n",
    "    RECOMMENDATIONS_PATH,\n",
    ")"
   ]
  },
  {
   "cell_type": "code",
   "execution_count": 20,
   "id": "73371e24",
   "metadata": {},
   "outputs": [],
   "source": [
    "# importing training data\n",
    "train_df = pd.read_parquet(\"../\" + TRAIN_DATA_PATH)\n",
    "\n",
    "# importing test data\n",
    "test_df = pd.read_parquet(\"../\" + TEST_DATA_PATH)\n",
    "\n",
    "# importing metadata\n",
    "meta_df = pd.read_parquet(\"../\" + METADATA_PATH)"
   ]
  },
  {
   "cell_type": "code",
   "execution_count": 4,
   "id": "e28268e9",
   "metadata": {},
   "outputs": [
    {
     "data": {
      "text/plain": [
       "{'episode': ['ep1', 'ep2'],\n",
       " 'feature1': [2, 8],\n",
       " 'feature2': [3, 4],\n",
       " 'feature3': [4, 6]}"
      ]
     },
     "execution_count": 4,
     "metadata": {},
     "output_type": "execute_result"
    }
   ],
   "source": [
    "test_data = {\"ep1\": [2,3,4],\n",
    "             \"ep2\": [8,4,6]}\n",
    "test_df = pd.DataFrame(test_data)\n",
    "# Transpose and reset index\n",
    "reshaped_df = test_df.T.reset_index()\n",
    "\n",
    "# Rename columns\n",
    "reshaped_df.columns = ['episode', 'feature1', 'feature2', 'feature3']\n",
    "reshaped_dict = reshaped_df.to_dict(orient=\"list\")\n",
    "reshaped_dict"
   ]
  },
  {
   "cell_type": "code",
   "execution_count": 8,
   "id": "05915761",
   "metadata": {},
   "outputs": [
    {
     "ename": "ModuleNotFoundError",
     "evalue": "No module named 'sentence_transformers'",
     "output_type": "error",
     "traceback": [
      "\u001b[1;31m---------------------------------------------------------------------------\u001b[0m",
      "\u001b[1;31mModuleNotFoundError\u001b[0m                       Traceback (most recent call last)",
      "Cell \u001b[1;32mIn[8], line 1\u001b[0m\n\u001b[1;32m----> 1\u001b[0m \u001b[38;5;28;01mfrom\u001b[39;00m \u001b[38;5;21;01msentence_transformers\u001b[39;00m \u001b[38;5;28;01mimport\u001b[39;00m SentenceTransformer\n\u001b[0;32m      3\u001b[0m model \u001b[38;5;241m=\u001b[39m SentenceTransformer(\u001b[38;5;124m'\u001b[39m\u001b[38;5;124mparaphrase-multilingual-MiniLM-L12-v2\u001b[39m\u001b[38;5;124m'\u001b[39m)\n\u001b[0;32m      5\u001b[0m text \u001b[38;5;241m=\u001b[39m \u001b[38;5;124m\"\u001b[39m\u001b[38;5;124mLyssky med milliarder i Dubai\u001b[39m\u001b[38;5;124m\"\u001b[39m\n",
      "\u001b[1;31mModuleNotFoundError\u001b[0m: No module named 'sentence_transformers'"
     ]
    }
   ],
   "source": [
    "from sentence_transformers import SentenceTransformer\n",
    "\n",
    "model = SentenceTransformer('paraphrase-multilingual-MiniLM-L12-v2')\n",
    "\n",
    "text = \"Lyssky med milliarder i Dubai\"\n",
    "embedding = model.encode(text)\n",
    "\n",
    "print(embedding.shape)  # e.g. (384,)\n"
   ]
  }
 ],
 "metadata": {
  "kernelspec": {
   "display_name": "base",
   "language": "python",
   "name": "python3"
  },
  "language_info": {
   "codemirror_mode": {
    "name": "ipython",
    "version": 3
   },
   "file_extension": ".py",
   "mimetype": "text/x-python",
   "name": "python",
   "nbconvert_exporter": "python",
   "pygments_lexer": "ipython3",
   "version": "3.12.7"
  }
 },
 "nbformat": 4,
 "nbformat_minor": 5
}
