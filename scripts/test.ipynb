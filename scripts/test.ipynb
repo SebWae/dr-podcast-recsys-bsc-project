{
 "cells": [
  {
   "cell_type": "code",
   "execution_count": 21,
   "id": "e9a3d5d5",
   "metadata": {},
   "outputs": [],
   "source": [
    "import json\n",
    "import os\n",
    "import sys\n",
    "\n",
    "import numpy as np\n",
    "import pandas as pd\n",
    "from tqdm import tqdm\n",
    "\n",
    "sys.path.append(os.path.abspath(\"..\"))\n",
    "\n",
    "from config import (\n",
    "    TRAIN_DATA_PATH,\n",
    "    TEST_DATA_PATH,\n",
    "    METADATA_PATH,\n",
    "    EMBEDDINGS_TITLE_PATH,\n",
    "    EMBEDDINGS_DESCR_PATH,\n",
    "    EMBEDDINGS_COMBI_PATH,\n",
    "    N_COMPONENTS,\n",
    "    RANDOM_STATE,\n",
    "    N_RECOMMENDATIONS,\n",
    "    N_EPOCHS,\n",
    "    EPSILON,\n",
    "    RECOMMENDATIONS_PATH,\n",
    "    TRANSFORMED_DATA_PATH,\n",
    ")\n",
    "import utils"
   ]
  },
  {
   "cell_type": "code",
   "execution_count": 2,
   "id": "73371e24",
   "metadata": {},
   "outputs": [],
   "source": [
    "# importing training data\n",
    "train_df = pd.read_parquet(\"../\" + TRAIN_DATA_PATH)\n",
    "\n",
    "# importing test data\n",
    "test_df = pd.read_parquet(\"../\" + TEST_DATA_PATH)\n",
    "\n",
    "# importing metadata\n",
    "meta_df = pd.read_parquet(\"../\" + METADATA_PATH)\n",
    "\n",
    "# importing the transformed data\n",
    "transformed_df = pd.read_parquet(\"../\" + TRANSFORMED_DATA_PATH)"
   ]
  },
  {
   "cell_type": "code",
   "execution_count": 29,
   "id": "d197e74e",
   "metadata": {},
   "outputs": [
    {
     "name": "stdout",
     "output_type": "stream",
     "text": [
      "Minimum value: -1.4321266412734985\n",
      "Maximum value: 2.9307823181152344\n"
     ]
    }
   ],
   "source": [
    "# loading embeddings\n",
    "emb_df = pd.read_parquet(\"../\" + EMBEDDINGS_TITLE_PATH)\n",
    "emb_df.drop(columns=\"episode\", inplace=True)\n",
    "min_value = emb_df.min().min()\n",
    "max_value = emb_df.max().max()\n",
    "\n",
    "print(f\"Minimum value: {min_value}\")\n",
    "print(f\"Maximum value: {max_value}\")"
   ]
  },
  {
   "cell_type": "code",
   "execution_count": 30,
   "id": "437179df",
   "metadata": {},
   "outputs": [
    {
     "name": "stdout",
     "output_type": "stream",
     "text": [
      "Minimum value: -1.4321266412734985\n",
      "Maximum value: 2.5043904781341553\n"
     ]
    }
   ],
   "source": [
    "# loading embeddings\n",
    "emb_df = pd.read_parquet(\"../\" + EMBEDDINGS_DESCR_PATH)\n",
    "emb_df.drop(columns=\"episode\", inplace=True)\n",
    "min_value = emb_df.min().min()\n",
    "max_value = emb_df.max().max()\n",
    "\n",
    "print(f\"Minimum value: {min_value}\")\n",
    "print(f\"Maximum value: {max_value}\")"
   ]
  },
  {
   "cell_type": "code",
   "execution_count": 31,
   "id": "b9e936b3",
   "metadata": {},
   "outputs": [
    {
     "name": "stdout",
     "output_type": "stream",
     "text": [
      "Minimum value: -1.4321266412734985\n",
      "Maximum value: 2.5043904781341553\n"
     ]
    }
   ],
   "source": [
    "# loading embeddings\n",
    "emb_df = pd.read_parquet(\"../\" + EMBEDDINGS_COMBI_PATH)\n",
    "emb_df.drop(columns=\"episode\", inplace=True)\n",
    "min_value = emb_df.min().min()\n",
    "max_value = emb_df.max().max()\n",
    "\n",
    "print(f\"Minimum value: {min_value}\")\n",
    "print(f\"Maximum value: {max_value}\")"
   ]
  },
  {
   "cell_type": "code",
   "execution_count": 10,
   "id": "063d70fd",
   "metadata": {},
   "outputs": [
    {
     "data": {
      "text/plain": [
       "['11802450402',\n",
       " '16122492630',\n",
       " '16122492637',\n",
       " '16122493781',\n",
       " '16122492636',\n",
       " '16122493791',\n",
       " '16122492631',\n",
       " '16122492639',\n",
       " '16122492633',\n",
       " '16122492632']"
      ]
     },
     "execution_count": 10,
     "metadata": {},
     "output_type": "execute_result"
    }
   ],
   "source": [
    "train_and_test_df = pd.concat([train_df, test_df])\n",
    "episode_counts = train_and_test_df.groupby(\"prd_number\").size().reset_index(name=\"count\")\n",
    "top_10_episodes_tt = episode_counts.nlargest(10, \"count\")[\"prd_number\"].tolist()\n",
    "top_10_episodes_tt"
   ]
  },
  {
   "cell_type": "code",
   "execution_count": 20,
   "id": "b3aeda92",
   "metadata": {},
   "outputs": [
    {
     "data": {
      "text/plain": [
       "False"
      ]
     },
     "execution_count": 20,
     "metadata": {},
     "output_type": "execute_result"
    }
   ],
   "source": [
    "my_set = {}\n",
    "my_list = [\"hund\", \"høne\"]\n",
    "\n",
    "bool(my_set)"
   ]
  },
  {
   "cell_type": "code",
   "execution_count": 11,
   "id": "1c6a6d35",
   "metadata": {},
   "outputs": [
    {
     "data": {
      "text/plain": [
       "['11802450402',\n",
       " '16122492630',\n",
       " '16122493781',\n",
       " '16122493791',\n",
       " '16122492631',\n",
       " '16122492636',\n",
       " '16122492637',\n",
       " '16122492632',\n",
       " '16122492633',\n",
       " '16122492639']"
      ]
     },
     "execution_count": 11,
     "metadata": {},
     "output_type": "execute_result"
    }
   ],
   "source": [
    "episode_counts = transformed_df.groupby(\"prd_number\").size().reset_index(name=\"count\")\n",
    "top_10_episodes_tr = episode_counts.nlargest(10, \"count\")[\"prd_number\"].tolist()\n",
    "top_10_episodes_tr"
   ]
  }
 ],
 "metadata": {
  "kernelspec": {
   "display_name": "dr-podcast-recsys",
   "language": "python",
   "name": "python3"
  },
  "language_info": {
   "codemirror_mode": {
    "name": "ipython",
    "version": 3
   },
   "file_extension": ".py",
   "mimetype": "text/x-python",
   "name": "python",
   "nbconvert_exporter": "python",
   "pygments_lexer": "ipython3",
   "version": "3.10.16"
  }
 },
 "nbformat": 4,
 "nbformat_minor": 5
}
