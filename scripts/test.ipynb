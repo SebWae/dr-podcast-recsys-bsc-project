{
 "cells": [
  {
   "cell_type": "code",
   "execution_count": 9,
   "id": "e9a3d5d5",
   "metadata": {},
   "outputs": [],
   "source": [
    "from collections import defaultdict\n",
    "from datetime import datetime\n",
    "import json\n",
    "import os\n",
    "import sys\n",
    "\n",
    "import numpy as np\n",
    "import pandas as pd\n",
    "from tqdm import tqdm\n",
    "\n",
    "sys.path.append(os.path.abspath(\"..\"))\n",
    "\n",
    "from config import (\n",
    "    FILTERED_DATA_PATH,\n",
    "    TRAIN_DATA_PATH,\n",
    "    VAL_DATA_PATH,\n",
    "    TEST_DATA_PATH,\n",
    "    METADATA_PATH,\n",
    "    EMBEDDINGS_TITLE_PATH,\n",
    "    EMBEDDINGS_DESCR_PATH,\n",
    "    EMBEDDINGS_COMBI_PATH,\n",
    "    RANDOM_STATE,\n",
    "    N_RECOMMENDATIONS,\n",
    "    N_EPOCHS,\n",
    "    RECOMMENDATIONS_PATH,\n",
    "    TRANSFORMED_DATA_PATH,\n",
    "    SPLIT_DATE_TRAIN_VAL,\n",
    "    SPLIT_DATE_VAL_TEST,\n",
    ")\n",
    "import utils.utils as utils"
   ]
  },
  {
   "cell_type": "code",
   "execution_count": 4,
   "id": "73371e24",
   "metadata": {},
   "outputs": [],
   "source": [
    "# importing training data\n",
    "train_df = pd.read_parquet(\"../\" + TRAIN_DATA_PATH)\n",
    "\n",
    "# importing validation data\n",
    "val_df = pd.read_parquet(\"../\" + VAL_DATA_PATH)\n",
    "\n",
    "# importing test data\n",
    "test_df = pd.read_parquet(\"../\" + TEST_DATA_PATH)\n",
    "\n",
    "# importing metadata\n",
    "meta_df = pd.read_parquet(\"../\" + METADATA_PATH)\n",
    "\n",
    "# importing the transformed data\n",
    "transformed_df = pd.read_parquet(\"../\" + TRANSFORMED_DATA_PATH)\n",
    "\n",
    "# importing the filtered data\n",
    "filtered_df = pd.read_parquet(\"../\" + FILTERED_DATA_PATH)\n",
    "\n",
    "# importing embeddings\n",
    "title_embeddings = pd.read_parquet(\"../\" + EMBEDDINGS_TITLE_PATH)"
   ]
  },
  {
   "cell_type": "code",
   "execution_count": 5,
   "id": "03fba0b4",
   "metadata": {},
   "outputs": [],
   "source": [
    "train_w_meta = train_df.merge(meta_df, how=\"left\", on=\"prd_number\")"
   ]
  },
  {
   "cell_type": "code",
   "execution_count": 10,
   "id": "73373a72",
   "metadata": {},
   "outputs": [
    {
     "ename": "KeyError",
     "evalue": "'date'",
     "output_type": "error",
     "traceback": [
      "\u001b[1;31m---------------------------------------------------------------------------\u001b[0m",
      "\u001b[1;31mKeyError\u001b[0m                                  Traceback (most recent call last)",
      "File \u001b[1;32mc:\\Users\\sewr\\AppData\\Local\\anaconda3\\envs\\dr-podcast-recsys\\lib\\site-packages\\pandas\\core\\indexes\\base.py:3805\u001b[0m, in \u001b[0;36mIndex.get_loc\u001b[1;34m(self, key)\u001b[0m\n\u001b[0;32m   3804\u001b[0m \u001b[38;5;28;01mtry\u001b[39;00m:\n\u001b[1;32m-> 3805\u001b[0m     \u001b[38;5;28;01mreturn\u001b[39;00m \u001b[38;5;28;43mself\u001b[39;49m\u001b[38;5;241;43m.\u001b[39;49m\u001b[43m_engine\u001b[49m\u001b[38;5;241;43m.\u001b[39;49m\u001b[43mget_loc\u001b[49m\u001b[43m(\u001b[49m\u001b[43mcasted_key\u001b[49m\u001b[43m)\u001b[49m\n\u001b[0;32m   3806\u001b[0m \u001b[38;5;28;01mexcept\u001b[39;00m \u001b[38;5;167;01mKeyError\u001b[39;00m \u001b[38;5;28;01mas\u001b[39;00m err:\n",
      "File \u001b[1;32mindex.pyx:167\u001b[0m, in \u001b[0;36mpandas._libs.index.IndexEngine.get_loc\u001b[1;34m()\u001b[0m\n",
      "File \u001b[1;32mindex.pyx:196\u001b[0m, in \u001b[0;36mpandas._libs.index.IndexEngine.get_loc\u001b[1;34m()\u001b[0m\n",
      "File \u001b[1;32mpandas\\\\_libs\\\\hashtable_class_helper.pxi:7081\u001b[0m, in \u001b[0;36mpandas._libs.hashtable.PyObjectHashTable.get_item\u001b[1;34m()\u001b[0m\n",
      "File \u001b[1;32mpandas\\\\_libs\\\\hashtable_class_helper.pxi:7089\u001b[0m, in \u001b[0;36mpandas._libs.hashtable.PyObjectHashTable.get_item\u001b[1;34m()\u001b[0m\n",
      "\u001b[1;31mKeyError\u001b[0m: 'date'",
      "\nThe above exception was the direct cause of the following exception:\n",
      "\u001b[1;31mKeyError\u001b[0m                                  Traceback (most recent call last)",
      "Cell \u001b[1;32mIn[10], line 4\u001b[0m\n\u001b[0;32m      2\u001b[0m test_df \u001b[38;5;241m=\u001b[39m train_df\n\u001b[0;32m      3\u001b[0m \u001b[38;5;66;03m# Ensure the \"date\" column is in datetime format\u001b[39;00m\n\u001b[1;32m----> 4\u001b[0m test_df[\u001b[38;5;124m\"\u001b[39m\u001b[38;5;124mdate\u001b[39m\u001b[38;5;124m\"\u001b[39m] \u001b[38;5;241m=\u001b[39m pd\u001b[38;5;241m.\u001b[39mto_datetime(\u001b[43mtest_df\u001b[49m\u001b[43m[\u001b[49m\u001b[38;5;124;43m\"\u001b[39;49m\u001b[38;5;124;43mdate\u001b[39;49m\u001b[38;5;124;43m\"\u001b[39;49m\u001b[43m]\u001b[49m, \u001b[38;5;28mformat\u001b[39m\u001b[38;5;241m=\u001b[39m\u001b[38;5;124m\"\u001b[39m\u001b[38;5;124m%\u001b[39m\u001b[38;5;124mY-\u001b[39m\u001b[38;5;124m%\u001b[39m\u001b[38;5;124mm-\u001b[39m\u001b[38;5;132;01m%d\u001b[39;00m\u001b[38;5;124m\"\u001b[39m)\n\u001b[0;32m      6\u001b[0m \u001b[38;5;66;03m# Calculate the number of days since the reference date\u001b[39;00m\n\u001b[0;32m      7\u001b[0m test_df[\u001b[38;5;124m\"\u001b[39m\u001b[38;5;124mdays_since\u001b[39m\u001b[38;5;124m\"\u001b[39m] \u001b[38;5;241m=\u001b[39m (reference_date \u001b[38;5;241m-\u001b[39m test_df[\u001b[38;5;124m\"\u001b[39m\u001b[38;5;124mdate\u001b[39m\u001b[38;5;124m\"\u001b[39m])\u001b[38;5;241m.\u001b[39mdt\u001b[38;5;241m.\u001b[39mdays\n",
      "File \u001b[1;32mc:\\Users\\sewr\\AppData\\Local\\anaconda3\\envs\\dr-podcast-recsys\\lib\\site-packages\\pandas\\core\\frame.py:4102\u001b[0m, in \u001b[0;36mDataFrame.__getitem__\u001b[1;34m(self, key)\u001b[0m\n\u001b[0;32m   4100\u001b[0m \u001b[38;5;28;01mif\u001b[39;00m \u001b[38;5;28mself\u001b[39m\u001b[38;5;241m.\u001b[39mcolumns\u001b[38;5;241m.\u001b[39mnlevels \u001b[38;5;241m>\u001b[39m \u001b[38;5;241m1\u001b[39m:\n\u001b[0;32m   4101\u001b[0m     \u001b[38;5;28;01mreturn\u001b[39;00m \u001b[38;5;28mself\u001b[39m\u001b[38;5;241m.\u001b[39m_getitem_multilevel(key)\n\u001b[1;32m-> 4102\u001b[0m indexer \u001b[38;5;241m=\u001b[39m \u001b[38;5;28;43mself\u001b[39;49m\u001b[38;5;241;43m.\u001b[39;49m\u001b[43mcolumns\u001b[49m\u001b[38;5;241;43m.\u001b[39;49m\u001b[43mget_loc\u001b[49m\u001b[43m(\u001b[49m\u001b[43mkey\u001b[49m\u001b[43m)\u001b[49m\n\u001b[0;32m   4103\u001b[0m \u001b[38;5;28;01mif\u001b[39;00m is_integer(indexer):\n\u001b[0;32m   4104\u001b[0m     indexer \u001b[38;5;241m=\u001b[39m [indexer]\n",
      "File \u001b[1;32mc:\\Users\\sewr\\AppData\\Local\\anaconda3\\envs\\dr-podcast-recsys\\lib\\site-packages\\pandas\\core\\indexes\\base.py:3812\u001b[0m, in \u001b[0;36mIndex.get_loc\u001b[1;34m(self, key)\u001b[0m\n\u001b[0;32m   3807\u001b[0m     \u001b[38;5;28;01mif\u001b[39;00m \u001b[38;5;28misinstance\u001b[39m(casted_key, \u001b[38;5;28mslice\u001b[39m) \u001b[38;5;129;01mor\u001b[39;00m (\n\u001b[0;32m   3808\u001b[0m         \u001b[38;5;28misinstance\u001b[39m(casted_key, abc\u001b[38;5;241m.\u001b[39mIterable)\n\u001b[0;32m   3809\u001b[0m         \u001b[38;5;129;01mand\u001b[39;00m \u001b[38;5;28many\u001b[39m(\u001b[38;5;28misinstance\u001b[39m(x, \u001b[38;5;28mslice\u001b[39m) \u001b[38;5;28;01mfor\u001b[39;00m x \u001b[38;5;129;01min\u001b[39;00m casted_key)\n\u001b[0;32m   3810\u001b[0m     ):\n\u001b[0;32m   3811\u001b[0m         \u001b[38;5;28;01mraise\u001b[39;00m InvalidIndexError(key)\n\u001b[1;32m-> 3812\u001b[0m     \u001b[38;5;28;01mraise\u001b[39;00m \u001b[38;5;167;01mKeyError\u001b[39;00m(key) \u001b[38;5;28;01mfrom\u001b[39;00m\u001b[38;5;250m \u001b[39m\u001b[38;5;21;01merr\u001b[39;00m\n\u001b[0;32m   3813\u001b[0m \u001b[38;5;28;01mexcept\u001b[39;00m \u001b[38;5;167;01mTypeError\u001b[39;00m:\n\u001b[0;32m   3814\u001b[0m     \u001b[38;5;66;03m# If we have a listlike key, _check_indexing_error will raise\u001b[39;00m\n\u001b[0;32m   3815\u001b[0m     \u001b[38;5;66;03m#  InvalidIndexError. Otherwise we fall through and re-raise\u001b[39;00m\n\u001b[0;32m   3816\u001b[0m     \u001b[38;5;66;03m#  the TypeError.\u001b[39;00m\n\u001b[0;32m   3817\u001b[0m     \u001b[38;5;28mself\u001b[39m\u001b[38;5;241m.\u001b[39m_check_indexing_error(key)\n",
      "\u001b[1;31mKeyError\u001b[0m: 'date'"
     ]
    }
   ],
   "source": [
    "reference_date = datetime.strptime(\"2024-10-21\", \"%Y-%m-%d\")\n",
    "test_df = train_df\n",
    "# Ensure the \"date\" column is in datetime format\n",
    "test_df[\"date\"] = pd.to_datetime(test_df[\"date\"], format=\"%Y-%m-%d\")\n",
    "\n",
    "# Calculate the number of days since the reference date\n",
    "test_df[\"days_since\"] = (reference_date - test_df[\"date\"]).dt.days\n",
    "\n",
    "print(test_df)"
   ]
  },
  {
   "cell_type": "code",
   "execution_count": null,
   "id": "eeae959f",
   "metadata": {},
   "outputs": [
    {
     "data": {
      "application/vnd.microsoft.datawrangler.viewer.v0+json": {
       "columns": [
        {
         "name": "index",
         "rawType": "int64",
         "type": "integer"
        },
        {
         "name": "user",
         "rawType": "object",
         "type": "string"
        },
        {
         "name": "item",
         "rawType": "object",
         "type": "string"
        },
        {
         "name": "avg_completion_rate",
         "rawType": "float64",
         "type": "float"
        },
        {
         "name": "n_episodes",
         "rawType": "int64",
         "type": "integer"
        },
        {
         "name": "rating",
         "rawType": "float64",
         "type": "float"
        }
       ],
       "conversionMethod": "pd.DataFrame",
       "ref": "428ae400-720a-4a7d-80f7-fda9c0bae0f1",
       "rows": [
        [
         "0",
         "00018423377c14104870be7deda65daaa9dbc7b97f89a8d2f0702173d48e7739",
         "Damerne først",
         "0.8765539173171437",
         "1",
         "0.9128368376408612"
        ],
        [
         "1",
         "00018423377c14104870be7deda65daaa9dbc7b97f89a8d2f0702173d48e7739",
         "Supertanker",
         "0.9133016627078385",
         "1",
         "0.9511056708867877"
        ],
        [
         "2",
         "00018423377c14104870be7deda65daaa9dbc7b97f89a8d2f0702173d48e7739",
         "Tabloid",
         "1.0",
         "1",
         "1.0413926851582251"
        ],
        [
         "3",
         "00018423377c14104870be7deda65daaa9dbc7b97f89a8d2f0702173d48e7739",
         "Ubegribeligt",
         "0.5199883279836591",
         "1",
         "0.5415120411298386"
        ],
        [
         "4",
         "00018423377c14104870be7deda65daaa9dbc7b97f89a8d2f0702173d48e7739",
         "Udsyn",
         "0.896782027929569",
         "1",
         "0.9339022440672122"
        ],
        [
         "5",
         "00051e4d15267dd420ebac00a1382db78d74e027c55d7f5db238822e29090e87",
         "Djævlen i detaljen",
         "0.6012977190939712",
         "6",
         "0.7240345990864798"
        ],
        [
         "6",
         "00051e4d15267dd420ebac00a1382db78d74e027c55d7f5db238822e29090e87",
         "Enken med nazidokumenterne",
         "0.8163652638147241",
         "5",
         "0.9601200509691823"
        ],
        [
         "7",
         "00051e4d15267dd420ebac00a1382db78d74e027c55d7f5db238822e29090e87",
         "Fængsel",
         "0.7978878368536052",
         "1",
         "0.8309145568760637"
        ],
        [
         "8",
         "00051e4d15267dd420ebac00a1382db78d74e027c55d7f5db238822e29090e87",
         "Genstart",
         "0.9430439746711944",
         "24",
         "1.4442519650526646"
        ],
        [
         "9",
         "00051e4d15267dd420ebac00a1382db78d74e027c55d7f5db238822e29090e87",
         "Kvinder i krig",
         "0.5720157008975243",
         "7",
         "0.7038361021807961"
        ],
        [
         "10",
         "00051e4d15267dd420ebac00a1382db78d74e027c55d7f5db238822e29090e87",
         "Lyssky",
         "0.9988358556461001",
         "1",
         "1.0401803537436056"
        ],
        [
         "11",
         "00051e4d15267dd420ebac00a1382db78d74e027c55d7f5db238822e29090e87",
         "Sara & Monopolet - podcast",
         "0.4712287678974455",
         "5",
         "0.5542080349397641"
        ],
        [
         "12",
         "00051e4d15267dd420ebac00a1382db78d74e027c55d7f5db238822e29090e87",
         "Sorte tal",
         "0.5046839234366718",
         "4",
         "0.5784323938068588"
        ],
        [
         "13",
         "00051e4d15267dd420ebac00a1382db78d74e027c55d7f5db238822e29090e87",
         "Tiden",
         "0.705857359301039",
         "4",
         "0.809002908684728"
        ],
        [
         "14",
         "000599ea041624d4e74e5ec2e285ae56abe4432eec717ba7d92dd8ebcb670579",
         "Bakspejl",
         "0.6431210804708599",
         "3",
         "0.7164004523189046"
        ],
        [
         "15",
         "000599ea041624d4e74e5ec2e285ae56abe4432eec717ba7d92dd8ebcb670579",
         "Genstart",
         "0.9474203787309871",
         "3",
         "1.0553726327274087"
        ],
        [
         "16",
         "000599ea041624d4e74e5ec2e285ae56abe4432eec717ba7d92dd8ebcb670579",
         "Prompt",
         "0.21986469864698646",
         "1",
         "0.22896548889548923"
        ],
        [
         "17",
         "000599ea041624d4e74e5ec2e285ae56abe4432eec717ba7d92dd8ebcb670579",
         "Rotationer",
         "0.354695652173913",
         "5",
         "0.41715445614679336"
        ],
        [
         "18",
         "000599ea041624d4e74e5ec2e285ae56abe4432eec717ba7d92dd8ebcb670579",
         "Tiden",
         "0.9903135574118471",
         "18",
         "1.4331402181556385"
        ],
        [
         "19",
         "00060682bbc0cd8212733274e53e758949e624f477897016792e52114b647603",
         "Aftenland",
         "0.45754985754985755",
         "1",
         "0.47648907474760954"
        ],
        [
         "20",
         "00060682bbc0cd8212733274e53e758949e624f477897016792e52114b647603",
         "Vistis Weekendguide",
         "0.20565217391304347",
         "1",
         "0.21416466959993063"
        ],
        [
         "21",
         "00062a4d5b46ec9d8b39ef562b22374b74674e83eddce1f86717b16e8c258890",
         "Bakspejl",
         "0.7511194191964182",
         "5",
         "0.8833849834238876"
        ],
        [
         "22",
         "00062a4d5b46ec9d8b39ef562b22374b74674e83eddce1f86717b16e8c258890",
         "Den sandsynlige morder",
         "0.6751399850997597",
         "3",
         "0.7520676982784141"
        ],
        [
         "23",
         "00062a4d5b46ec9d8b39ef562b22374b74674e83eddce1f86717b16e8c258890",
         "Den sidste modstandsmand",
         "0.6545094023461612",
         "3",
         "0.729086397765827"
        ],
        [
         "24",
         "00062a4d5b46ec9d8b39ef562b22374b74674e83eddce1f86717b16e8c258890",
         "Det brændte bordel",
         "0.8197014297313093",
         "9",
         "1.048196154975094"
        ],
        [
         "25",
         "00062a4d5b46ec9d8b39ef562b22374b74674e83eddce1f86717b16e8c258890",
         "Det perfekte offer",
         "0.7071664395531121",
         "2",
         "0.76316075939999"
        ],
        [
         "26",
         "00062a4d5b46ec9d8b39ef562b22374b74674e83eddce1f86717b16e8c258890",
         "Det perfekte offer II",
         "0.5696597484131194",
         "5",
         "0.6699718507445283"
        ],
        [
         "27",
         "00062a4d5b46ec9d8b39ef562b22374b74674e83eddce1f86717b16e8c258890",
         "Det perfekte offer III",
         "0.5839020473705339",
         "2",
         "0.630136139051092"
        ],
        [
         "28",
         "00062a4d5b46ec9d8b39ef562b22374b74674e83eddce1f86717b16e8c258890",
         "Djævlen i detaljen",
         "0.7077537065497584",
         "7",
         "0.8708547848256256"
        ],
        [
         "29",
         "00062a4d5b46ec9d8b39ef562b22374b74674e83eddce1f86717b16e8c258890",
         "Dobbeltmordet",
         "0.8716719503034679",
         "7",
         "1.0725478110465985"
        ],
        [
         "30",
         "00062a4d5b46ec9d8b39ef562b22374b74674e83eddce1f86717b16e8c258890",
         "En beklagelig fejl",
         "0.7213155291790306",
         "2",
         "0.7784301915729283"
        ],
        [
         "31",
         "00062a4d5b46ec9d8b39ef562b22374b74674e83eddce1f86717b16e8c258890",
         "En helvedes fortid",
         "0.8721974037140535",
         "3",
         "0.9715784997665522"
        ],
        [
         "32",
         "00062a4d5b46ec9d8b39ef562b22374b74674e83eddce1f86717b16e8c258890",
         "Enken med nazidokumenterne",
         "0.8923425978445831",
         "5",
         "1.0494763294080534"
        ],
        [
         "33",
         "00062a4d5b46ec9d8b39ef562b22374b74674e83eddce1f86717b16e8c258890",
         "Et langsomt mord",
         "0.6355076572590393",
         "3",
         "0.7079195301437985"
        ],
        [
         "34",
         "00062a4d5b46ec9d8b39ef562b22374b74674e83eddce1f86717b16e8c258890",
         "Forbrydelsens Anatomi",
         "0.08093070308548306",
         "1",
         "0.08428064219793426"
        ],
        [
         "35",
         "00062a4d5b46ec9d8b39ef562b22374b74674e83eddce1f86717b16e8c258890",
         "Genstart",
         "0.7807589878203769",
         "21",
         "1.1643940465521294"
        ],
        [
         "36",
         "00062a4d5b46ec9d8b39ef562b22374b74674e83eddce1f86717b16e8c258890",
         "Guld og grønne skove",
         "0.21804742839544194",
         "1",
         "0.2270729969485751"
        ],
        [
         "37",
         "00062a4d5b46ec9d8b39ef562b22374b74674e83eddce1f86717b16e8c258890",
         "Kampen om historien",
         "0.9998522458628842",
         "2",
         "1.0790217925538237"
        ],
        [
         "38",
         "00062a4d5b46ec9d8b39ef562b22374b74674e83eddce1f86717b16e8c258890",
         "Krig",
         "0.8935652173913043",
         "1",
         "0.9305522811031236"
        ],
        [
         "39",
         "00062a4d5b46ec9d8b39ef562b22374b74674e83eddce1f86717b16e8c258890",
         "Lyssky",
         "0.462672348293487",
         "5",
         "0.5441449046347359"
        ],
        [
         "40",
         "00062a4d5b46ec9d8b39ef562b22374b74674e83eddce1f86717b16e8c258890",
         "P1 Orientering",
         "0.544867618560271",
         "4",
         "0.6244880533651628"
        ],
        [
         "41",
         "00062a4d5b46ec9d8b39ef562b22374b74674e83eddce1f86717b16e8c258890",
         "Peter prepper",
         "1.0",
         "1",
         "1.0413926851582251"
        ],
        [
         "42",
         "00062a4d5b46ec9d8b39ef562b22374b74674e83eddce1f86717b16e8c258890",
         "Radioavisen",
         "1.0",
         "1",
         "1.0413926851582251"
        ],
        [
         "43",
         "00062a4d5b46ec9d8b39ef562b22374b74674e83eddce1f86717b16e8c258890",
         "Sara & Monopolet - podcast",
         "0.9347826086956522",
         "3",
         "1.041294872808565"
        ],
        [
         "44",
         "00062a4d5b46ec9d8b39ef562b22374b74674e83eddce1f86717b16e8c258890",
         "Skud i sneen",
         "0.9887661927228283",
         "7",
         "1.2166262953311064"
        ],
        [
         "45",
         "00062a4d5b46ec9d8b39ef562b22374b74674e83eddce1f86717b16e8c258890",
         "Speditørens død - Mysteriet om Morten Nielsen",
         "0.7654320987654322",
         "2",
         "0.8260399661105278"
        ],
        [
         "46",
         "00062a4d5b46ec9d8b39ef562b22374b74674e83eddce1f86717b16e8c258890",
         "Stjerner og striber",
         "0.40373917646403673",
         "3",
         "0.44974257168795057"
        ],
        [
         "47",
         "00062a4d5b46ec9d8b39ef562b22374b74674e83eddce1f86717b16e8c258890",
         "Svingdøren",
         "0.4296094102317419",
         "5",
         "0.505259872181618"
        ],
        [
         "48",
         "00062a4d5b46ec9d8b39ef562b22374b74674e83eddce1f86717b16e8c258890",
         "Tabloid",
         "0.7551092299700665",
         "4",
         "0.8654518584680991"
        ],
        [
         "49",
         "00062a4d5b46ec9d8b39ef562b22374b74674e83eddce1f86717b16e8c258890",
         "Tiden",
         "0.8455306645457759",
         "4",
         "0.9690863996615653"
        ]
       ],
       "shape": {
        "columns": 5,
        "rows": 352721
       }
      },
      "text/html": [
       "<div>\n",
       "<style scoped>\n",
       "    .dataframe tbody tr th:only-of-type {\n",
       "        vertical-align: middle;\n",
       "    }\n",
       "\n",
       "    .dataframe tbody tr th {\n",
       "        vertical-align: top;\n",
       "    }\n",
       "\n",
       "    .dataframe thead th {\n",
       "        text-align: right;\n",
       "    }\n",
       "</style>\n",
       "<table border=\"1\" class=\"dataframe\">\n",
       "  <thead>\n",
       "    <tr style=\"text-align: right;\">\n",
       "      <th></th>\n",
       "      <th>user</th>\n",
       "      <th>item</th>\n",
       "      <th>avg_completion_rate</th>\n",
       "      <th>n_episodes</th>\n",
       "      <th>rating</th>\n",
       "    </tr>\n",
       "  </thead>\n",
       "  <tbody>\n",
       "    <tr>\n",
       "      <th>0</th>\n",
       "      <td>00018423377c14104870be7deda65daaa9dbc7b97f89a8...</td>\n",
       "      <td>Damerne først</td>\n",
       "      <td>0.876554</td>\n",
       "      <td>1</td>\n",
       "      <td>0.912837</td>\n",
       "    </tr>\n",
       "    <tr>\n",
       "      <th>1</th>\n",
       "      <td>00018423377c14104870be7deda65daaa9dbc7b97f89a8...</td>\n",
       "      <td>Supertanker</td>\n",
       "      <td>0.913302</td>\n",
       "      <td>1</td>\n",
       "      <td>0.951106</td>\n",
       "    </tr>\n",
       "    <tr>\n",
       "      <th>2</th>\n",
       "      <td>00018423377c14104870be7deda65daaa9dbc7b97f89a8...</td>\n",
       "      <td>Tabloid</td>\n",
       "      <td>1.000000</td>\n",
       "      <td>1</td>\n",
       "      <td>1.041393</td>\n",
       "    </tr>\n",
       "    <tr>\n",
       "      <th>3</th>\n",
       "      <td>00018423377c14104870be7deda65daaa9dbc7b97f89a8...</td>\n",
       "      <td>Ubegribeligt</td>\n",
       "      <td>0.519988</td>\n",
       "      <td>1</td>\n",
       "      <td>0.541512</td>\n",
       "    </tr>\n",
       "    <tr>\n",
       "      <th>4</th>\n",
       "      <td>00018423377c14104870be7deda65daaa9dbc7b97f89a8...</td>\n",
       "      <td>Udsyn</td>\n",
       "      <td>0.896782</td>\n",
       "      <td>1</td>\n",
       "      <td>0.933902</td>\n",
       "    </tr>\n",
       "    <tr>\n",
       "      <th>...</th>\n",
       "      <td>...</td>\n",
       "      <td>...</td>\n",
       "      <td>...</td>\n",
       "      <td>...</td>\n",
       "      <td>...</td>\n",
       "    </tr>\n",
       "    <tr>\n",
       "      <th>352716</th>\n",
       "      <td>fffe6e1be686be369dfe0943282e377f7d1a51c0eae35a...</td>\n",
       "      <td>Tiden</td>\n",
       "      <td>0.997999</td>\n",
       "      <td>15</td>\n",
       "      <td>1.395142</td>\n",
       "    </tr>\n",
       "    <tr>\n",
       "      <th>352717</th>\n",
       "      <td>fffe6e1be686be369dfe0943282e377f7d1a51c0eae35a...</td>\n",
       "      <td>Tyvstart</td>\n",
       "      <td>0.910651</td>\n",
       "      <td>19</td>\n",
       "      <td>1.331734</td>\n",
       "    </tr>\n",
       "    <tr>\n",
       "      <th>352718</th>\n",
       "      <td>fffe6e1be686be369dfe0943282e377f7d1a51c0eae35a...</td>\n",
       "      <td>Ugens gæst</td>\n",
       "      <td>0.254764</td>\n",
       "      <td>1</td>\n",
       "      <td>0.265309</td>\n",
       "    </tr>\n",
       "    <tr>\n",
       "      <th>352719</th>\n",
       "      <td>fffe6e1be686be369dfe0943282e377f7d1a51c0eae35a...</td>\n",
       "      <td>Verden ifølge Gram</td>\n",
       "      <td>0.647841</td>\n",
       "      <td>2</td>\n",
       "      <td>0.699137</td>\n",
       "    </tr>\n",
       "    <tr>\n",
       "      <th>352720</th>\n",
       "      <td>fffe6e1be686be369dfe0943282e377f7d1a51c0eae35a...</td>\n",
       "      <td>Verdens bedste film</td>\n",
       "      <td>0.107174</td>\n",
       "      <td>1</td>\n",
       "      <td>0.111610</td>\n",
       "    </tr>\n",
       "  </tbody>\n",
       "</table>\n",
       "<p>352721 rows × 5 columns</p>\n",
       "</div>"
      ],
      "text/plain": [
       "                                                     user  \\\n",
       "0       00018423377c14104870be7deda65daaa9dbc7b97f89a8...   \n",
       "1       00018423377c14104870be7deda65daaa9dbc7b97f89a8...   \n",
       "2       00018423377c14104870be7deda65daaa9dbc7b97f89a8...   \n",
       "3       00018423377c14104870be7deda65daaa9dbc7b97f89a8...   \n",
       "4       00018423377c14104870be7deda65daaa9dbc7b97f89a8...   \n",
       "...                                                   ...   \n",
       "352716  fffe6e1be686be369dfe0943282e377f7d1a51c0eae35a...   \n",
       "352717  fffe6e1be686be369dfe0943282e377f7d1a51c0eae35a...   \n",
       "352718  fffe6e1be686be369dfe0943282e377f7d1a51c0eae35a...   \n",
       "352719  fffe6e1be686be369dfe0943282e377f7d1a51c0eae35a...   \n",
       "352720  fffe6e1be686be369dfe0943282e377f7d1a51c0eae35a...   \n",
       "\n",
       "                       item  avg_completion_rate  n_episodes    rating  \n",
       "0             Damerne først             0.876554           1  0.912837  \n",
       "1               Supertanker             0.913302           1  0.951106  \n",
       "2                   Tabloid             1.000000           1  1.041393  \n",
       "3              Ubegribeligt             0.519988           1  0.541512  \n",
       "4                     Udsyn             0.896782           1  0.933902  \n",
       "...                     ...                  ...         ...       ...  \n",
       "352716                Tiden             0.997999          15  1.395142  \n",
       "352717             Tyvstart             0.910651          19  1.331734  \n",
       "352718           Ugens gæst             0.254764           1  0.265309  \n",
       "352719   Verden ifølge Gram             0.647841           2  0.699137  \n",
       "352720  Verdens bedste film             0.107174           1  0.111610  \n",
       "\n",
       "[352721 rows x 5 columns]"
      ]
     },
     "execution_count": 6,
     "metadata": {},
     "output_type": "execute_result"
    }
   ],
   "source": [
    "users = train_df[\"user_id\"].unique()\n",
    "\n",
    "# generate user profiles\n",
    "for user in users:\n",
    "    # filter train_df on user\n",
    "    user_interactions = train_df[train_df[\"user_id\"] == user]\n",
    "\n",
    "    # days since listened from train-val split date\n",
    "    user_interactions[\"days_since\"] = \n",
    "    total_days = sum(user_interactions)"
   ]
  }
 ],
 "metadata": {
  "kernelspec": {
   "display_name": "dr-podcast-recsys",
   "language": "python",
   "name": "python3"
  },
  "language_info": {
   "codemirror_mode": {
    "name": "ipython",
    "version": 3
   },
   "file_extension": ".py",
   "mimetype": "text/x-python",
   "name": "python",
   "nbconvert_exporter": "python",
   "pygments_lexer": "ipython3",
   "version": "3.10.16"
  }
 },
 "nbformat": 4,
 "nbformat_minor": 5
}
