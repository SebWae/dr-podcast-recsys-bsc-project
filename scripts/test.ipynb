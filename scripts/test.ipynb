{
 "cells": [
  {
   "cell_type": "code",
   "execution_count": 1,
   "id": "e9a3d5d5",
   "metadata": {},
   "outputs": [
    {
     "name": "stderr",
     "output_type": "stream",
     "text": [
      "c:\\Users\\sewr\\AppData\\Local\\anaconda3\\envs\\dr-podcast-recsys\\lib\\site-packages\\lightfm\\_lightfm_fast.py:9: UserWarning: LightFM was compiled without OpenMP support. Only a single thread will be used.\n",
      "  warnings.warn(\n"
     ]
    }
   ],
   "source": [
    "import json\n",
    "import os\n",
    "import sys\n",
    "\n",
    "import numpy as np\n",
    "import pandas as pd\n",
    "from tqdm import tqdm\n",
    "\n",
    "sys.path.append(os.path.abspath(\"..\"))\n",
    "\n",
    "import utils"
   ]
  },
  {
   "cell_type": "code",
   "execution_count": null,
   "id": "73371e24",
   "metadata": {},
   "outputs": [],
   "source": [
    "# importing training data\n",
    "train_df = pd.read_parquet(\"../data/podcast_data_train.parquet\")\n",
    "\n",
    "# importing test data\n",
    "test_df = pd.read_parquet(\"../data/podcast_data_test.parquet\")\n",
    "\n",
    "# file path for the recommendations\n",
    "file_path = \"../results/recommendations.json\"\n",
    "\n",
    "# Open and load the JSON file\n",
    "with open(file_path, \"r\") as file:\n",
    "    data = json.load(file)"
   ]
  },
  {
   "cell_type": "code",
   "execution_count": 3,
   "id": "e2a339e1",
   "metadata": {},
   "outputs": [],
   "source": [
    "completion_rate_dict = {}\n",
    "\n",
    "# iterating through the rows of the test_df to build the dictionary\n",
    "for _, row in test_df.iterrows():\n",
    "    user = row['user_id']\n",
    "    prd = row['prd_number']\n",
    "    completion_rate = row['completion_rate']\n",
    "    \n",
    "    # If the user_id is not already in the dictionary, add it with an empty dictionary\n",
    "    if user not in completion_rate_dict:\n",
    "        completion_rate_dict[user] = {}\n",
    "    \n",
    "    # Add the prd_number and completion_rate to the user's dictionary\n",
    "    completion_rate_dict[user][prd] = completion_rate"
   ]
  },
  {
   "cell_type": "code",
   "execution_count": 8,
   "id": "cfa04fd5",
   "metadata": {},
   "outputs": [],
   "source": [
    "recommenders = [\"cf_recommendations\"]\n",
    "\n",
    "for recommender in recommenders:\n",
    "    # retrieving relevant recommendations\n",
    "    recommendations = data[recommender]\n",
    "\n",
    "    # dictionaries to store evaluation metrics for each recommender\n",
    "    recommender_dict = {}\n",
    "    user_dict = {}\n",
    "\n",
    "    hit_dict = {user_id: 0 for user_id in recommendations.keys()}\n",
    "    ndcg_dict = hit_dict.copy()\n",
    "\n",
    "    for user_id, rec_items in recommendations.items():\n",
    "        # computing hit-rate for each user\n",
    "        rec_items = set(rec_items)\n",
    "        true_items = set(completion_rate_dict[user_id].keys())\n",
    "        correct_recs = rec_items.intersection(true_items)\n",
    "        n_correct_recs = len(correct_recs)\n",
    "        if n_correct_recs > 0:\n",
    "            hit_dict[user_id] += 1\n",
    "\n",
    "        # computing NDCG for each user\n",
    "        gain_dict = completion_rate_dict[user_id]\n",
    "        optimal_items = sorted(gain_dict, key=lambda x: gain_dict[x], reverse=True)\n",
    "        dcg = utils.compute_dcg(rec_items, gain_dict)\n",
    "        dcg_star = utils.compute_dcg(optimal_items, gain_dict)\n",
    "        ndcg = dcg / dcg_star \n",
    "        ndcg_dict[user_id] = ndcg\n",
    "\n",
    "    # adding hit_dict to user_dict\n",
    "    user_dict[\"hit_rate\"] = hit_dict\n",
    "    \n",
    "    # adding ndcg_dict to user_dict\n",
    "    user_dict[\"ndcg\"] = ndcg_dict\n",
    "\n",
    "    # calculating global hit rate\n",
    "    hit_rate = np.mean(list(hit_dict.values()))\n",
    "    recommender_dict[\"hit_rate\"] = hit_rate\n",
    "    \n",
    "    # calculating global ndcg\n",
    "    ndcg = np.mean(list(ndcg_dict.values()))\n",
    "    recommender_dict[\"ndcg\"] = ndcg"
   ]
  },
  {
   "cell_type": "code",
   "execution_count": 24,
   "id": "f2acfb96",
   "metadata": {},
   "outputs": [],
   "source": [
    "final_dict = {\"cf_recommender\": user_dict}\n",
    "new_dict = {\"test\": \"test_value\"}"
   ]
  },
  {
   "cell_type": "code",
   "execution_count": 26,
   "id": "30f5f2de",
   "metadata": {},
   "outputs": [],
   "source": [
    "utils.save_dict_to_json(data_dict=new_dict, \n",
    "                        file_path=\"../results/user_eval.json\")"
   ]
  }
 ],
 "metadata": {
  "kernelspec": {
   "display_name": "dr-podcast-recsys",
   "language": "python",
   "name": "python3"
  },
  "language_info": {
   "codemirror_mode": {
    "name": "ipython",
    "version": 3
   },
   "file_extension": ".py",
   "mimetype": "text/x-python",
   "name": "python",
   "nbconvert_exporter": "python",
   "pygments_lexer": "ipython3",
   "version": "3.10.16"
  }
 },
 "nbformat": 4,
 "nbformat_minor": 5
}
