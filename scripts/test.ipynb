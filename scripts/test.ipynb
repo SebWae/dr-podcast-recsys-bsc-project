{
 "cells": [
  {
   "cell_type": "code",
   "execution_count": 29,
   "id": "169b9556",
   "metadata": {},
   "outputs": [],
   "source": [
    "import pandas as pd\n",
    "from scipy.sparse import coo_matrix\n",
    "\n",
    "MIN_PLAYS_PER_EPISODE = 10\n",
    "SPLIT_DATE = \"2024-11-11\"\n",
    "MIN_PLAYS_PER_USER = 2\n",
    "TRANSFORMED_DATA_PATH = \"..\\data\\podcast_data_transformed.parquet\"\n",
    "COLUMNS_TO_KEEP = [\"user_id\", \"prd_number\", \"completion_rate\"]"
   ]
  },
  {
   "cell_type": "code",
   "execution_count": 22,
   "id": "0aac1e21",
   "metadata": {},
   "outputs": [],
   "source": [
    "# loading the transformed data\n",
    "transformed_df = pd.read_parquet(TRANSFORMED_DATA_PATH)\n",
    "\n",
    "# grouping by prd_number and counting the number of plays for each episode\n",
    "prd_grp_df = transformed_df.groupby('prd_number')['user_id'].count()\n",
    "\n",
    "# filtering away episodes below threshold fo number of plays per episode\n",
    "filtered_df = transformed_df[transformed_df['prd_number'].isin(prd_grp_df[prd_grp_df >= MIN_PLAYS_PER_EPISODE].index)]\n",
    "\n",
    "# applying the global user split\n",
    "int_train_df = filtered_df[filtered_df['date'] < SPLIT_DATE]\n",
    "int_test_df = filtered_df[filtered_df['date'] >= SPLIT_DATE]\n",
    "\n",
    "# number of unique users both in the intermediary train and test data\n",
    "common_users = set(int_train_df['user_id']).intersection(set(int_test_df['user_id']))\n",
    "\n",
    "# filter df according to the common users\n",
    "train_df_common = int_train_df[int_train_df['user_id'].isin(common_users)]\n",
    "test_df_common = int_test_df[int_test_df['user_id'].isin(common_users)]\n",
    "\n",
    "# grouping by user_id and counting the number of prd_numbers for each user in the train data\n",
    "df_grouped_train = train_df_common.groupby('user_id')['prd_number'].count()\n",
    "\n",
    "# filtering away users below threshold for number of plays per user\n",
    "train_df = train_df_common[train_df_common['user_id'].isin(df_grouped_train[df_grouped_train >= MIN_PLAYS_PER_USER].index)]\n",
    "test_df = test_df_common[test_df_common['user_id'].isin(df_grouped_train[df_grouped_train >= MIN_PLAYS_PER_USER].index)]\n",
    "\n",
    "# only keeping relevant columns\n",
    "train_df = train_df[COLUMNS_TO_KEEP]\n",
    "test_df = test_df[COLUMNS_TO_KEEP]"
   ]
  },
  {
   "cell_type": "code",
   "execution_count": null,
   "id": "1e64ac95",
   "metadata": {},
   "outputs": [
    {
     "ename": "",
     "evalue": "",
     "output_type": "error",
     "traceback": [
      "\u001b[1;31mThe kernel failed to start as a dll could not be loaded.\n",
      "\u001b[1;31mClick <a href='https://aka.ms/kernelFailuresDllLoad'>here</a> for more info."
     ]
    }
   ],
   "source": [
    "print(train_df)"
   ]
  },
  {
   "cell_type": "code",
   "execution_count": 7,
   "id": "59c889ae",
   "metadata": {},
   "outputs": [
    {
     "name": "stdout",
     "output_type": "stream",
     "text": [
      "                                                   user_id   prd_number  \\\n",
      "27       00018423377c14104870be7deda65daaa9dbc7b97f89a8...  11032421463   \n",
      "28       00018423377c14104870be7deda65daaa9dbc7b97f89a8...  11042408466   \n",
      "29       00018423377c14104870be7deda65daaa9dbc7b97f89a8...  11162220516   \n",
      "36       00018423377c14104870be7deda65daaa9dbc7b97f89a8...  11802401187   \n",
      "82       00051e4d15267dd420ebac00a1382db78d74e027c55d7f...  11032462201   \n",
      "...                                                    ...          ...   \n",
      "2984815  fffe6e1be686be369dfe0943282e377f7d1a51c0eae35a...  13332496441   \n",
      "2984841  fffe6e1be686be369dfe0943282e377f7d1a51c0eae35a...  13652450213   \n",
      "2984851  fffe6e1be686be369dfe0943282e377f7d1a51c0eae35a...  15452448047   \n",
      "2984857  fffe6e1be686be369dfe0943282e377f7d1a51c0eae35a...  16122413462   \n",
      "2984859  fffe6e1be686be369dfe0943282e377f7d1a51c0eae35a...  16122415486   \n",
      "\n",
      "                       series_title  \\\n",
      "27                 Brinkmanns briks   \n",
      "28              Ditlev og dæmonerne   \n",
      "29                     Ubegribeligt   \n",
      "36                            Udsyn   \n",
      "82            Forbrydelsens Anatomi   \n",
      "...                             ...   \n",
      "2984815              Kapitalisterne   \n",
      "2984841                    Tyvstart   \n",
      "2984851  Sara & Monopolet - podcast   \n",
      "2984857        Guld og grønne skove   \n",
      "2984859         Verdens bedste film   \n",
      "\n",
      "                                              unique_title platform  \\\n",
      "27       Brinkmanns briks: Kan kloge mennesker løse ver...      app   \n",
      "28       Ditlev og dæmonerne: Fyret på gråt papir_11042...      app   \n",
      "29                     Ubegribeligt - Religion_11162220516      app   \n",
      "36               Udsyn: Det menneskelige mørke_11802401187      app   \n",
      "82       Forbrydelsens Anatomi - Lejemordet i Ugledige ...      app   \n",
      "...                                                    ...      ...   \n",
      "2984815  Kapitalisterne: Novos nedtur, Teslas optur og ...      app   \n",
      "2984841  Tyvstart: Landsholdets eksamen, ny badmintonko...      app   \n",
      "2984851             Sara & Monopolet - podcast_15452448047      app   \n",
      "2984857    Guld og grønne skove: Brat opvågnen_16122413462      app   \n",
      "2984859  Verdens bedste film: Wonder Boys med Palle Str...      app   \n",
      "\n",
      "          device_type    pub_date  episode_duration           genre  \\\n",
      "27       Mobile Phone  2024-11-13              3421  Fakta og debat   \n",
      "28       Mobile Phone  2024-11-16              3394          Kultur   \n",
      "29       Mobile Phone  2022-12-22              2708  Fakta og debat   \n",
      "36       Mobile Phone  2024-11-28              1586         Nyheder   \n",
      "82       Mobile Phone  2024-11-26              1951  Fakta og debat   \n",
      "...               ...         ...               ...             ...   \n",
      "2984815  Mobile Phone  2024-11-22              2877            Unge   \n",
      "2984841  Mobile Phone  2024-11-25              2337           Sport   \n",
      "2984851  Mobile Phone  2024-11-16              6223        Livsstil   \n",
      "2984857  Mobile Phone  2024-11-12              3240  Fakta og debat   \n",
      "2984859  Mobile Phone  2024-11-29              3420          Kultur   \n",
      "\n",
      "        branding_channel mother_channel             category  \\\n",
      "27                 DR P1          DR P1  Oplysning og kultur   \n",
      "28                 DR P1          DR P1  Oplysning og kultur   \n",
      "29                 DR P1          DR P1  Aktualitet og debat   \n",
      "36                 DR P1          DR P1  Aktualitet og debat   \n",
      "82                 DR P1              -  Oplysning og kultur   \n",
      "...                  ...            ...                  ...   \n",
      "2984815           DR Lyd              -  Oplysning og kultur   \n",
      "2984841           DR Lyd              -                Sport   \n",
      "2984851        P4 Fælles              -  Aktualitet og debat   \n",
      "2984857            DR P1          DR P1  Oplysning og kultur   \n",
      "2984859           DR Lyd          DR P1  Oplysning og kultur   \n",
      "\n",
      "         content_time_spent        date      time  completion_rate  \n",
      "27                     1441  2024-11-16  12:01:00         0.421222  \n",
      "28                     2379  2024-11-17  19:24:00         0.700943  \n",
      "29                      693  2024-11-27  11:00:00         0.255908  \n",
      "36                     1476  2024-11-28  12:19:00         0.930643  \n",
      "82                     1949  2024-11-26  15:37:00         0.998975  \n",
      "...                     ...         ...       ...              ...  \n",
      "2984815                2876  2024-11-25  15:39:00         0.999652  \n",
      "2984841                2335  2024-11-30  14:19:00         0.999144  \n",
      "2984851               12134  2024-11-17  07:28:00         1.000000  \n",
      "2984857                2026  2024-11-12  13:20:00         0.625309  \n",
      "2984859                 355  2024-11-30  15:17:00         0.103801  \n",
      "\n",
      "[629217 rows x 16 columns]\n"
     ]
    }
   ],
   "source": [
    "print(test_df)"
   ]
  },
  {
   "cell_type": "code",
   "execution_count": 24,
   "id": "639be458",
   "metadata": {},
   "outputs": [
    {
     "data": {
      "text/plain": [
       "(56969, 10631)"
      ]
     },
     "execution_count": 24,
     "metadata": {},
     "output_type": "execute_result"
    }
   ],
   "source": [
    "# load train data\n",
    "train_df = pd.read_parquet(\"..\\data\\podcast_data_train.parquet\")\n",
    "\n",
    "# Create the matrix\n",
    "user_item_matrix = train_df.pivot(index='user_id', columns='prd_number', values='completion_rate')\n",
    "\n",
    "# Fill NaN with 0 for missing user-item pairs\n",
    "user_item_matrix = user_item_matrix.fillna(0)\n",
    "user_item_matrix.shape"
   ]
  },
  {
   "cell_type": "code",
   "execution_count": 30,
   "id": "90971286",
   "metadata": {},
   "outputs": [
    {
     "data": {
      "text/plain": [
       "<COOrdinate sparse matrix of dtype 'float64'\n",
       "\twith 1889646 stored elements and shape (56969, 10631)>"
      ]
     },
     "execution_count": 30,
     "metadata": {},
     "output_type": "execute_result"
    }
   ],
   "source": [
    "matrix_values = user_item_matrix.values\n",
    "sparse_matrix = coo_matrix(matrix_values)\n",
    "sparse_matrix"
   ]
  },
  {
   "cell_type": "code",
   "execution_count": null,
   "id": "de10b872",
   "metadata": {},
   "outputs": [],
   "source": [
    "print(\"test\")"
   ]
  },
  {
   "cell_type": "code",
   "execution_count": null,
   "id": "43257296",
   "metadata": {},
   "outputs": [
    {
     "ename": "",
     "evalue": "",
     "output_type": "error",
     "traceback": [
      "\u001b[1;31mThe kernel failed to start as a dll could not be loaded.\n",
      "\u001b[1;31mClick <a href='https://aka.ms/kernelFailuresDllLoad'>here</a> for more info."
     ]
    }
   ],
   "source": [
    "from lightfm import LightFM\n",
    "import os\n",
    "import sys\n",
    "sys.path.append(os.path.abspath(\"..\"))\n",
    "\n",
    "import utils"
   ]
  },
  {
   "cell_type": "code",
   "execution_count": null,
   "id": "bc9af7d2",
   "metadata": {},
   "outputs": [
    {
     "ename": "",
     "evalue": "",
     "output_type": "error",
     "traceback": [
      "\u001b[1;31mThe kernel failed to start as a dll could not be loaded.\n",
      "\u001b[1;31mClick <a href='https://aka.ms/kernelFailuresDllLoad'>here</a> for more info."
     ]
    }
   ],
   "source": [
    "# Set the number of threads; you can increase this\n",
    "# if you have more physical cores available.\n",
    "NUM_COMPONENTS = 30\n",
    "NUM_EPOCHS = 3\n",
    "ITEM_ALPHA = 1e-6\n",
    "TRAIN_DATA_PATH = \"..\\data\\podcast_data_train.parquet\"\n",
    "train_df = pd.read_parquet(TRAIN_DATA_PATH)\n",
    "\n",
    "# preparing the interaction matrix\n",
    "train = utils.prep_interaction_matrix(\n",
    "    df=train_df,\n",
    "    user_col=\"user_id\",\n",
    "    item_col=\"prd_number\",\n",
    "    rating_col=\"completion_rate\",\n",
    ")\n",
    "\n",
    "# Let's fit a WARP model: these generally have the best performance.\n",
    "model = LightFM(loss='warp',\n",
    "                item_alpha=ITEM_ALPHA,\n",
    "                no_components=NUM_COMPONENTS)\n",
    "\n",
    "# Run 3 epochs and time it.\n",
    "%time model = model.fit(interactions=train, epochs=NUM_EPOCHS)"
   ]
  }
 ],
 "metadata": {
  "kernelspec": {
   "display_name": "dr-recsys-env",
   "language": "python",
   "name": "python3"
  },
  "language_info": {
   "codemirror_mode": {
    "name": "ipython",
    "version": 3
   },
   "file_extension": ".py",
   "mimetype": "text/x-python",
   "name": "python",
   "nbconvert_exporter": "python",
   "pygments_lexer": "ipython3",
   "version": "3.10.16"
  }
 },
 "nbformat": 4,
 "nbformat_minor": 5
}
