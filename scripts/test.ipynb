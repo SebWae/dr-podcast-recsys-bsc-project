{
 "cells": [
  {
   "cell_type": "code",
   "execution_count": 7,
   "id": "e9a3d5d5",
   "metadata": {},
   "outputs": [],
   "source": [
    "from collections import defaultdict\n",
    "from datetime import datetime\n",
    "import json\n",
    "import os\n",
    "import sys\n",
    "\n",
    "import numpy as np\n",
    "import pandas as pd\n",
    "from tqdm import tqdm\n",
    "\n",
    "sys.path.append(os.path.abspath(\"..\"))\n",
    "\n",
    "from config import (\n",
    "    RAW_DATA_PATH,\n",
    "    FILTERED_DATA_PATH,\n",
    "    TRAIN_DATA_PATH,\n",
    "    VAL_DATA_PATH,\n",
    "    TEST_DATA_PATH,\n",
    "    METADATA_PATH,\n",
    "    EMBEDDINGS_TITLE_PATH,\n",
    "    EMBEDDINGS_DESCR_PATH,\n",
    "    EPISODE_DESCRIPTION_PATH,\n",
    "    RANDOM_STATE,\n",
    "    N_RECOMMENDATIONS,\n",
    "    N_EPOCHS,\n",
    "    RECOMMENDATIONS_PATH,\n",
    "    TRANSFORMED_DATA_PATH,\n",
    "    SPLIT_DATE_TRAIN_VAL,\n",
    "    SPLIT_DATE_VAL_TEST,\n",
    ")\n",
    "import utils.utils as utils"
   ]
  },
  {
   "cell_type": "code",
   "execution_count": 8,
   "id": "73371e24",
   "metadata": {},
   "outputs": [],
   "source": [
    "# importing raw data\n",
    "raw_df = pd.read_parquet(\"../\" + RAW_DATA_PATH)\n",
    "\n",
    "# importing training data\n",
    "train_df = pd.read_parquet(\"../\" + TRAIN_DATA_PATH)\n",
    "\n",
    "# importing validation data\n",
    "val_df = pd.read_parquet(\"../\" + VAL_DATA_PATH)\n",
    "\n",
    "# importing test data\n",
    "test_df = pd.read_parquet(\"../\" + TEST_DATA_PATH)\n",
    "\n",
    "# importing metadata\n",
    "meta_df = pd.read_parquet(\"../\" + METADATA_PATH)\n",
    "\n",
    "# importing episode descriptions\n",
    "descr_df = pd.read_parquet(\"../\" + EPISODE_DESCRIPTION_PATH)\n",
    "\n",
    "# importing the transformed data\n",
    "transformed_df = pd.read_parquet(\"../\" + TRANSFORMED_DATA_PATH)\n",
    "\n",
    "# importing the filtered data\n",
    "filtered_df = pd.read_parquet(\"../\" + FILTERED_DATA_PATH)\n",
    "\n",
    "# importing title embeddings\n",
    "title_embeddings = pd.read_parquet(\"../\" + EMBEDDINGS_TITLE_PATH)\n",
    "\n",
    "# importing description embeddings\n",
    "descr_embeddings = pd.read_parquet(\"../\" + EMBEDDINGS_DESCR_PATH)"
   ]
  },
  {
   "cell_type": "code",
   "execution_count": 37,
   "id": "03fba0b4",
   "metadata": {},
   "outputs": [],
   "source": [
    "train_w_meta = train_df.merge(meta_df, how=\"left\", on=\"prd_number\")"
   ]
  },
  {
   "cell_type": "code",
   "execution_count": 46,
   "id": "22786d72",
   "metadata": {},
   "outputs": [
    {
     "data": {
      "text/plain": [
       "['Genstart',\n",
       " 'Tiden',\n",
       " 'Stjerner og striber',\n",
       " 'Djævlen i detaljen',\n",
       " 'Lyssky',\n",
       " 'Sara & Monopolet - podcast',\n",
       " 'Tyran',\n",
       " 'Ubegribeligt',\n",
       " 'Bakspejl',\n",
       " 'Udsyn']"
      ]
     },
     "execution_count": 46,
     "metadata": {},
     "output_type": "execute_result"
    }
   ],
   "source": [
    "show_counts = train_w_meta.groupby(\"series_title\")[\"user_id\"].nunique()\n",
    "show_counts.sort_values(ascending=False)[:10].index.tolist()\n",
    "# top_10_shows = show_counts.nlargest(10, \"count\")[\"series_title\"].tolist()\n",
    "# top_10_shows"
   ]
  },
  {
   "cell_type": "code",
   "execution_count": 42,
   "id": "5b66b860",
   "metadata": {},
   "outputs": [
    {
     "data": {
      "text/plain": [
       "['Genstart',\n",
       " 'Tiden',\n",
       " 'Djævlen i detaljen',\n",
       " 'Stjerner og striber',\n",
       " 'Radioavisen',\n",
       " 'Sara & Monopolet - podcast',\n",
       " 'Tyran',\n",
       " 'Lyssky',\n",
       " 'Ubegribeligt',\n",
       " 'Bakspejl']"
      ]
     },
     "execution_count": 42,
     "metadata": {},
     "output_type": "execute_result"
    }
   ],
   "source": [
    "show_counts = train_w_meta.groupby(\"series_title\").size().reset_index(name=\"count\")\n",
    "top_10_shows = show_counts.nlargest(10, \"count\")[\"series_title\"].tolist()\n",
    "top_10_shows"
   ]
  },
  {
   "cell_type": "code",
   "execution_count": 36,
   "id": "bf1dd289",
   "metadata": {},
   "outputs": [
    {
     "data": {
      "text/plain": [
       "genre\n",
       "Aktualitet    425109\n",
       "-                922\n",
       "Name: count, dtype: int64"
      ]
     },
     "execution_count": 36,
     "metadata": {},
     "output_type": "execute_result"
    }
   ],
   "source": [
    "genstart_df = transformed_df[transformed_df[\"series_title\"] == \"Genstart\"]\n",
    "genstart_df[\"genre\"].value_counts()"
   ]
  },
  {
   "cell_type": "code",
   "execution_count": 30,
   "id": "1bf9f7b8",
   "metadata": {},
   "outputs": [
    {
     "name": "stdout",
     "output_type": "stream",
     "text": [
      "44007\n",
      "581287\n",
      "556116\n"
     ]
    }
   ],
   "source": [
    "print(len(train_df[\"user_id\"].unique()))\n",
    "print(len(val_df))\n",
    "print(len(test_df))"
   ]
  },
  {
   "cell_type": "code",
   "execution_count": 18,
   "id": "4e889f5d",
   "metadata": {},
   "outputs": [
    {
     "data": {
      "text/plain": [
       "Genre\n",
       "Fakta og debat     5011755\n",
       "Aktualitet         2947147\n",
       "Livsstil           1925771\n",
       "Unge               1725776\n",
       "Nyheder            1503841\n",
       "Kultur             1159418\n",
       "Musik               969257\n",
       "-                   885500\n",
       "Historie            587171\n",
       "Dokumentar          275269\n",
       "Sport               167713\n",
       "NN                   29736\n",
       "Underholdning        25754\n",
       "Kor og orkestre        100\n",
       "Name: count, dtype: int64"
      ]
     },
     "execution_count": 18,
     "metadata": {},
     "output_type": "execute_result"
    }
   ],
   "source": [
    "raw_df[raw_df[\"Content Type (revar3)\"] == \"vod\"][\"Genre\"].value_counts()"
   ]
  },
  {
   "cell_type": "code",
   "execution_count": 86,
   "id": "631fe6c6",
   "metadata": {},
   "outputs": [
    {
     "name": "stdout",
     "output_type": "stream",
     "text": [
      "     n_components   damping    reg   ndcg@10\n",
      "0              50         1  0.050  0.010545\n",
      "1              50         1  0.100  0.002846\n",
      "2              50         1  0.150  0.000797\n",
      "3              50         5  0.050  0.017417\n",
      "4              50         5  0.100  0.006394\n",
      "..            ...       ...    ...       ...\n",
      "103           800       100  0.003  0.068805\n",
      "104           800       100  0.004  0.069434\n",
      "105           800       120  0.002  0.067800\n",
      "106           800       120  0.003  0.069293\n",
      "107           800       120  0.004  0.069966\n",
      "\n",
      "[108 rows x 4 columns]\n",
      "              n_components   damping       reg\n",
      "n_components      1.000000  0.930548 -0.614693\n",
      "damping           0.930548  1.000000 -0.620835\n",
      "reg              -0.614693 -0.620835  1.000000\n"
     ]
    }
   ],
   "source": [
    "import pandas as pd\n",
    "\n",
    "# Load your data\n",
    "df = pd.read_csv(\"../results/cf_experiments.csv\", header=0)  # or manually create the DataFrame\n",
    "print(df)\n",
    "# Select only the independent variables\n",
    "df.columns = df.columns.str.strip()\n",
    "\n",
    "X = df[['n_components', 'damping', 'reg']]\n",
    "\n",
    "# Compute pairwise Pearson correlations\n",
    "correlation_matrix = X.corr()\n",
    "\n",
    "print(correlation_matrix)\n"
   ]
  }
 ],
 "metadata": {
  "kernelspec": {
   "display_name": "dr-podcast-recsys",
   "language": "python",
   "name": "python3"
  },
  "language_info": {
   "codemirror_mode": {
    "name": "ipython",
    "version": 3
   },
   "file_extension": ".py",
   "mimetype": "text/x-python",
   "name": "python",
   "nbconvert_exporter": "python",
   "pygments_lexer": "ipython3",
   "version": "3.10.16"
  }
 },
 "nbformat": 4,
 "nbformat_minor": 5
}
