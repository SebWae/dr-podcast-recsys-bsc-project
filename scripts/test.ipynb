{
 "cells": [
  {
   "cell_type": "code",
   "execution_count": 9,
   "id": "e9a3d5d5",
   "metadata": {},
   "outputs": [],
   "source": [
    "from collections import defaultdict\n",
    "from datetime import datetime\n",
    "import json\n",
    "import os\n",
    "import sys\n",
    "\n",
    "import numpy as np\n",
    "import pandas as pd\n",
    "from tqdm import tqdm\n",
    "\n",
    "sys.path.append(os.path.abspath(\"..\"))\n",
    "\n",
    "from config import (\n",
    "    FILTERED_DATA_PATH,\n",
    "    TRAIN_DATA_PATH,\n",
    "    VAL_DATA_PATH,\n",
    "    TEST_DATA_PATH,\n",
    "    METADATA_PATH,\n",
    "    EMBEDDINGS_TITLE_PATH,\n",
    "    EMBEDDINGS_DESCR_PATH,\n",
    "    EMBEDDINGS_COMBI_PATH,\n",
    "    RANDOM_STATE,\n",
    "    N_RECOMMENDATIONS,\n",
    "    N_EPOCHS,\n",
    "    RECOMMENDATIONS_PATH,\n",
    "    TRANSFORMED_DATA_PATH,\n",
    "    SPLIT_DATE_TRAIN_VAL,\n",
    "    SPLIT_DATE_VAL_TEST,\n",
    ")\n",
    "import utils.utils as utils"
   ]
  },
  {
   "cell_type": "code",
   "execution_count": 63,
   "id": "73371e24",
   "metadata": {},
   "outputs": [],
   "source": [
    "# importing training data\n",
    "train_df = pd.read_parquet(\"../\" + TRAIN_DATA_PATH)\n",
    "\n",
    "# importing validation data\n",
    "val_df = pd.read_parquet(\"../\" + VAL_DATA_PATH)\n",
    "\n",
    "# importing test data\n",
    "test_df = pd.read_parquet(\"../\" + TEST_DATA_PATH)\n",
    "\n",
    "# importing metadata\n",
    "meta_df = pd.read_parquet(\"../\" + METADATA_PATH)\n",
    "\n",
    "# importing the transformed data\n",
    "transformed_df = pd.read_parquet(\"../\" + TRANSFORMED_DATA_PATH)\n",
    "\n",
    "# importing the filtered data\n",
    "filtered_df = pd.read_parquet(\"../\" + FILTERED_DATA_PATH)\n",
    "\n",
    "# importing embeddings\n",
    "title_embeddings = pd.read_parquet(\"../\" + EMBEDDINGS_TITLE_PATH)"
   ]
  },
  {
   "cell_type": "code",
   "execution_count": 64,
   "id": "03fba0b4",
   "metadata": {},
   "outputs": [],
   "source": [
    "train_w_meta = train_df.merge(meta_df, how=\"left\", on=\"prd_number\")"
   ]
  },
  {
   "cell_type": "code",
   "execution_count": 66,
   "id": "384bb5ff",
   "metadata": {},
   "outputs": [
    {
     "data": {
      "application/vnd.microsoft.datawrangler.viewer.v0+json": {
       "columns": [
        {
         "name": "index",
         "rawType": "int64",
         "type": "integer"
        },
        {
         "name": "user_id",
         "rawType": "object",
         "type": "string"
        },
        {
         "name": "prd_number",
         "rawType": "object",
         "type": "string"
        },
        {
         "name": "completion_rate",
         "rawType": "float64",
         "type": "float"
        }
       ],
       "conversionMethod": "pd.DataFrame",
       "ref": "d0e51d6d-4303-4506-a357-6c68ce0a5c00",
       "rows": [
        [
         "0",
         "00018423377c14104870be7deda65daaa9dbc7b97f89a8d2f0702173d48e7739",
         "11032400013",
         "0.9734181954324224"
        ],
        [
         "1",
         "00018423377c14104870be7deda65daaa9dbc7b97f89a8d2f0702173d48e7739",
         "11032400014",
         "0.6344129554655871"
        ],
        [
         "3",
         "00018423377c14104870be7deda65daaa9dbc7b97f89a8d2f0702173d48e7739",
         "11032415442",
         "0.9501758499413834"
        ],
        [
         "4",
         "00018423377c14104870be7deda65daaa9dbc7b97f89a8d2f0702173d48e7739",
         "11032419011",
         "0.9759450171821306"
        ],
        [
         "5",
         "00018423377c14104870be7deda65daaa9dbc7b97f89a8d2f0702173d48e7739",
         "11032421433",
         "1.0"
        ],
        [
         "11",
         "00018423377c14104870be7deda65daaa9dbc7b97f89a8d2f0702173d48e7739",
         "11162405427",
         "0.07770961145194274"
        ],
        [
         "14",
         "00018423377c14104870be7deda65daaa9dbc7b97f89a8d2f0702173d48e7739",
         "11802401178",
         "0.9928528886241811"
        ],
        [
         "16",
         "00018423377c14104870be7deda65daaa9dbc7b97f89a8d2f0702173d48e7739",
         "11802450442",
         "0.9910256410256411"
        ],
        [
         "17",
         "00018423377c14104870be7deda65daaa9dbc7b97f89a8d2f0702173d48e7739",
         "11802450447",
         "0.995249406175772"
        ],
        [
         "18",
         "00018423377c14104870be7deda65daaa9dbc7b97f89a8d2f0702173d48e7739",
         "13332496171",
         "1.0"
        ],
        [
         "19",
         "00018423377c14104870be7deda65daaa9dbc7b97f89a8d2f0702173d48e7739",
         "13332496172",
         "1.0"
        ],
        [
         "53",
         "00051e4d15267dd420ebac00a1382db78d74e027c55d7f5db238822e29090e87",
         "11802450425",
         "1.0"
        ],
        [
         "54",
         "00051e4d15267dd420ebac00a1382db78d74e027c55d7f5db238822e29090e87",
         "11802450427",
         "0.6624700239808153"
        ],
        [
         "55",
         "00051e4d15267dd420ebac00a1382db78d74e027c55d7f5db238822e29090e87",
         "11802450432",
         "0.9512335054503729"
        ],
        [
         "56",
         "00051e4d15267dd420ebac00a1382db78d74e027c55d7f5db238822e29090e87",
         "11802450433",
         "0.9923451635351427"
        ],
        [
         "57",
         "00051e4d15267dd420ebac00a1382db78d74e027c55d7f5db238822e29090e87",
         "11802450435",
         "0.7481971153846154"
        ],
        [
         "58",
         "00051e4d15267dd420ebac00a1382db78d74e027c55d7f5db238822e29090e87",
         "11802450441",
         "1.0"
        ],
        [
         "59",
         "00051e4d15267dd420ebac00a1382db78d74e027c55d7f5db238822e29090e87",
         "11802450442",
         "0.2467948717948718"
        ],
        [
         "60",
         "00051e4d15267dd420ebac00a1382db78d74e027c55d7f5db238822e29090e87",
         "11802450443",
         "1.0"
        ],
        [
         "61",
         "00051e4d15267dd420ebac00a1382db78d74e027c55d7f5db238822e29090e87",
         "11802450444",
         "1.0"
        ],
        [
         "62",
         "00051e4d15267dd420ebac00a1382db78d74e027c55d7f5db238822e29090e87",
         "11802450447",
         "0.9946555819477435"
        ],
        [
         "63",
         "00051e4d15267dd420ebac00a1382db78d74e027c55d7f5db238822e29090e87",
         "11802450451",
         "0.9986178299930891"
        ],
        [
         "64",
         "00051e4d15267dd420ebac00a1382db78d74e027c55d7f5db238822e29090e87",
         "11802450453",
         "0.9947950553025374"
        ],
        [
         "65",
         "00051e4d15267dd420ebac00a1382db78d74e027c55d7f5db238822e29090e87",
         "11802450454",
         "0.9976621858562245"
        ],
        [
         "66",
         "00051e4d15267dd420ebac00a1382db78d74e027c55d7f5db238822e29090e87",
         "11802450455",
         "1.0"
        ],
        [
         "73",
         "00051e4d15267dd420ebac00a1382db78d74e027c55d7f5db238822e29090e87",
         "11802451178",
         "0.9926082365364308"
        ],
        [
         "74",
         "00051e4d15267dd420ebac00a1382db78d74e027c55d7f5db238822e29090e87",
         "11802451179",
         "1.0"
        ],
        [
         "75",
         "00051e4d15267dd420ebac00a1382db78d74e027c55d7f5db238822e29090e87",
         "11802451181",
         "1.0"
        ],
        [
         "76",
         "00051e4d15267dd420ebac00a1382db78d74e027c55d7f5db238822e29090e87",
         "11802451182",
         "0.9945652173913043"
        ],
        [
         "77",
         "00051e4d15267dd420ebac00a1382db78d74e027c55d7f5db238822e29090e87",
         "11802451183",
         "0.9989795918367347"
        ],
        [
         "81",
         "00051e4d15267dd420ebac00a1382db78d74e027c55d7f5db238822e29090e87",
         "11802465029",
         "0.4416243654822335"
        ],
        [
         "82",
         "00051e4d15267dd420ebac00a1382db78d74e027c55d7f5db238822e29090e87",
         "13332496151",
         "0.8901660280970626"
        ],
        [
         "83",
         "00051e4d15267dd420ebac00a1382db78d74e027c55d7f5db238822e29090e87",
         "13332496153",
         "0.997364953886693"
        ],
        [
         "84",
         "00051e4d15267dd420ebac00a1382db78d74e027c55d7f5db238822e29090e87",
         "13332496154",
         "0.9947089947089947"
        ],
        [
         "85",
         "00051e4d15267dd420ebac00a1382db78d74e027c55d7f5db238822e29090e87",
         "13332496155",
         "0.9950074887668497"
        ],
        [
         "91",
         "00051e4d15267dd420ebac00a1382db78d74e027c55d7f5db238822e29090e87",
         "15452448043",
         "0.6535776614310645"
        ],
        [
         "92",
         "00051e4d15267dd420ebac00a1382db78d74e027c55d7f5db238822e29090e87",
         "15452448044",
         "0.9992892679459844"
        ],
        [
         "94",
         "00051e4d15267dd420ebac00a1382db78d74e027c55d7f5db238822e29090e87",
         "15452448046",
         "0.8190844833389431"
        ],
        [
         "111",
         "00051e4d15267dd420ebac00a1382db78d74e027c55d7f5db238822e29090e87",
         "16122492637",
         "0.3321504613200852"
        ],
        [
         "146",
         "000599ea041624d4e74e5ec2e285ae56abe4432eec717ba7d92dd8ebcb670579",
         "11802451174",
         "1.0"
        ],
        [
         "158",
         "000599ea041624d4e74e5ec2e285ae56abe4432eec717ba7d92dd8ebcb670579",
         "11802451215",
         "0.9968782518210197"
        ],
        [
         "164",
         "000599ea041624d4e74e5ec2e285ae56abe4432eec717ba7d92dd8ebcb670579",
         "16122465432",
         "0.45753623188405795"
        ],
        [
         "165",
         "000599ea041624d4e74e5ec2e285ae56abe4432eec717ba7d92dd8ebcb670579",
         "16122465452",
         "0.10652173913043478"
        ],
        [
         "169",
         "00060682bbc0cd8212733274e53e758949e624f477897016792e52114b647603",
         "18452484437",
         "0.37735042735042734"
        ],
        [
         "170",
         "00060682bbc0cd8212733274e53e758949e624f477897016792e52114b647603",
         "18452484447",
         "0.24772079772079772"
        ],
        [
         "174",
         "00062a4d5b46ec9d8b39ef562b22374b74674e83eddce1f86717b16e8c258890",
         "11032202801",
         "1.0"
        ],
        [
         "175",
         "00062a4d5b46ec9d8b39ef562b22374b74674e83eddce1f86717b16e8c258890",
         "11032202802",
         "0.08050436469447139"
        ],
        [
         "195",
         "00062a4d5b46ec9d8b39ef562b22374b74674e83eddce1f86717b16e8c258890",
         "11162402435",
         "0.16691865739340792"
        ],
        [
         "196",
         "00062a4d5b46ec9d8b39ef562b22374b74674e83eddce1f86717b16e8c258890",
         "11162402445",
         "1.0"
        ],
        [
         "202",
         "00062a4d5b46ec9d8b39ef562b22374b74674e83eddce1f86717b16e8c258890",
         "11162411027",
         "0.532608695652174"
        ]
       ],
       "shape": {
        "columns": 3,
        "rows": 581287
       }
      },
      "text/html": [
       "<div>\n",
       "<style scoped>\n",
       "    .dataframe tbody tr th:only-of-type {\n",
       "        vertical-align: middle;\n",
       "    }\n",
       "\n",
       "    .dataframe tbody tr th {\n",
       "        vertical-align: top;\n",
       "    }\n",
       "\n",
       "    .dataframe thead th {\n",
       "        text-align: right;\n",
       "    }\n",
       "</style>\n",
       "<table border=\"1\" class=\"dataframe\">\n",
       "  <thead>\n",
       "    <tr style=\"text-align: right;\">\n",
       "      <th></th>\n",
       "      <th>user_id</th>\n",
       "      <th>prd_number</th>\n",
       "      <th>completion_rate</th>\n",
       "    </tr>\n",
       "  </thead>\n",
       "  <tbody>\n",
       "    <tr>\n",
       "      <th>0</th>\n",
       "      <td>00018423377c14104870be7deda65daaa9dbc7b97f89a8...</td>\n",
       "      <td>11032400013</td>\n",
       "      <td>0.973418</td>\n",
       "    </tr>\n",
       "    <tr>\n",
       "      <th>1</th>\n",
       "      <td>00018423377c14104870be7deda65daaa9dbc7b97f89a8...</td>\n",
       "      <td>11032400014</td>\n",
       "      <td>0.634413</td>\n",
       "    </tr>\n",
       "    <tr>\n",
       "      <th>3</th>\n",
       "      <td>00018423377c14104870be7deda65daaa9dbc7b97f89a8...</td>\n",
       "      <td>11032415442</td>\n",
       "      <td>0.950176</td>\n",
       "    </tr>\n",
       "    <tr>\n",
       "      <th>4</th>\n",
       "      <td>00018423377c14104870be7deda65daaa9dbc7b97f89a8...</td>\n",
       "      <td>11032419011</td>\n",
       "      <td>0.975945</td>\n",
       "    </tr>\n",
       "    <tr>\n",
       "      <th>5</th>\n",
       "      <td>00018423377c14104870be7deda65daaa9dbc7b97f89a8...</td>\n",
       "      <td>11032421433</td>\n",
       "      <td>1.000000</td>\n",
       "    </tr>\n",
       "    <tr>\n",
       "      <th>...</th>\n",
       "      <td>...</td>\n",
       "      <td>...</td>\n",
       "      <td>...</td>\n",
       "    </tr>\n",
       "    <tr>\n",
       "      <th>2365573</th>\n",
       "      <td>fffe6e1be686be369dfe0943282e377f7d1a51c0eae35a...</td>\n",
       "      <td>13652450206</td>\n",
       "      <td>1.000000</td>\n",
       "    </tr>\n",
       "    <tr>\n",
       "      <th>2365574</th>\n",
       "      <td>fffe6e1be686be369dfe0943282e377f7d1a51c0eae35a...</td>\n",
       "      <td>13652450207</td>\n",
       "      <td>0.996209</td>\n",
       "    </tr>\n",
       "    <tr>\n",
       "      <th>2365575</th>\n",
       "      <td>fffe6e1be686be369dfe0943282e377f7d1a51c0eae35a...</td>\n",
       "      <td>13652450208</td>\n",
       "      <td>0.429653</td>\n",
       "    </tr>\n",
       "    <tr>\n",
       "      <th>2365584</th>\n",
       "      <td>fffe6e1be686be369dfe0943282e377f7d1a51c0eae35a...</td>\n",
       "      <td>15452448044</td>\n",
       "      <td>1.000000</td>\n",
       "    </tr>\n",
       "    <tr>\n",
       "      <th>2365585</th>\n",
       "      <td>fffe6e1be686be369dfe0943282e377f7d1a51c0eae35a...</td>\n",
       "      <td>15452448045</td>\n",
       "      <td>0.461396</td>\n",
       "    </tr>\n",
       "  </tbody>\n",
       "</table>\n",
       "<p>581287 rows × 3 columns</p>\n",
       "</div>"
      ],
      "text/plain": [
       "                                                   user_id   prd_number  \\\n",
       "0        00018423377c14104870be7deda65daaa9dbc7b97f89a8...  11032400013   \n",
       "1        00018423377c14104870be7deda65daaa9dbc7b97f89a8...  11032400014   \n",
       "3        00018423377c14104870be7deda65daaa9dbc7b97f89a8...  11032415442   \n",
       "4        00018423377c14104870be7deda65daaa9dbc7b97f89a8...  11032419011   \n",
       "5        00018423377c14104870be7deda65daaa9dbc7b97f89a8...  11032421433   \n",
       "...                                                    ...          ...   \n",
       "2365573  fffe6e1be686be369dfe0943282e377f7d1a51c0eae35a...  13652450206   \n",
       "2365574  fffe6e1be686be369dfe0943282e377f7d1a51c0eae35a...  13652450207   \n",
       "2365575  fffe6e1be686be369dfe0943282e377f7d1a51c0eae35a...  13652450208   \n",
       "2365584  fffe6e1be686be369dfe0943282e377f7d1a51c0eae35a...  15452448044   \n",
       "2365585  fffe6e1be686be369dfe0943282e377f7d1a51c0eae35a...  15452448045   \n",
       "\n",
       "         completion_rate  \n",
       "0               0.973418  \n",
       "1               0.634413  \n",
       "3               0.950176  \n",
       "4               0.975945  \n",
       "5               1.000000  \n",
       "...                  ...  \n",
       "2365573         1.000000  \n",
       "2365574         0.996209  \n",
       "2365575         0.429653  \n",
       "2365584         1.000000  \n",
       "2365585         0.461396  \n",
       "\n",
       "[581287 rows x 3 columns]"
      ]
     },
     "execution_count": 66,
     "metadata": {},
     "output_type": "execute_result"
    }
   ],
   "source": [
    "val_df"
   ]
  },
  {
   "cell_type": "code",
   "execution_count": 71,
   "id": "1fc6b75a",
   "metadata": {},
   "outputs": [
    {
     "name": "stdout",
     "output_type": "stream",
     "text": [
      "{'episode5411': -0.249, 'episode9724': 0.75, 'episode4234': 0.03, 'episode9725': 0.75, 'episode4235': 0.03}\n"
     ]
    }
   ],
   "source": [
    "cf_scores = {\"episode5411\": -0.45, \"episode4234\": 0.03, \"episode9724\": 0.75}\n",
    "cb_scores = {\"episode5411\": 0.22, \"episode4235\": 0.03, \"episode9725\": 0.75}\n",
    "\n",
    "# Define the weight lambda\n",
    "_lambda = 0.7\n",
    "\n",
    "# Initialize the combined dictionary\n",
    "combined_scores = {}\n",
    "\n",
    "# Handle keys that are common to both dictionaries\n",
    "for key in cf_scores.keys() & cb_scores.keys():  # Intersection of keys\n",
    "    combined_scores[key] = _lambda * cf_scores[key] + (1 - _lambda) * cb_scores[key]\n",
    "\n",
    "# Handle keys that are only in cf_scores\n",
    "for key in cf_scores.keys() - cb_scores.keys():  # Keys unique to cf_scores\n",
    "    combined_scores[key] = cf_scores[key]\n",
    "\n",
    "# Handle keys that are only in cb_scores\n",
    "for key in cb_scores.keys() - cf_scores.keys():  # Keys unique to cb_scores\n",
    "    combined_scores[key] = cb_scores[key]\n",
    "\n",
    "print(combined_scores)"
   ]
  }
 ],
 "metadata": {
  "kernelspec": {
   "display_name": "dr-podcast-recsys",
   "language": "python",
   "name": "python3"
  },
  "language_info": {
   "codemirror_mode": {
    "name": "ipython",
    "version": 3
   },
   "file_extension": ".py",
   "mimetype": "text/x-python",
   "name": "python",
   "nbconvert_exporter": "python",
   "pygments_lexer": "ipython3",
   "version": "3.10.16"
  }
 },
 "nbformat": 4,
 "nbformat_minor": 5
}
