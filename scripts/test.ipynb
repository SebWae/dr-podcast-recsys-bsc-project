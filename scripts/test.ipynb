{
 "cells": [
  {
   "cell_type": "code",
   "execution_count": 1,
   "id": "e9a3d5d5",
   "metadata": {},
   "outputs": [
    {
     "name": "stderr",
     "output_type": "stream",
     "text": [
      "c:\\Users\\sebas\\.conda\\envs\\dr-podcast-recsys\\lib\\site-packages\\lightfm\\_lightfm_fast.py:9: UserWarning: LightFM was compiled without OpenMP support. Only a single thread will be used.\n",
      "  warnings.warn(\n"
     ]
    }
   ],
   "source": [
    "import json\n",
    "import os\n",
    "import sys\n",
    "\n",
    "import numpy as np\n",
    "import pandas as pd\n",
    "from tqdm import tqdm\n",
    "\n",
    "sys.path.append(os.path.abspath(\"..\"))\n",
    "\n",
    "from config import (\n",
    "    FILTERED_DATA_PATH,\n",
    "    TRAIN_DATA_PATH,\n",
    "    VAL_DATA_PATH,\n",
    "    TEST_DATA_PATH,\n",
    "    METADATA_PATH,\n",
    "    EMBEDDINGS_TITLE_PATH,\n",
    "    EMBEDDINGS_DESCR_PATH,\n",
    "    EMBEDDINGS_COMBI_PATH,\n",
    "    N_COMPONENTS,\n",
    "    RANDOM_STATE,\n",
    "    N_RECOMMENDATIONS,\n",
    "    N_EPOCHS,\n",
    "    EPSILON,\n",
    "    RECOMMENDATIONS_PATH,\n",
    "    TRANSFORMED_DATA_PATH,\n",
    "    SPLIT_DATE_TRAIN_VAL,\n",
    "    SPLIT_DATE_VAL_TEST,\n",
    ")\n",
    "import utils"
   ]
  },
  {
   "cell_type": "code",
   "execution_count": 2,
   "id": "73371e24",
   "metadata": {},
   "outputs": [],
   "source": [
    "# importing training data\n",
    "train_df = pd.read_parquet(\"../\" + TRAIN_DATA_PATH)\n",
    "\n",
    "# importing validation data\n",
    "val_df = pd.read_parquet(\"../\" + VAL_DATA_PATH)\n",
    "\n",
    "# importing test data\n",
    "test_df = pd.read_parquet(\"../\" + TEST_DATA_PATH)\n",
    "\n",
    "# importing metadata\n",
    "meta_df = pd.read_parquet(\"../\" + METADATA_PATH)\n",
    "\n",
    "# importing the transformed data\n",
    "transformed_df = pd.read_parquet(\"../\" + TRANSFORMED_DATA_PATH)\n",
    "\n",
    "# importing the filtered data\n",
    "filtered_df = pd.read_parquet(\"../\" + FILTERED_DATA_PATH)"
   ]
  },
  {
   "cell_type": "code",
   "execution_count": 4,
   "id": "cb80228e",
   "metadata": {},
   "outputs": [
    {
     "data": {
      "text/plain": [
       "['Genstart',\n",
       " 'Tiden',\n",
       " 'Djævlen i detaljen',\n",
       " 'Stjerner og striber',\n",
       " 'Radioavisen',\n",
       " 'Sara & Monopolet - podcast',\n",
       " 'Tyran',\n",
       " 'Lyssky',\n",
       " 'Ubegribeligt',\n",
       " 'Bakspejl']"
      ]
     },
     "execution_count": 4,
     "metadata": {},
     "output_type": "execute_result"
    }
   ],
   "source": [
    "train_w_meta = pd.merge(train_df, meta_df, on=\"prd_number\", how=\"left\")\n",
    "show_counts = train_w_meta.groupby(\"series_title\").size().reset_index(name=\"count\")\n",
    "top_10_shows = show_counts.nlargest(10, \"count\")[\"series_title\"].tolist()\n",
    "top_10_shows"
   ]
  },
  {
   "cell_type": "code",
   "execution_count": 8,
   "id": "656cc63f",
   "metadata": {},
   "outputs": [
    {
     "data": {
      "text/plain": [
       "['11802450461',\n",
       " '11802451184',\n",
       " '16122492640',\n",
       " '11802437046',\n",
       " '14842401457',\n",
       " '15452448047',\n",
       " '16122493792',\n",
       " '11802465031',\n",
       " '11162405467',\n",
       " '11162411030']"
      ]
     },
     "execution_count": 8,
     "metadata": {},
     "output_type": "execute_result"
    }
   ],
   "source": [
    "recommendations = []\n",
    "for show in top_10_shows:\n",
    "    show_filtered = meta_df[(meta_df[\"series_title\"] == show) & (meta_df[\"pub_date\"] >= \"2024-11-11\")]\n",
    "    shows_after_split_date = len(show_filtered)\n",
    "\n",
    "    if shows_after_split_date == 0:\n",
    "        show_filtered = meta_df[meta_df[\"series_title\"] == show]\n",
    "\n",
    "    show_filtered_sorted = show_filtered.sort_values(by=\"pub_date\")\n",
    "    first_prd_number = show_filtered_sorted.iloc[0][\"prd_number\"]\n",
    "    recommendations.append(first_prd_number)\n",
    "recommendations"
   ]
  },
  {
   "cell_type": "code",
   "execution_count": 12,
   "id": "d197e74e",
   "metadata": {},
   "outputs": [
    {
     "name": "stdout",
     "output_type": "stream",
     "text": [
      "Minimum value: -0.3516335799441893\n",
      "Maximum value: 0.6239668024905588\n"
     ]
    }
   ],
   "source": [
    "# loading embeddings\n",
    "emb_df = pd.read_parquet(\"../\" + EMBEDDINGS_TITLE_PATH)\n",
    "emb_df.drop(columns=\"episode\", inplace=True)\n",
    "min_value = emb_df.min().min()\n",
    "max_value = emb_df.max().max()\n",
    "\n",
    "print(f\"Minimum value: {min_value}\")\n",
    "print(f\"Maximum value: {max_value}\")"
   ]
  },
  {
   "cell_type": "code",
   "execution_count": 13,
   "id": "437179df",
   "metadata": {},
   "outputs": [
    {
     "name": "stdout",
     "output_type": "stream",
     "text": [
      "Minimum value: -0.3516335799441893\n",
      "Maximum value: 0.6149092034145577\n"
     ]
    }
   ],
   "source": [
    "# loading embeddings\n",
    "emb_df = pd.read_parquet(\"../\" + EMBEDDINGS_DESCR_PATH)\n",
    "emb_df.drop(columns=\"episode\", inplace=True)\n",
    "min_value = emb_df.min().min()\n",
    "max_value = emb_df.max().max()\n",
    "\n",
    "print(f\"Minimum value: {min_value}\")\n",
    "print(f\"Maximum value: {max_value}\")"
   ]
  },
  {
   "cell_type": "code",
   "execution_count": 15,
   "id": "b9e936b3",
   "metadata": {},
   "outputs": [
    {
     "name": "stdout",
     "output_type": "stream",
     "text": [
      "Minimum value: -0.3516335799441893\n",
      "Maximum value: 0.6149092034145577\n"
     ]
    }
   ],
   "source": [
    "# loading embeddings\n",
    "emb_df = pd.read_parquet(\"../\" + EMBEDDINGS_COMBI_PATH)\n",
    "emb_df.drop(columns=\"episode\", inplace=True)\n",
    "min_value = emb_df.min().min()\n",
    "max_value = emb_df.max().max()\n",
    "\n",
    "print(f\"Minimum value: {min_value}\")\n",
    "print(f\"Maximum value: {max_value}\")"
   ]
  }
 ],
 "metadata": {
  "kernelspec": {
   "display_name": "Python 3",
   "language": "python",
   "name": "python3"
  },
  "language_info": {
   "codemirror_mode": {
    "name": "ipython",
    "version": 3
   },
   "file_extension": ".py",
   "mimetype": "text/x-python",
   "name": "python",
   "nbconvert_exporter": "python",
   "pygments_lexer": "ipython3",
   "version": "3.10.16"
  }
 },
 "nbformat": 4,
 "nbformat_minor": 5
}
