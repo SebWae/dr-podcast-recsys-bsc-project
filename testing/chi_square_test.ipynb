{
 "cells": [
  {
   "cell_type": "markdown",
   "id": "bebe034f",
   "metadata": {},
   "source": [
    "### Chi Square Goodness of Fit test\n",
    "This notebook tests a Python implemention of the test using `scipy.stats`."
   ]
  },
  {
   "cell_type": "code",
   "execution_count": 1,
   "id": "4d112cdc",
   "metadata": {},
   "outputs": [],
   "source": [
    "from scipy.stats import chisquare"
   ]
  },
  {
   "cell_type": "code",
   "execution_count": 6,
   "id": "9e42fde5",
   "metadata": {},
   "outputs": [
    {
     "name": "stdout",
     "output_type": "stream",
     "text": [
      "Chi-square statistic: 5.0\n",
      "p-value: 0.0820849986238988\n"
     ]
    }
   ],
   "source": [
    "expected = [60, 30, 10]\n",
    "observed = [50, 40, 10]\n",
    "\n",
    "stat, p = chisquare(f_obs=observed, f_exp=expected)\n",
    "\n",
    "print(\"Chi-square statistic:\", stat)\n",
    "print(\"p-value:\", p)"
   ]
  }
 ],
 "metadata": {
  "kernelspec": {
   "display_name": "Python 3",
   "language": "python",
   "name": "python3"
  },
  "language_info": {
   "codemirror_mode": {
    "name": "ipython",
    "version": 3
   },
   "file_extension": ".py",
   "mimetype": "text/x-python",
   "name": "python",
   "nbconvert_exporter": "python",
   "pygments_lexer": "ipython3",
   "version": "3.11.9"
  }
 },
 "nbformat": 4,
 "nbformat_minor": 5
}
