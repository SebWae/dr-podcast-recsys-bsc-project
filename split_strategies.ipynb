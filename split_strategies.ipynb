{
 "cells": [
  {
   "cell_type": "code",
   "execution_count": 1,
   "metadata": {},
   "outputs": [],
   "source": [
    "import pandas as pd"
   ]
  },
  {
   "cell_type": "markdown",
   "metadata": {},
   "source": [
    "This notebook is used to investigate different train-test split strategies."
   ]
  },
  {
   "cell_type": "markdown",
   "metadata": {},
   "source": [
    "#### Temporal Global Split\n",
    "Define a single global timestamp that works as the boundary between train and test data for all users/interactions."
   ]
  },
  {
   "cell_type": "code",
   "execution_count": 22,
   "metadata": {},
   "outputs": [
    {
     "data": {
      "application/vnd.microsoft.datawrangler.viewer.v0+json": {
       "columns": [
        {
         "name": "index",
         "rawType": "int64",
         "type": "integer"
        },
        {
         "name": "user_id",
         "rawType": "object",
         "type": "string"
        },
        {
         "name": "prd_number",
         "rawType": "int64",
         "type": "integer"
        },
        {
         "name": "series_title",
         "rawType": "object",
         "type": "string"
        },
        {
         "name": "unique_title",
         "rawType": "object",
         "type": "string"
        },
        {
         "name": "platform",
         "rawType": "object",
         "type": "string"
        },
        {
         "name": "device_type",
         "rawType": "object",
         "type": "string"
        },
        {
         "name": "pub_date",
         "rawType": "object",
         "type": "string"
        },
        {
         "name": "episode_duration",
         "rawType": "int64",
         "type": "integer"
        },
        {
         "name": "genre",
         "rawType": "object",
         "type": "string"
        },
        {
         "name": "branding_channel",
         "rawType": "object",
         "type": "string"
        },
        {
         "name": "mother_channel",
         "rawType": "object",
         "type": "string"
        },
        {
         "name": "category",
         "rawType": "object",
         "type": "string"
        },
        {
         "name": "content_time_spent",
         "rawType": "int64",
         "type": "integer"
        },
        {
         "name": "date",
         "rawType": "object",
         "type": "string"
        },
        {
         "name": "time",
         "rawType": "object",
         "type": "string"
        },
        {
         "name": "completion_rate",
         "rawType": "float64",
         "type": "float"
        }
       ],
       "conversionMethod": "pd.DataFrame",
       "ref": "037cbb5f-9d1a-41e5-ba0f-64eca5ab18a5",
       "rows": [
        [
         "0",
         "00005776ec874bc9ab8ca964cf274858",
         "11032415372",
         "Kampen om historien",
         "Kampen om historien: Jihadismen og kampen mod Vesten_11032415372",
         "app",
         "Mobile Phone",
         "2024-09-10",
         "3416",
         "Historie",
         "DR P1",
         "DR P1",
         "Oplysning og kultur",
         "1140",
         "2024-09-10",
         "14:44:00",
         "0.3337236533957845"
        ],
        [
         "1",
         "00005776ec874bc9ab8ca964cf274858",
         "11032415392",
         "Kampen om historien",
         "Kampen om historien: Midt i en ny mellemkrigstid?_11032415392",
         "app",
         "Mobile Phone",
         "2024-09-24",
         "3416",
         "Historie",
         "DR P1",
         "DR P1",
         "Oplysning og kultur",
         "1257",
         "2024-10-08",
         "10:51:00",
         "0.3679742388758782"
        ],
        [
         "2",
         "00005776ec874bc9ab8ca964cf274858",
         "11032415412",
         "Kampen om historien",
         "Kampen om historien: Gaskamrene er en detalje - holocaustbenægtelse og revisionisme_11032415412",
         "app",
         "Tablet",
         "2024-10-08",
         "3393",
         "Historie",
         "DR P1",
         "DR P1",
         "Oplysning og kultur",
         "3395",
         "2024-11-28",
         "09:42:00",
         "1.0"
        ],
        [
         "3",
         "00005776ec874bc9ab8ca964cf274858",
         "11032415422",
         "Kampen om historien",
         "Kampen om historien: Libanons lange krig - kristne mod muslimer, rige mod fattige, Israel mod Iran_11032415422",
         "app",
         "Mobile Phone",
         "2024-10-15",
         "3427",
         "Historie",
         "DR P1",
         "DR P1",
         "Oplysning og kultur",
         "3425",
         "2024-10-30",
         "09:39:00",
         "0.9994163991829588"
        ],
        [
         "4",
         "00005776ec874bc9ab8ca964cf274858",
         "11032415432",
         "Kampen om historien",
         "Kampen om historien: Hvad har amerikanerne lært af borgerkrigen?_11032415432",
         "app",
         "Mobile Phone",
         "2024-10-22",
         "3365",
         "Historie",
         "DR P1",
         "DR P1",
         "Oplysning og kultur",
         "4681",
         "2024-12-01",
         "10:27:00",
         "1.0"
        ]
       ],
       "shape": {
        "columns": 16,
        "rows": 5
       }
      },
      "text/html": [
       "<div>\n",
       "<style scoped>\n",
       "    .dataframe tbody tr th:only-of-type {\n",
       "        vertical-align: middle;\n",
       "    }\n",
       "\n",
       "    .dataframe tbody tr th {\n",
       "        vertical-align: top;\n",
       "    }\n",
       "\n",
       "    .dataframe thead th {\n",
       "        text-align: right;\n",
       "    }\n",
       "</style>\n",
       "<table border=\"1\" class=\"dataframe\">\n",
       "  <thead>\n",
       "    <tr style=\"text-align: right;\">\n",
       "      <th></th>\n",
       "      <th>user_id</th>\n",
       "      <th>prd_number</th>\n",
       "      <th>series_title</th>\n",
       "      <th>unique_title</th>\n",
       "      <th>platform</th>\n",
       "      <th>device_type</th>\n",
       "      <th>pub_date</th>\n",
       "      <th>episode_duration</th>\n",
       "      <th>genre</th>\n",
       "      <th>branding_channel</th>\n",
       "      <th>mother_channel</th>\n",
       "      <th>category</th>\n",
       "      <th>content_time_spent</th>\n",
       "      <th>date</th>\n",
       "      <th>time</th>\n",
       "      <th>completion_rate</th>\n",
       "    </tr>\n",
       "  </thead>\n",
       "  <tbody>\n",
       "    <tr>\n",
       "      <th>0</th>\n",
       "      <td>00005776ec874bc9ab8ca964cf274858</td>\n",
       "      <td>11032415372</td>\n",
       "      <td>Kampen om historien</td>\n",
       "      <td>Kampen om historien: Jihadismen og kampen mod ...</td>\n",
       "      <td>app</td>\n",
       "      <td>Mobile Phone</td>\n",
       "      <td>2024-09-10</td>\n",
       "      <td>3416</td>\n",
       "      <td>Historie</td>\n",
       "      <td>DR P1</td>\n",
       "      <td>DR P1</td>\n",
       "      <td>Oplysning og kultur</td>\n",
       "      <td>1140</td>\n",
       "      <td>2024-09-10</td>\n",
       "      <td>14:44:00</td>\n",
       "      <td>0.333724</td>\n",
       "    </tr>\n",
       "    <tr>\n",
       "      <th>1</th>\n",
       "      <td>00005776ec874bc9ab8ca964cf274858</td>\n",
       "      <td>11032415392</td>\n",
       "      <td>Kampen om historien</td>\n",
       "      <td>Kampen om historien: Midt i en ny mellemkrigst...</td>\n",
       "      <td>app</td>\n",
       "      <td>Mobile Phone</td>\n",
       "      <td>2024-09-24</td>\n",
       "      <td>3416</td>\n",
       "      <td>Historie</td>\n",
       "      <td>DR P1</td>\n",
       "      <td>DR P1</td>\n",
       "      <td>Oplysning og kultur</td>\n",
       "      <td>1257</td>\n",
       "      <td>2024-10-08</td>\n",
       "      <td>10:51:00</td>\n",
       "      <td>0.367974</td>\n",
       "    </tr>\n",
       "    <tr>\n",
       "      <th>2</th>\n",
       "      <td>00005776ec874bc9ab8ca964cf274858</td>\n",
       "      <td>11032415412</td>\n",
       "      <td>Kampen om historien</td>\n",
       "      <td>Kampen om historien: Gaskamrene er en detalje ...</td>\n",
       "      <td>app</td>\n",
       "      <td>Tablet</td>\n",
       "      <td>2024-10-08</td>\n",
       "      <td>3393</td>\n",
       "      <td>Historie</td>\n",
       "      <td>DR P1</td>\n",
       "      <td>DR P1</td>\n",
       "      <td>Oplysning og kultur</td>\n",
       "      <td>3395</td>\n",
       "      <td>2024-11-28</td>\n",
       "      <td>09:42:00</td>\n",
       "      <td>1.000000</td>\n",
       "    </tr>\n",
       "    <tr>\n",
       "      <th>3</th>\n",
       "      <td>00005776ec874bc9ab8ca964cf274858</td>\n",
       "      <td>11032415422</td>\n",
       "      <td>Kampen om historien</td>\n",
       "      <td>Kampen om historien: Libanons lange krig - kri...</td>\n",
       "      <td>app</td>\n",
       "      <td>Mobile Phone</td>\n",
       "      <td>2024-10-15</td>\n",
       "      <td>3427</td>\n",
       "      <td>Historie</td>\n",
       "      <td>DR P1</td>\n",
       "      <td>DR P1</td>\n",
       "      <td>Oplysning og kultur</td>\n",
       "      <td>3425</td>\n",
       "      <td>2024-10-30</td>\n",
       "      <td>09:39:00</td>\n",
       "      <td>0.999416</td>\n",
       "    </tr>\n",
       "    <tr>\n",
       "      <th>4</th>\n",
       "      <td>00005776ec874bc9ab8ca964cf274858</td>\n",
       "      <td>11032415432</td>\n",
       "      <td>Kampen om historien</td>\n",
       "      <td>Kampen om historien: Hvad har amerikanerne lær...</td>\n",
       "      <td>app</td>\n",
       "      <td>Mobile Phone</td>\n",
       "      <td>2024-10-22</td>\n",
       "      <td>3365</td>\n",
       "      <td>Historie</td>\n",
       "      <td>DR P1</td>\n",
       "      <td>DR P1</td>\n",
       "      <td>Oplysning og kultur</td>\n",
       "      <td>4681</td>\n",
       "      <td>2024-12-01</td>\n",
       "      <td>10:27:00</td>\n",
       "      <td>1.000000</td>\n",
       "    </tr>\n",
       "  </tbody>\n",
       "</table>\n",
       "</div>"
      ],
      "text/plain": [
       "                            user_id   prd_number         series_title  \\\n",
       "0  00005776ec874bc9ab8ca964cf274858  11032415372  Kampen om historien   \n",
       "1  00005776ec874bc9ab8ca964cf274858  11032415392  Kampen om historien   \n",
       "2  00005776ec874bc9ab8ca964cf274858  11032415412  Kampen om historien   \n",
       "3  00005776ec874bc9ab8ca964cf274858  11032415422  Kampen om historien   \n",
       "4  00005776ec874bc9ab8ca964cf274858  11032415432  Kampen om historien   \n",
       "\n",
       "                                        unique_title platform   device_type  \\\n",
       "0  Kampen om historien: Jihadismen og kampen mod ...      app  Mobile Phone   \n",
       "1  Kampen om historien: Midt i en ny mellemkrigst...      app  Mobile Phone   \n",
       "2  Kampen om historien: Gaskamrene er en detalje ...      app        Tablet   \n",
       "3  Kampen om historien: Libanons lange krig - kri...      app  Mobile Phone   \n",
       "4  Kampen om historien: Hvad har amerikanerne lær...      app  Mobile Phone   \n",
       "\n",
       "     pub_date  episode_duration     genre branding_channel mother_channel  \\\n",
       "0  2024-09-10              3416  Historie            DR P1          DR P1   \n",
       "1  2024-09-24              3416  Historie            DR P1          DR P1   \n",
       "2  2024-10-08              3393  Historie            DR P1          DR P1   \n",
       "3  2024-10-15              3427  Historie            DR P1          DR P1   \n",
       "4  2024-10-22              3365  Historie            DR P1          DR P1   \n",
       "\n",
       "              category  content_time_spent        date      time  \\\n",
       "0  Oplysning og kultur                1140  2024-09-10  14:44:00   \n",
       "1  Oplysning og kultur                1257  2024-10-08  10:51:00   \n",
       "2  Oplysning og kultur                3395  2024-11-28  09:42:00   \n",
       "3  Oplysning og kultur                3425  2024-10-30  09:39:00   \n",
       "4  Oplysning og kultur                4681  2024-12-01  10:27:00   \n",
       "\n",
       "   completion_rate  \n",
       "0         0.333724  \n",
       "1         0.367974  \n",
       "2         1.000000  \n",
       "3         0.999416  \n",
       "4         1.000000  "
      ]
     },
     "execution_count": 22,
     "metadata": {},
     "output_type": "execute_result"
    }
   ],
   "source": [
    "# loading my transformed data\n",
    "df = pd.read_csv('raw_data/transformed_data.csv')\n",
    "df.head()"
   ]
  },
  {
   "cell_type": "markdown",
   "metadata": {},
   "source": [
    "The transformed data contains 144,047 unique users.  \n",
    "\n",
    "I want to make the cut on the `date` attribute, where the selected date is a Monday. In this way entire weeks are contained in the training and test data. This might be an appropriate decision since podcast listening and publication have weekly patterns. This must be investigated in the EDA and related work section about podcast listening patterns."
   ]
  },
  {
   "cell_type": "code",
   "execution_count": 28,
   "metadata": {},
   "outputs": [
    {
     "name": "stdout",
     "output_type": "stream",
     "text": [
      "% of total interactions 0.880448297108235 (2627889)\n",
      "The training data contains 1585284 interactions, which is 0.6032537903998229 of the total data\n",
      "The test data contains 1042605 interactions, which is 0.3967462096001772 of the total data\n",
      "Number of common users:  65846\n",
      "% of total users 0.45711469173255953\n"
     ]
    }
   ],
   "source": [
    "# testing size of train - and test data when splitting on different dates\n",
    "split_date = \"2024-10-28\"\n",
    "\n",
    "# splitting the data\n",
    "train_df = df[df['date'] < split_date]\n",
    "test_df = df[df['date'] >= split_date]\n",
    "\n",
    "# number of unique users both in the train and test data\n",
    "common_users = set(train_df['user_id']).intersection(set(test_df['user_id']))\n",
    "n_common_users = len(common_users)\n",
    "\n",
    "# filter df according to the common users\n",
    "train_df_common = train_df[train_df['user_id'].isin(common_users)]\n",
    "test_df_common = test_df[test_df['user_id'].isin(common_users)]\n",
    "\n",
    "# printing the size of the train and test data\n",
    "train_interactions = len(train_df_common)\n",
    "test_interactions = len(test_df_common)\n",
    "total_interactions = train_interactions + test_interactions\n",
    "df_interactions = len(df)\n",
    "perc_interactions = total_interactions / df_interactions\n",
    "print(f\"% of total interactions {perc_interactions} ({total_interactions})\")\n",
    "train_perc = train_interactions / total_interactions\n",
    "test_perc = test_interactions / total_interactions\n",
    "print(\"The training data contains\", train_interactions, \"interactions, which is\", train_perc, \"of the total data\")\n",
    "print(\"The test data contains\", test_interactions, \"interactions, which is\", test_perc, \"of the total data\")  \n",
    "\n",
    "total_users = len(set(df['user_id']))\n",
    "perc_users = n_common_users / total_users\n",
    "print(\"Number of common users: \", n_common_users) \n",
    "print(f\"% of total users {perc_users}\")"
   ]
  },
  {
   "cell_type": "code",
   "execution_count": 29,
   "metadata": {},
   "outputs": [
    {
     "name": "stdout",
     "output_type": "stream",
     "text": [
      "         date  train%  test%  %users  %interactions\n",
      "0  2024-10-28    60.3   39.7    45.7           88.0\n",
      "1  2024-11-04    67.6   32.4    44.7           87.3\n",
      "2  2024-11-11    74.7   25.3    42.4           85.8\n",
      "3  2024-11-18    82.1   17.9    38.5           82.5\n"
     ]
    }
   ],
   "source": [
    "data = {\n",
    "    'date': ['2024-10-28', '2024-11-04', '2024-11-11', '2024-11-18'],\n",
    "    'train%': [60.3, 67.6, 74.7, 82.1],\n",
    "    'test%': [39.7, 32.4, 25.3, 17.9],\n",
    "    '%users': [45.7, 44.7, 42.4, 38.5],\n",
    "    '%interactions': [88.0, 87.3, 85.8, 82.5]\n",
    "}\n",
    "\n",
    "df = pd.DataFrame(data)\n",
    "print(df)"
   ]
  }
 ],
 "metadata": {
  "kernelspec": {
   "display_name": "Python 3",
   "language": "python",
   "name": "python3"
  },
  "language_info": {
   "codemirror_mode": {
    "name": "ipython",
    "version": 3
   },
   "file_extension": ".py",
   "mimetype": "text/x-python",
   "name": "python",
   "nbconvert_exporter": "python",
   "pygments_lexer": "ipython3",
   "version": "3.11.9"
  }
 },
 "nbformat": 4,
 "nbformat_minor": 2
}
